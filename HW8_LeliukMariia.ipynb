{
  "nbformat": 4,
  "nbformat_minor": 0,
  "metadata": {
    "colab": {
      "provenance": []
    },
    "kernelspec": {
      "name": "python3",
      "display_name": "Python 3"
    },
    "language_info": {
      "name": "python"
    }
  },
  "cells": [
    {
      "cell_type": "markdown",
      "source": [
        "# Task 1"
      ],
      "metadata": {
        "id": "ntufkqI23Plq"
      }
    },
    {
      "cell_type": "markdown",
      "source": [
        "$$\n",
        "H = 75, T = 25\n",
        "$$\n",
        "\n",
        "$$\n",
        "\\max \\limits_{p} L(p) = p^{75} \\cdot (1-p)^{25}, p \\in [0, 1]\n",
        "$$\n",
        "\n",
        "$$\n",
        "\\frac{∂L(p)}{∂p} = 75p^{74}(1-p)^{25} -p^{75} \\cdot 25 (1-p)^{24} = 0\n",
        "$$\n",
        "\n",
        "$$\n",
        "75 - 75p - 25p = 0\n",
        "$$\n",
        "\n",
        "$$\n",
        "p = 0.75\n",
        "$$"
      ],
      "metadata": {
        "id": "X8scT1C53Ve-"
      }
    },
    {
      "cell_type": "markdown",
      "source": [],
      "metadata": {
        "id": "lp4Atj_Fraut"
      }
    },
    {
      "cell_type": "markdown",
      "source": [
        "# Task 2"
      ],
      "metadata": {
        "id": "s-FbuBErh173"
      }
    },
    {
      "cell_type": "markdown",
      "source": [
        "$y = x_1 + x_2$\n",
        "\n",
        "Assuming that $x_1$ and $x_2$ are independant, their joint distribution function:\n"
      ],
      "metadata": {
        "id": "PlMY5qXRh3-E"
      }
    },
    {
      "cell_type": "markdown",
      "source": [
        "$Q(y) = ∫P_{x1}(x_1|\\sigma_1)P_{x2}(y-x_1|\\sigma_2) dx_1 $ - is a probability distribution function of $f(y) = x_1 + x_2$"
      ],
      "metadata": {
        "id": "xaJ4rEOXkqBx"
      }
    },
    {
      "cell_type": "markdown",
      "source": [
        "$$Q(y) = ∫P_{x1}(x_1|\\sigma_1)P_{x2}(y-x_1|\\sigma_2) dx_1  = \\int \\frac{1}{\\sqrt{2\\pi}\\sigma_1} \\exp (-\\frac{x_1^2}{2\\sigma_1^2}) \\frac{1}{\\sqrt{2\\pi}\\sigma_2} \\exp (- \\frac{(y - x_1)^2}{2\\sigma_2^2}) dx_1$$\n",
        "\n",
        "$$\n",
        "= \\int \\frac{1}{2\\pi \\sigma_1 \\sigma_2} \\exp (-\\frac{x_1^2 \\sigma_2^2 + \\sigma_1^2 (y - x_1)^2}{2\\sigma_1^2 \\sigma_2^2}) dx_1\n",
        "$$\n",
        "\n",
        "$$ =  \\int \\frac{1}{2\\pi \\sigma_1 \\sigma_2} \\exp (- \\frac{x_1^2\\sigma_2^2 + \\sigma_1^2y^2 - 2\\sigma_1^2yx_1 + \\sigma_1^2x_1^2}{2\\sigma_1^2 \\sigma_2^2})dx_1\n",
        "$$\n",
        "\n",
        "$$\n",
        "= \\int \\frac{1}{2\\pi \\sigma_1 \\sigma_2} \\exp (-\\frac{x_1(\\sigma_1^2 + \\sigma_2^2) - 2x_1y\\sigma_1^2 + \\sigma_1^2y^2}{2\\sigma_1^2 \\sigma_2^2})dx_1\n",
        "$$\n",
        "\n",
        "$$\n",
        " = \\int \\frac{1}{2\\pi \\sigma_1 \\sigma_2} \\exp(-\\frac{1}{2} \\frac{x_1^2 - 2x_1\\frac{\\sigma_1^2y}{(\\sigma_1^2 + \\sigma_2^2)} +\\frac{\\sigma_1^4y^2}{(\\sigma_1^2 + \\sigma_2^2)^2} - \\frac{\\sigma_1^4y^2}{(\\sigma_1^2 + \\sigma_2^2)^2} + \\frac{y^2\\sigma_1^2}{(\\sigma_1^2 + \\sigma_2^2)}}{\\frac{\\sigma_1^2 \\sigma_2^2}{\\sigma_1^2 + \\sigma_2^2}})dx_1\n",
        "$$\n",
        "\n",
        "$$\n",
        "= \\int \\frac{1}{\\sqrt{2\\pi} \\frac{\\sigma_1 \\sigma_2}{\\sqrt{\\sigma_1^2 + \\sigma_2^2}}} \\exp(-\\frac{1}{2} \\frac{(x_1 - \\frac{\\sigma_1 y}{\\sigma_1^2 + \\sigma_2^2})^2}{\\frac{\\sigma_1^2 \\sigma_2^2}{\\sigma_1^2 + \\sigma_2^2}}) dx_1 \\int \\frac{1}{\\sqrt{2\\pi} \\sqrt{\\sigma_1^2 + \\sigma_2^2}} \\exp (-\\frac{1}{2} \\frac{y^2\\sigma_1^2(\\sigma_1^2 + \\sigma_2^2) - \\sigma_1^4 y^2}{(\\sigma_1^2 + \\sigma_2^2)\\sigma_1^2 \\sigma_2^2}) dx_1\n",
        "$$"
      ],
      "metadata": {
        "id": "aaq0z4MHmF5s"
      }
    },
    {
      "cell_type": "markdown",
      "source": [
        "The first integral is a normal distribution with $\\sigma = \\frac{\\sigma_1\\sigma_2}{\\sqrt{\\sigma_1^2 + \\sigma_2^2}}$ and $\\mu = \\frac{\\sigma_1y}{\\sigma_1^2 + \\sigma_2^2}$, so it's integral equals 1.\n",
        "So we should find only value of the second integral."
      ],
      "metadata": {
        "id": "YHI5IaDd2wRK"
      }
    },
    {
      "cell_type": "markdown",
      "source": [
        "$$\n",
        "Q(y) = \\int \\frac{1}{\\sqrt{2\\pi} \\sqrt{\\sigma_1^2 + \\sigma_2^2}} \\exp (-\\frac{1}{2} \\frac{y^2\\sigma_1^2(\\sigma_1^2 + \\sigma_2^2) - \\sigma_1^4 y^2}{(\\sigma_1^2 + \\sigma_2^2)\\sigma_1^2 \\sigma_2^2}) dx_1\n",
        "$$\n",
        "\n",
        "$$\n",
        "= \\frac{1}{\\sqrt{2\\pi} \\sqrt{\\sigma_1^2 + \\sigma_2^2}} \\exp(-\\frac{y^2}{2(\\sigma_1^2 + \\sigma_2^2)})\n",
        "$$"
      ],
      "metadata": {
        "id": "9c7T191-3RyY"
      }
    },
    {
      "cell_type": "markdown",
      "source": [
        "Resulting value is a normal distribution with $\\sigma = \\sqrt{\\sigma_1^2 + \\sigma_2^2}$ and $\\mu = 0$"
      ],
      "metadata": {
        "id": "mmCblKqL38kh"
      }
    },
    {
      "cell_type": "code",
      "source": [],
      "metadata": {
        "id": "3ohf_5-9kozG"
      },
      "execution_count": 58,
      "outputs": []
    },
    {
      "cell_type": "markdown",
      "source": [
        "# Task 5."
      ],
      "metadata": {
        "id": "rBV68w0iJ5Yl"
      }
    },
    {
      "cell_type": "code",
      "source": [],
      "metadata": {
        "id": "zHeSMKV3K6Ui"
      },
      "execution_count": 58,
      "outputs": []
    },
    {
      "cell_type": "markdown",
      "source": [
        "**1. Compute the maximum likelihood estimate of the coins biases $p_1$ and $p_2$.**\n",
        "\n",
        "We have to maximize the marginal likelihood of the observed data:\n",
        "$$\n",
        "L({\\boldsymbol {\\theta }};\\mathbf {X} )\\propto P(\\mathbf {X} \\mid {\\boldsymbol {\\theta }})=\\int P(\\mathbf {X} ,\\mathbf {Z} \\mid {\\boldsymbol {\\theta }})\\,d\\mathbf {Z} =\\int P(\\mathbf {X} \\mid \\mathbf {Z} ,{\\boldsymbol {\\theta }})P(\\mathbf {Z} \\mid {\\boldsymbol {\\theta }})\\,d\\mathbf {Z}\n",
        "$$\n",
        "\n",
        ", where:\n",
        "* $\\theta$ is a vector of parameters, $\\theta=(p_A, p_B)$, which we want to find.\n",
        "* Z is a vector of ids of coins which were used in the exeriments: $Z = [0, 1, 0]$ or $Z=[0, 0, 0]$.\n",
        "* X is a vector of observations: a series of $[T, H, T, T, ...]$\n",
        "\n",
        "Since we have 8 possible variants of Z, and probability of choosing coin at any experiment is the same, we can rewrite it to:\n",
        "\n",
        "$$\n",
        "L({\\boldsymbol {\\theta }};\\mathbf {X} )\\propto  \\sum \\limits_{Z} P(X | Z, Q)\n",
        "$$"
      ],
      "metadata": {
        "id": "TQYO5RrPKqSf"
      }
    },
    {
      "cell_type": "markdown",
      "source": [
        "$$\n",
        "P(X|Z, Q) = P_1(X|Z, Q) * P_2(X|Z, Q) * P_2(X|Z, Q)\n",
        "$$\n",
        "\n",
        "$$\n",
        "P_i(X|Z, Q) ∝ p_{z_i}^{k_i} (1 - p_{z_i})^{20 - k_i}\n",
        "$$\n",
        "\n",
        ", where\n",
        "* $i$ - number of experiment: 1,2 or 3\n",
        "* $z_i$ - coin chosen in i-th experiment\n",
        "* $p_{z_i}$ - probability of HEAD for coin $z_i$\n",
        "* $k_i$ - number of times when we had HEAD in i-th experiment"
      ],
      "metadata": {
        "id": "w8YqSymEMVA8"
      }
    },
    {
      "cell_type": "code",
      "source": [
        "import numpy as np\n",
        "import jax\n",
        "import jax.numpy as jnp\n",
        "jax.config.update(\"jax_enable_x64\", True)\n",
        "from scipy import optimize\n",
        "\n",
        "result = [\n",
        "    'TTTTHHHTTTHTTTHHTTTT',\n",
        "    'HHHHHHHHHHHHHTTTHHHH',\n",
        "    'HHHTHHHHHHTHTTHTHHHH'\n",
        "]"
      ],
      "metadata": {
        "id": "W5Y8vUxvQ2KE"
      },
      "execution_count": 1,
      "outputs": []
    },
    {
      "cell_type": "code",
      "source": [
        "import itertools\n",
        "\n",
        "coins = [False, True] # if True, first coin was chosen\n",
        "Z = list(itertools.product(coins, repeat=3))\n",
        "Z"
      ],
      "metadata": {
        "colab": {
          "base_uri": "https://localhost:8080/"
        },
        "id": "vVRSOuMwQ8Et",
        "outputId": "b2c357bc-0727-4f45-8fec-9ed885c977da"
      },
      "execution_count": 2,
      "outputs": [
        {
          "output_type": "execute_result",
          "data": {
            "text/plain": [
              "[(False, False, False),\n",
              " (False, False, True),\n",
              " (False, True, False),\n",
              " (False, True, True),\n",
              " (True, False, False),\n",
              " (True, False, True),\n",
              " (True, True, False),\n",
              " (True, True, True)]"
            ]
          },
          "metadata": {},
          "execution_count": 2
        }
      ]
    },
    {
      "cell_type": "code",
      "source": [
        "def prob_exp(z, p1, p2, exp_num):\n",
        "  heads = result[exp_num].count('H')\n",
        "  tails = result[exp_num].count('T')\n",
        "\n",
        "  p = p1 if z[exp_num] else p2\n",
        "  p = min([1, max([0, p])])\n",
        "  return (p**heads) * ((1-p)**tails)\n",
        "\n",
        "def prob(z, p1, p2):\n",
        "  return prob_exp(z, p1, p2, 0) * prob_exp(z, p1, p2, 1) * prob_exp(z, p1, p2, 2)\n",
        "\n",
        "def L(p, multiplier = 1):\n",
        "  loss_summ = 0\n",
        "  for z in Z:\n",
        "    loss_summ += prob(z, p[0], p[1])\n",
        "  return loss_summ*multiplier\n"
      ],
      "metadata": {
        "id": "ZaLKgLoeShos"
      },
      "execution_count": 3,
      "outputs": []
    },
    {
      "cell_type": "code",
      "source": [
        "import matplotlib.pyplot as plt\n",
        "\n",
        "FS = [ [ L([p1, p2]) for p1 in np.linspace(0, 1, 100) ] for p2 in np.linspace(0, 1, 100) ]\n",
        "plt.imshow(FS)"
      ],
      "metadata": {
        "colab": {
          "base_uri": "https://localhost:8080/",
          "height": 452
        },
        "id": "kwQiZ1YXYoTJ",
        "outputId": "17554d4b-8da8-4dcc-fd6e-9ed2f0593394"
      },
      "execution_count": 4,
      "outputs": [
        {
          "output_type": "execute_result",
          "data": {
            "text/plain": [
              "<matplotlib.image.AxesImage at 0x7d99f888eb30>"
            ]
          },
          "metadata": {},
          "execution_count": 4
        },
        {
          "output_type": "display_data",
          "data": {
            "text/plain": [
              "<Figure size 640x480 with 1 Axes>"
            ],
            "image/png": "[encoded data removed]"
          },
          "metadata": {}
        }
      ]
    },
    {
      "cell_type": "markdown",
      "source": [
        "Lets solve optimization task and find exact numbers.\n",
        "\n",
        "$L(p)$ values are very small, so to make calculations more stable lets use norm coeffifient:\n",
        "\n",
        "$$\n",
        "\\int\\limits_{p_1=0}^{1}\\int\\limits_{p_2=0}^{1}P(p1, p2|X)dp_1dp_2 = 1\n",
        "$$"
      ],
      "metadata": {
        "id": "5wpyJdF4TxzP"
      }
    },
    {
      "cell_type": "code",
      "source": [
        "from scipy.integrate import dblquad\n",
        "\n",
        "res = dblquad(lambda x, y: L([x, y]), 0, 1, 0, 1)\n",
        "norm_coeff = 1.0 / res[0]\n",
        "norm_coeff"
      ],
      "metadata": {
        "colab": {
          "base_uri": "https://localhost:8080/"
        },
        "id": "rjnJNmu7S9c4",
        "outputId": "2e3a75b3-0ac3-4fdc-833e-bf57bdc43549"
      },
      "execution_count": 5,
      "outputs": [
        {
          "output_type": "execute_result",
          "data": {
            "text/plain": [
              "1251877956785553.5"
            ]
          },
          "metadata": {},
          "execution_count": 5
        }
      ]
    },
    {
      "cell_type": "code",
      "source": [
        "from scipy import optimize\n",
        "from scipy.optimize import LinearConstraint\n",
        "from scipy.optimize import NonlinearConstraint\n",
        "from scipy.optimize import Bounds\n",
        "\n",
        "bounds = Bounds([0.0, 0.0], [1.0, 1.0])\n",
        "\n",
        "def loss(p):\n",
        "  return -L(p, multiplier=norm_coeff)\n",
        "\n",
        "p0 = np.random.uniform(low=0.0, high=1.0, size=(2,))\n",
        "res = optimize.minimize(loss,\n",
        "                        p0,\n",
        "                        jac = jax.grad(loss),\n",
        "                        hess=jax.hessian(loss),\n",
        "                        method='trust-constr',\n",
        "                        bounds=bounds\n",
        "                        )\n",
        "print(f'Best estimation of coins biases p_1 and p_2 ={res.x}')"
      ],
      "metadata": {
        "colab": {
          "base_uri": "https://localhost:8080/"
        },
        "id": "K1Ioea38T3a-",
        "outputId": "d551ea35-851a-4a40-dfc0-4444604fa623"
      },
      "execution_count": 6,
      "outputs": [
        {
          "output_type": "stream",
          "name": "stdout",
          "text": [
            "Best estimation of coins biases p_1 and p_2 =[0.80000314 0.30009811]\n"
          ]
        }
      ]
    },
    {
      "cell_type": "code",
      "source": [],
      "metadata": {
        "id": "p5vomkqL_IWe"
      },
      "execution_count": 64,
      "outputs": []
    },
    {
      "cell_type": "markdown",
      "source": [
        "**2. Estimate a posteriori probability that biases of the coins are approximately the same: $P(|p_1 - p_2| < 0.1)$.**\n"
      ],
      "metadata": {
        "id": "ijBxc4tYTuIp"
      }
    },
    {
      "cell_type": "markdown",
      "source": [
        "To find probability we have to intergrate by all such $p_1$ and $p_2$ that $|p1 - p2| < 0.1$:\n",
        "\n",
        "$$\n",
        "\\int\\limits_{p_1=0}^{1}\\int\\limits_{p_2=p_1 - 0.1}^{p_1 + 0.1}P(p1, p2|X)dp_1dp_2 = 1\n",
        "$$\n",
        "\n",
        ", assuming that $P(p_i) = 0$ for $p_i < 0$"
      ],
      "metadata": {
        "id": "rT16ivCKtYCy"
      }
    },
    {
      "cell_type": "markdown",
      "source": [
        "Nomalization coefficent, calculated earlier, is not quite right - it gives probabilities > 1"
      ],
      "metadata": {
        "id": "IIrSOo1FBgVn"
      }
    },
    {
      "cell_type": "code",
      "source": [
        "norm_coeff * L([0.8, 0.3])"
      ],
      "metadata": {
        "colab": {
          "base_uri": "https://localhost:8080/"
        },
        "id": "wVaBRmrUBpMX",
        "outputId": "0f416109-998f-4cd8-b611-2daa303526c6"
      },
      "execution_count": 65,
      "outputs": [
        {
          "output_type": "execute_result",
          "data": {
            "text/plain": [
              "12.556814663146152"
            ]
          },
          "metadata": {},
          "execution_count": 65
        }
      ]
    },
    {
      "cell_type": "markdown",
      "source": [
        "Lets calculate numerically:"
      ],
      "metadata": {
        "id": "CX6WNlioCuaa"
      }
    },
    {
      "cell_type": "code",
      "source": [
        "data = [ [ L([p1, p2]) for p1 in np.linspace(0, 1, 1000) ] for p2 in np.linspace(0, 1, 1000) ]"
      ],
      "metadata": {
        "id": "c-AVHsugtLug"
      },
      "execution_count": 66,
      "outputs": []
    },
    {
      "cell_type": "code",
      "source": [
        "norm_coeff = 1 / sum(np.array(data).flatten())"
      ],
      "metadata": {
        "id": "rzxfC9s9DLp6"
      },
      "execution_count": 67,
      "outputs": []
    },
    {
      "cell_type": "code",
      "source": [
        "norm_coeff * L([0.8, 0.3])"
      ],
      "metadata": {
        "colab": {
          "base_uri": "https://localhost:8080/"
        },
        "id": "LLWKTUMGDw1K",
        "outputId": "d7834d2f-ac24-4e70-d66d-073c3a74c6b1"
      },
      "execution_count": 68,
      "outputs": [
        {
          "output_type": "execute_result",
          "data": {
            "text/plain": [
              "1.2581929560601826e-05"
            ]
          },
          "metadata": {},
          "execution_count": 68
        }
      ]
    },
    {
      "cell_type": "code",
      "source": [
        "data_small_diff = [ [ L([p1, p2]) for p1 in np.linspace(0, 1, 1000) if abs(p1 - p2) < 0.1] for p2 in np.linspace(0, 1, 1000) ]"
      ],
      "metadata": {
        "id": "9yhT3uZAEAOM"
      },
      "execution_count": 69,
      "outputs": []
    },
    {
      "cell_type": "code",
      "source": [
        "probs_sum = 0\n",
        "for l in data_small_diff:\n",
        "  for val in l:\n",
        "    probs_sum += val\n",
        "\n",
        "probability = probs_sum * norm_coeff\n",
        "print(f'Probability that |p_1 - p_2| < 0.1 is {probability*100:.3f}%')"
      ],
      "metadata": {
        "colab": {
          "base_uri": "https://localhost:8080/"
        },
        "id": "MoHXNRDEEATY",
        "outputId": "da827317-d00e-4b59-cbb7-4fbdabd4ca0f"
      },
      "execution_count": 75,
      "outputs": [
        {
          "output_type": "stream",
          "name": "stdout",
          "text": [
            "Probability that |p_1 - p_2| < 0.1 is 0.360%\n"
          ]
        }
      ]
    },
    {
      "cell_type": "code",
      "source": [],
      "metadata": {
        "id": "4np20pBlHFQn"
      },
      "execution_count": null,
      "outputs": []
    },
    {
      "cell_type": "markdown",
      "source": [
        "**3.Estimate a posteriori probability that in each of the three experiments above exactly the same coin was selected.**"
      ],
      "metadata": {
        "id": "5lfyWU5CHFi4"
      }
    },
    {
      "cell_type": "markdown",
      "source": [
        "Need to check 2 possible outcomes: Z = [0, 0, 0], [1, 1, 1].\n",
        "\n",
        "$$\n",
        "P(Z|X) \\propto \\int\\limits_{p1=0}^{1}\\int\\limits_{p2=0}^{1} P(X|Z, Q) dp_1 dp_2\n",
        "$$\n",
        "\n",
        "So, need to find: $P(Z_{[0, 0, 0]}|X) + P(Z_{[1, 1, 1]}|X)$, and $\\sum\\limits_{Z} P(Z_i|X)  = 1$"
      ],
      "metadata": {
        "id": "kKYwA0sRHZxF"
      }
    },
    {
      "cell_type": "code",
      "source": [
        "first_exp = [False, False, False]\n",
        "second_exp = [True, True, True]\n",
        "\n",
        "required_probs = [ [ [ prob(z, p1, p2) for p1 in np.linspace(0, 1, 1000) ] for p2 in np.linspace(0, 1, 1000) ] for z in [first_exp, second_exp]]"
      ],
      "metadata": {
        "id": "bM-gFOr3JS04"
      },
      "execution_count": 76,
      "outputs": []
    },
    {
      "cell_type": "code",
      "source": [
        "probability_of_two_outcomes = sum(np.array(required_probs).flatten()) * norm_coeff\n",
        "print(f'Probability that Z=[0, 0, 0] or Z = [1, 1, 1] is {probability_of_two_outcomes*100:.3f}%')"
      ],
      "metadata": {
        "colab": {
          "base_uri": "https://localhost:8080/"
        },
        "id": "BjxsiQ9WKCfm",
        "outputId": "40bfcbfe-f2ab-4d89-bc0d-ab07d07a031d"
      },
      "execution_count": 80,
      "outputs": [
        {
          "output_type": "stream",
          "name": "stdout",
          "text": [
            "Probability that Z=[0, 0, 0] or Z = [1, 1, 1] is 0.290%\n"
          ]
        }
      ]
    },
    {
      "cell_type": "code",
      "source": [],
      "metadata": {
        "id": "Ca-BVz7xLoTd"
      },
      "execution_count": null,
      "outputs": []
    },
    {
      "cell_type": "code",
      "source": [
        "# just checking what combination is the most probable\n",
        "for z in Z:\n",
        "  probability =  [ [ prob(z, p1, p2) for p1 in np.linspace(0, 1, 1000) ] for p2 in np.linspace(0, 1, 1000) ]\n",
        "  probability = sum(np.array(probability).flatten()) * norm_coeff\n",
        "  print(f'Probability that Z={z} is {probability*100:.3f}%')\n"
      ],
      "metadata": {
        "colab": {
          "base_uri": "https://localhost:8080/"
        },
        "id": "LbrUz5s5K-Fo",
        "outputId": "857d5009-54c9-4675-99aa-18787d521c1b"
      },
      "execution_count": 81,
      "outputs": [
        {
          "output_type": "stream",
          "name": "stdout",
          "text": [
            "Probability that Z=(False, False, False) is 0.145%\n",
            "Probability that Z=(False, False, True) is 0.106%\n",
            "Probability that Z=(False, True, False) is 0.972%\n",
            "Probability that Z=(False, True, True) is 48.778%\n",
            "Probability that Z=(True, False, False) is 48.778%\n",
            "Probability that Z=(True, False, True) is 0.972%\n",
            "Probability that Z=(True, True, False) is 0.106%\n",
            "Probability that Z=(True, True, True) is 0.145%\n"
          ]
        }
      ]
    },
    {
      "cell_type": "code",
      "source": [],
      "metadata": {
        "id": "GHJmSC7fK-KB"
      },
      "execution_count": null,
      "outputs": []
    },
    {
      "cell_type": "markdown",
      "source": [
        "# Task 6"
      ],
      "metadata": {
        "id": "4eOKDyg1nuWr"
      }
    },
    {
      "cell_type": "markdown",
      "source": [
        "$$\n",
        "x_t = x_{t-1} + u_{t-1} + \\epsilon_{t-1}\n",
        "$$\n",
        "\n",
        "$$\n",
        "z_t = x_{t} + \\eta_t\n",
        "$$\n",
        "\n",
        "$$\n",
        "P(\\epsilon_t) \\sim N(0, \\sigma)\n",
        "$$\n",
        "\n",
        "$$\n",
        "P(\\eta_t) \\sim N(0, 2\\sigma)\n",
        "$$\n",
        "\n",
        "$$\n",
        "u_t = u\n",
        "$$"
      ],
      "metadata": {
        "id": "ZwceHZVOn5CK"
      }
    },
    {
      "cell_type": "markdown",
      "source": [
        "**a)**\n",
        "\n",
        "$P(x_0|z_0) \\propto P(z_0|x_0) =  P(\\eta_0 | x_0) = \\frac{1}{\\sqrt{2\\pi}2\\sigma} \\exp(-\\frac{1}{2} \\frac{\\eta_0^2}{4\\sigma^2}) = \\frac{1}{\\sqrt{2\\pi}2\\sigma} \\exp(\\frac{-\\eta_0^2}{8\\sigma^2}) = \\frac{1}{\\sqrt{2\\pi}2\\sigma} \\exp(\\frac{-(z_0 - x_0)^2}{8\\sigma^2}) $\n",
        "\n",
        "This is a normal distribution with parameters:\n",
        "$$mean = z_0$$\n",
        "$$std = 2\\sigma$$"
      ],
      "metadata": {
        "id": "7IywHc52nx2X"
      }
    },
    {
      "cell_type": "markdown",
      "source": [
        "**b).**\n",
        "\n",
        "$P(x_0|z_0, z_1) \\propto P(z_0, z_1|x_0) = P(\\eta_0, \\eta_1, \\epsilon_0|x_0) = \\int\\limits_{x1}P(\\eta_0, \\eta_1, \\epsilon_0|x_0, x_1)dx_1$\n",
        "\n",
        "$\n",
        "P(\\eta_0, \\eta_1, \\epsilon_0|x_0, x_1) = P(\\eta_0) * P(\\eta_1) * P(\\epsilon_0)\n",
        "= \\frac{1}{\\sqrt{2\\pi}2\\sigma} \\exp(-\\frac{1}{2} \\frac{\\eta_0^2}{4\\sigma^2}) \\cdot \\frac{1}{\\sqrt{2\\pi}2\\sigma} \\exp(-\\frac{1}{2} \\frac{\\eta_1^2}{4\\sigma^2}) \\cdot \\frac{1}{\\sqrt{2\\pi}\\sigma} \\exp(-\\frac{1}{2} \\frac{\\epsilon_1^2}{\\sigma^2})$\n",
        "\n",
        "$\\eta_0 = z_0 - x_0$\n",
        "\n",
        "$\\eta_1 = z_1 - x_1$\n",
        "\n",
        "$\\epsilon_0 = x_1 - x_0 - u$\n",
        "\n",
        "=> $P(\\eta_0, \\eta_1, \\epsilon_0|x_0, x_1) = \\frac{1}{\\sqrt{2\\pi}2\\sigma} \\exp(-\\frac{(z_0 - x_0)^2}{8\\sigma^2}) \\cdot \\frac{1}{\\sqrt{2\\pi}2\\sigma} \\exp(-\\frac{(z_1 - x_1)^2}{8\\sigma^2}) \\cdot \\frac{1}{\\sqrt{2\\pi}\\sigma} \\exp(-\\frac{(x_1 - x_0 - u)^2}{2\\sigma^2})$\n"
      ],
      "metadata": {
        "id": "n9cPt-WEqAXV"
      }
    },
    {
      "cell_type": "markdown",
      "source": [
        "$$P(x_0|z_0, z_1) \\propto \\int\\limits_{x1}P(\\eta_0, \\eta_1, \\epsilon_0|x_0, x_1)dx_1 $$\n",
        "$$= \\int\\limits_{x1}\\frac{1}{\\sqrt{2\\pi}2\\sigma} \\exp(-\\frac{(z_0 - x_0)^2}{8\\sigma^2}) \\cdot \\frac{1}{\\sqrt{2\\pi}2\\sigma} \\exp(-\\frac{(z_1 - x_1)^2}{8\\sigma^2}) \\cdot \\frac{1}{\\sqrt{2\\pi}\\sigma} \\exp(-\\frac{(x_1 - x_0 - u)^2}{2\\sigma^2}) dx_1$$\n",
        "\n",
        "$$\n",
        " = \\frac{1}{8\\pi\\sqrt{2\\pi}\\sigma^3} \\exp(-\\frac{(z_0 - x_0)^2}{8\\sigma^2}) \\int\\limits_{x1} \\exp(-\\frac{(z_1 - x_1)^2 + 4(x_1 - x_0 - u)^2)}{8\\sigma^2}) dx_1\n",
        "$$"
      ],
      "metadata": {
        "id": "nkL_6Y-S2Nf1"
      }
    },
    {
      "cell_type": "markdown",
      "source": [
        "$$\n",
        " = \\frac{1}{8\\pi\\sqrt{2\\pi}\\sigma^3} \\exp(-\\frac{(z_0 - x_0)^2}{8\\sigma^2}) \\int\\limits_{x1} \\exp(-\\frac{(z_1^2 -2z_1x_1 + x_1^2 + 4x_1^2 - 8x_1x_0 + 4x_0^2 - 8x_1u + 8x_0u + 4u^2)}{8\\sigma^2}) dx_1\n",
        "$$\n",
        "\n",
        "$$\n",
        " = \\frac{1}{8\\pi\\sqrt{2\\pi}\\sigma^3} \\exp(-\\frac{(z_0 - x_0)^2}{8\\sigma^2}) \\int\\limits_{x1} \\exp(-\\frac{5x_1^2 + x_1(-2z_1 -8x_0-8u) + (z_1^2 + 4x_0^2 + 8x_0u +4u^2)}{8\\sigma^2}) dx_1\n",
        "$$\n",
        "\n",
        "$$\n",
        " = \\frac{1}{8\\pi\\sqrt{2\\pi}\\sigma^3} \\exp(-\\frac{(z_0 - x_0)^2}{8\\sigma^2}) \\int\\limits_{x1} \\exp(-\\frac{1}{2}x_1^2\\frac{5}{\\sigma^24} + x_1\\frac{2z_1 + 8x_0 + 8u}{8\\sigma^2} - \\frac{z_1^2 + 4x_0^2 + 8x_0u +4u^2}{8\\sigma^2}) dx_1\n",
        "$$"
      ],
      "metadata": {
        "id": "KB3387_XBOfl"
      }
    },
    {
      "cell_type": "markdown",
      "source": [
        "Using equation: $∫e^{-\\frac{1}{2}x^TAx + B^Tx}dx = \\sqrt{\\frac{2\\pi}{detA}}e^{\\frac{1}{2}B^TA^{-1}B}$, with $A = \\frac{5}{4\\sigma^2}$ and B = $\\frac{z_1 + 4x_0 + 4u}{4\\sigma^2}$:"
      ],
      "metadata": {
        "id": "PpxETe7bBOts"
      }
    },
    {
      "cell_type": "markdown",
      "source": [
        "$$\n",
        " = \\frac{1}{8\\pi\\sqrt{2\\pi}\\sigma^3} \\exp(-\\frac{(z_0 - x_0)^2}{8\\sigma^2} - \\frac{z_1^2 + 4x_0^2 + 8x_0u +4u^2}{8\\sigma^2}) \\frac{\\sqrt{2\\pi}2\\sigma}{\\sqrt{5}} \\exp(\\frac{1}{2} \\frac{(z_1 + 4x_0 + 4u)^2}{16\\sigma^4} \\frac{4\\sigma^2}{5})\n",
        "$$\n",
        "\n",
        "$$\n",
        "= \\frac{1}{4\\sqrt{5}\\pi\\sigma^2} \\exp(-\\frac{(z_0 - x_0)^2}{8\\sigma^2} -\\frac{(z_1 - x_0 - u)^2}{10\\sigma^2})\n",
        "$$"
      ],
      "metadata": {
        "id": "Rho_ND1XBOzW"
      }
    },
    {
      "cell_type": "markdown",
      "source": [
        "This is a normal distribution with parameters:\n",
        "$$mean = \\frac{5z_0 + 4z_1 -4u_0}{9}$$\n",
        "$$std = \\frac{2\\sigma\\sqrt{5}}{3}$$"
      ],
      "metadata": {
        "id": "amxduVgeBO-V"
      }
    },
    {
      "cell_type": "markdown",
      "source": [
        "**c).**\n",
        "\n",
        "Find $P(x_1|z_0, z_2)$.\n"
      ],
      "metadata": {
        "id": "x6ubEt-9MkBh"
      }
    },
    {
      "cell_type": "markdown",
      "source": [
        "\n",
        "$\n",
        "P(x_0, x_1, x_2 | z_0, z_2) \\propto P(z_0, z_2 | x_0, x_1, x_2) = P(\\eta_0, \\eta_2, \\epsilon_0, \\epsilon_1 | x_0, x_1, x_2) = P(\\eta_0) * P(\\eta_2) * P(\\epsilon_0)* P(\\epsilon_1) = \\frac{1}{\\sqrt{2\\pi}2\\sigma} \\exp(-\\frac{1}{2} \\frac{\\eta_0^2}{4\\sigma^2}) \\cdot \\frac{1}{\\sqrt{2\\pi}2\\sigma} \\exp(-\\frac{1}{2} \\frac{\\eta_2^2}{4\\sigma^2}) \\cdot \\frac{1}{\\sqrt{2\\pi}\\sigma} \\exp(-\\frac{1}{2} \\frac{\\epsilon_0^2}{\\sigma^2}) \\exp(-\\frac{1}{2} \\frac{\\epsilon_1^2}{\\sigma^2})\n",
        "$\n",
        "\n",
        "$\n",
        "P(x_1|z_0, z_2) = \\int\\limits_{x_0}\\int\\limits_{x_2} P(z_0, z_2 | x_0, x_1, x_2) dx_0 dx_2\n",
        "$"
      ],
      "metadata": {
        "id": "4G3RzXj1MkK2"
      }
    },
    {
      "cell_type": "markdown",
      "source": [],
      "metadata": {
        "id": "hINUXtJGMkPN"
      }
    },
    {
      "cell_type": "markdown",
      "source": [],
      "metadata": {
        "id": "6DopTC2_-clD"
      }
    },
    {
      "cell_type": "code",
      "source": [],
      "metadata": {
        "id": "T4uNlYxENFHz"
      },
      "execution_count": null,
      "outputs": []
    }
  ]
}