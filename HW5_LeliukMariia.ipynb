{
  "cells": [
    {
      "cell_type": "markdown",
      "id": "5e60d429",
      "metadata": {
        "id": "5e60d429"
      },
      "source": [
        "## Task 1"
      ]
    },
    {
      "cell_type": "markdown",
      "id": "b1ad1e61",
      "metadata": {
        "id": "b1ad1e61"
      },
      "source": [
        "$$\n",
        "f(x) = \\frac{1}{2}x^TAx - b^Tx + c\n",
        "$$\n",
        "$A$ is symmetric positive definite."
      ]
    },
    {
      "cell_type": "markdown",
      "id": "8ef25318",
      "metadata": {
        "id": "8ef25318"
      },
      "source": [
        "1.1 **Show that optimal $x_*$ is delivered by solution of equation $Ax_*=b$**\n",
        "\n",
        "For $x_*$ to be minimizer of $f(x)$, 2 condiitons should be met:\n",
        "- $\\nabla f(x_*) = 0$\n",
        "\n",
        "- $\\nabla^2 f(x_*)$ is positive semidefinite\n",
        "\n",
        "$$\n",
        "\\nabla f(x_*) = Ax_* - b = 0 =>  Ax_* = b\n",
        "$$\n",
        "\n",
        "$$\n",
        "\\nabla^2 f(x_*) = A\n",
        "$$\n",
        ", since A is positive definite, this condition is also satisfied."
      ]
    },
    {
      "cell_type": "markdown",
      "id": "0ffe3a7b",
      "metadata": {
        "id": "0ffe3a7b"
      },
      "source": [
        "1.2 **Show that the steepest descent iteration has the form of: $x_{i+1} = x_{i} + \\alpha_i r_i$, where $r_i = b - Ax_i$ and find $\\alpha$.**\n",
        "\n",
        "\n",
        "$$\n",
        "x_{i+1} = x_i - \\alpha_i \\nabla f(x_i) = x_i - \\alpha_i (Ax_i - b)\n",
        "$$\n",
        "\n",
        "$$\n",
        "x_{i+1} = x_i + \\alpha_i r_i\n",
        "$$\n",
        "\n",
        "\n",
        "To find optimal $\\alpha_i$ means minimize $g = (f(x_i + \\alpha_i r_i) - f(x_*))$ with respect to $\\alpha_i$.\n",
        "\n",
        "$$\n",
        "\\nabla g = \\left(\\begin{matrix}\n",
        "\\frac{df(x_1 + \\alpha_i r_1)}{d(x_1 + \\alpha_i r_1)} r_1\\\\ \\frac{df(x_2 + \\alpha_i r_2)}{d(x_2 + \\alpha_i r_2)} r_2 \\\\ ...\n",
        "\\end{matrix}\\right) = r_{i}^T (A(x_i + \\alpha_i r_i) - b)\n",
        "$$\n",
        "\n",
        "Lets minimize:\n",
        "$$\n",
        "\\nabla g = r_{i}^T A x_i + r_{i}^T A \\alpha_i r_i - r_{i}^T b = 0\n",
        "$$\n",
        "\n",
        "$$\n",
        "r_{i}^T A x_i + r_{i}^T A \\alpha_i r_i = r_{i}^T b\n",
        "$$\n",
        "\n",
        "$$\n",
        "b = r_i + Ax_i\n",
        "$$\n",
        "\n",
        "$$\n",
        "r_{i}^T A x_i + r_{i}^T A \\alpha_i r_i = r_{i}^T (r_i + Ax_i)\n",
        "$$\n",
        "\n",
        "$$\n",
        "\\alpha_i r_{i}^T A r_i = r_{i}^T r_i + r_{i}^T Ax_i - r_{i}^T A x_i\n",
        "$$\n",
        "\n",
        "$$\n",
        "\\alpha_i = \\frac{r_{i}^T r_i}{r_{i}^T A r_i}\n",
        "$$"
      ]
    },
    {
      "cell_type": "markdown",
      "id": "1087df7e",
      "metadata": {
        "id": "1087df7e"
      },
      "source": [
        "1.3 **Generate s 2D plot illustrating the convergence of the steepest descent method**"
      ]
    },
    {
      "cell_type": "code",
      "execution_count": 111,
      "id": "7e5bb0d6",
      "metadata": {
        "id": "7e5bb0d6"
      },
      "outputs": [],
      "source": [
        "import numpy as np\n",
        "import matplotlib.pyplot as plt\n",
        "import scipy\n",
        "\n",
        "A = np.array([ [ 3, 2 ], [ 2, 6 ] ])\n",
        "b = np.array([ 2, -8 ] )\n",
        "x = np.random.rand(2)\n",
        "\n",
        "tol = 1e-16"
      ]
    },
    {
      "cell_type": "code",
      "execution_count": 112,
      "id": "c33e7618",
      "metadata": {
        "colab": {
          "base_uri": "https://localhost:8080/"
        },
        "id": "c33e7618",
        "outputId": "f8b6612a-3186-486e-b792-b37f3986bb14"
      },
      "outputs": [
        {
          "output_type": "stream",
          "name": "stdout",
          "text": [
            "err=9.894688076064325 ri=array([-0.40326641, -9.88646693]) alpha=0.16239289628162942\n",
            "err=3.0066785297750824 ri=array([ 3.00418039, -0.12253974]) alpha=0.3518531011041422\n",
            "err=1.979548927291526 ri=array([-0.0806782 , -1.97790419]) alpha=0.1623928962816294\n",
            "err=0.6015214640999694 ri=array([ 0.60102168, -0.02451552]) alpha=0.35185310110414125\n",
            "err=0.3960320856420247 ri=array([-0.01614062, -0.39570304]) alpha=0.1623928962816296\n",
            "err=0.12034145592546572 ri=array([ 0.12024147, -0.00490462]) alpha=0.3518531011041421\n",
            "err=0.07923088472108136 ri=array([-0.00322912, -0.07916505]) alpha=0.16239289628162976\n",
            "err=0.024075726102192815 ri=array([ 0.02405572, -0.00098123]) alpha=0.3518531011041434\n",
            "err=0.01585107197440398 ri=array([-0.00064602, -0.0158379 ]) alpha=0.16239289628162867\n",
            "err=0.00481663266320128 ri=array([ 0.00481263, -0.00019631]) alpha=0.35185310110411183\n",
            "err=0.003171193703343436 ri=array([-0.00012924, -0.00316856]) alpha=0.16239289628162656\n",
            "err=0.0009636241130899479 ri=array([ 9.62823472e-04, -3.92733188e-05]) alpha=0.35185310110443707\n",
            "err=0.0006344346628627793 ri=array([-2.58569233e-05, -6.33907533e-04]) alpha=0.16239289628152975\n",
            "err=0.00019278435709197507 ri=array([ 1.92624179e-04, -7.85709014e-06]) alpha=0.3518531011078621\n",
            "err=0.00012692612911585784 ri=array([-5.17298215e-06, -1.26820671e-04]) alpha=0.16239289628086526\n",
            "err=3.856878199059331e-05 ri=array([ 3.85367365e-05, -1.57190345e-06]) alpha=0.3518531010917982\n",
            "err=2.5393067554053557e-05 ri=array([-1.03491602e-06, -2.53719693e-05]) alpha=0.16239289628416903\n",
            "err=7.71613924909398e-06 ri=array([ 7.70972818e-06, -3.14477806e-07]) alpha=0.3518531010972317\n",
            "err=5.0801823415551575e-06 ri=array([-2.07047144e-07, -5.07596140e-06]) alpha=0.1623928962867002\n",
            "err=1.543704567039392e-06 ri=array([ 1.54242196e-06, -6.29149906e-08]) alpha=0.35185310122363417\n",
            "err=1.016350330865545e-06 ri=array([-4.14222208e-08, -1.01550588e-06]) alpha=0.16239289626193312\n",
            "err=3.088362856763912e-07 ri=array([ 3.08579684e-07, -1.25868853e-08]) alpha=0.35185310155976973\n",
            "err=2.0333285712899486e-07 ri=array([-8.28700308e-09, -2.03163915e-07]) alpha=0.1623928963434855\n",
            "err=6.178633742236052e-08 ri=array([ 6.17350013e-08, -2.51815457e-09]) alpha=0.35185310064472186\n",
            "err=4.067913304504179e-08 ri=array([-1.65791203e-09, -4.06453342e-08]) alpha=0.16239289767000584\n",
            "err=1.2361084718587697e-08 ri=array([ 1.23508144e-08, -5.03785458e-10]) alpha=0.35185306194810845\n",
            "err=8.138342561600863e-09 ri=array([-3.31684014e-10, -8.13158074e-09]) alpha=0.16239290898324288\n",
            "err=2.47298189124937e-09 ri=array([ 2.47092724e-09, -1.00786934e-10]) alpha=0.3518528119627946\n",
            "err=1.6281740993017043e-09 ri=array([-6.63566979e-11, -1.62682134e-09]) alpha=0.16239295207796448\n",
            "err=4.947499904639389e-10 ri=array([ 4.94339014e-10, -2.01616501e-11]) alpha=0.3518509400918402\n",
            "err=3.257382554860267e-10 ri=array([-1.32747147e-11, -3.25467653e-10]) alpha=0.16239320693632714\n",
            "err=9.89826839256787e-11 ri=array([ 9.89004434e-11, -4.03410638e-12]) alpha=0.35185302178380573\n",
            "err=6.516917421414571e-11 ri=array([-2.65609756e-12, -6.51150245e-11]) alpha=0.16239278633027981\n",
            "err=1.98030450030008e-11 ri=array([ 1.97866168e-11, -8.06466005e-13]) alpha=0.35183849237479903\n",
            "err=1.3036848522043455e-11 ri=array([-5.31130695e-13, -1.30260247e-11]) alpha=0.16239438990733737\n",
            "err=3.96146655129182e-12 ri=array([ 3.95816713e-12, -1.61648472e-13]) alpha=0.3518759897941277\n",
            "err=2.608094151609545e-12 ri=array([-1.06581410e-13, -2.60591548e-12]) alpha=0.16238205452575716\n",
            "err=7.923082015743519e-13 ri=array([ 7.91589017e-13, -3.37507799e-14]) alpha=0.35270802372567783\n",
            "err=5.1915244259217e-13 ri=array([-2.17603713e-14, -5.18696197e-13]) alpha=0.1622785794649987\n",
            "err=1.5736807299323208e-13 ri=array([ 1.57207580e-13, -7.10542736e-15]) alpha=0.3538954084796014\n",
            "err=1.0494045090852872e-13 ri=array([-5.32907052e-15, -1.04805054e-13]) alpha=0.16141714074279637\n",
            "err=3.1358641905614594e-14 ri=array([ 3.13082893e-14, -1.77635684e-15]) alpha=0.359272268756192\n",
            "err=2.0471501066083614e-14 ri=array([-1.33226763e-15, -2.04281037e-14]) alpha=0.160075329566855\n",
            "err=6.252832847199451e-15 ri=array([5.99520433e-15, 1.77635684e-15]) alpha=0.23085880640465795\n",
            "err=5.443490401604861e-15 ri=array([ 1.11022302e-15, -5.32907052e-15]) alpha=0.1969845952146837\n",
            "err=3.2023728339893768e-15 ri=array([2.66453526e-15, 1.77635684e-15]) alpha=0.17333333333333334\n",
            "err=1.2560739669470201e-15 ri=array([ 8.8817842e-16, -8.8817842e-16]) alpha=0.4\n"
          ]
        }
      ],
      "source": [
        "xi = [x]\n",
        "\n",
        "while np.linalg.norm(A @ xi[-1] - b) > tol:\n",
        "    ri = b - A @ xi[-1]\n",
        "    err = np.linalg.norm(ri)\n",
        "    alpha = ri.dot(ri) / ri.dot(A @ ri)\n",
        "    print(f\"{err=} {ri=} {alpha=}\")\n",
        "\n",
        "    x_next = xi[-1] + alpha *ri\n",
        "    xi.append(x_next)"
      ]
    },
    {
      "cell_type": "code",
      "execution_count": 113,
      "id": "b071df60",
      "metadata": {
        "colab": {
          "base_uri": "https://localhost:8080/"
        },
        "id": "b071df60",
        "outputId": "638634fa-db30-4cab-b8cf-4f19b177addf"
      },
      "outputs": [
        {
          "output_type": "execute_result",
          "data": {
            "text/plain": [
              "array([[ 0.76047604,  0.06091914],\n",
              "       [ 0.69498844, -1.54457286],\n",
              "       [ 1.75201863, -1.58768884],\n",
              "       [ 1.73891706, -1.90888643],\n",
              "       [ 1.95038841, -1.9175123 ],\n",
              "       [ 1.94776728, -1.98177166],\n",
              "       [ 1.99007462, -1.98349736],\n",
              "       [ 1.98955023, -1.99635321],\n",
              "       [ 1.99801431, -1.99669845],\n",
              "       [ 1.9979094 , -1.99927042],\n",
              "       [ 1.99960274, -1.99933949],\n",
              "       [ 1.99958175, -1.99985404],\n",
              "       [ 1.99992052, -1.99986786],\n",
              "       [ 1.99991632, -1.9999708 ],\n",
              "       [ 1.9999841 , -1.99997356],\n",
              "       [ 1.99998326, -1.99999416],\n",
              "       [ 1.99999682, -1.99999471],\n",
              "       [ 1.99999665, -1.99999883],\n",
              "       [ 1.99999936, -1.99999894],\n",
              "       [ 1.99999933, -1.99999977],\n",
              "       [ 1.99999987, -1.99999979],\n",
              "       [ 1.99999987, -1.99999995],\n",
              "       [ 1.99999997, -1.99999996],\n",
              "       [ 1.99999997, -1.99999999],\n",
              "       [ 1.99999999, -1.99999999],\n",
              "       [ 1.99999999, -2.        ],\n",
              "       [ 2.        , -2.        ],\n",
              "       [ 2.        , -2.        ],\n",
              "       [ 2.        , -2.        ],\n",
              "       [ 2.        , -2.        ],\n",
              "       [ 2.        , -2.        ],\n",
              "       [ 2.        , -2.        ],\n",
              "       [ 2.        , -2.        ],\n",
              "       [ 2.        , -2.        ],\n",
              "       [ 2.        , -2.        ],\n",
              "       [ 2.        , -2.        ],\n",
              "       [ 2.        , -2.        ],\n",
              "       [ 2.        , -2.        ],\n",
              "       [ 2.        , -2.        ],\n",
              "       [ 2.        , -2.        ],\n",
              "       [ 2.        , -2.        ],\n",
              "       [ 2.        , -2.        ],\n",
              "       [ 2.        , -2.        ],\n",
              "       [ 2.        , -2.        ],\n",
              "       [ 2.        , -2.        ],\n",
              "       [ 2.        , -2.        ],\n",
              "       [ 2.        , -2.        ],\n",
              "       [ 2.        , -2.        ]])"
            ]
          },
          "metadata": {},
          "execution_count": 113
        }
      ],
      "source": [
        "xi = np.array(xi)\n",
        "xi"
      ]
    },
    {
      "cell_type": "code",
      "execution_count": 114,
      "id": "db4e8976",
      "metadata": {
        "colab": {
          "base_uri": "https://localhost:8080/"
        },
        "id": "db4e8976",
        "outputId": "de6d84a0-e0bb-4098-b9d2-cd0e59df628a"
      },
      "outputs": [
        {
          "output_type": "execute_result",
          "data": {
            "text/plain": [
              "array([ 2., -2.])"
            ]
          },
          "metadata": {},
          "execution_count": 114
        }
      ],
      "source": [
        "# verify answer is correct\n",
        "np.linalg.solve(A, b)"
      ]
    },
    {
      "cell_type": "code",
      "execution_count": 114,
      "id": "cf8b9ca4",
      "metadata": {
        "id": "cf8b9ca4"
      },
      "outputs": [],
      "source": []
    },
    {
      "cell_type": "code",
      "execution_count": 115,
      "id": "6c528ad1",
      "metadata": {
        "colab": {
          "base_uri": "https://localhost:8080/",
          "height": 430
        },
        "id": "6c528ad1",
        "outputId": "38cf2e1c-4aa3-4329-9fb4-f330e86eec3d"
      },
      "outputs": [
        {
          "output_type": "display_data",
          "data": {
            "text/plain": [
              "<Figure size 640x480 with 1 Axes>"
            ],
            "image/png": "[encoded data removed]"
          },
          "metadata": {}
        }
      ],
      "source": [
        "def plot_res(A, b, xi):\n",
        "    fig,ax = plt.subplots(1)\n",
        "    X = np.linspace(xi[:,0].min() - 1, xi[:,0].max() + 1)\n",
        "    Y = np.linspace(xi[:,1].min() - 1, xi[:,1].max() + 1)\n",
        "\n",
        "    X, Y = np.meshgrid(X, Y)\n",
        "    def f(x):\n",
        "        return x.T @ A @ x / 2 - x.T @ b\n",
        "\n",
        "    F = np.array(\n",
        "        [\n",
        "            [ f(np.array([ X[i,j], Y[i,j] ])) for j in range(X.shape[1]) ]\n",
        "            for i in range(X.shape[0])\n",
        "        ]\n",
        "    )\n",
        "    contour = ax.contourf(X, Y, F)\n",
        "    plt.plot(xi[:,0], xi[:,1], color='red')\n",
        "    xStar = np.linalg.solve(A, b)\n",
        "    plt.scatter(xStar[0], xStar[1])\n",
        "\n",
        "plot_res(A, b, xi)"
      ]
    },
    {
      "cell_type": "code",
      "execution_count": 115,
      "id": "ba83c768",
      "metadata": {
        "id": "ba83c768"
      },
      "outputs": [],
      "source": []
    },
    {
      "cell_type": "markdown",
      "source": [
        "### Task 3"
      ],
      "metadata": {
        "id": "BucPCtTQEHoh"
      },
      "id": "BucPCtTQEHoh"
    },
    {
      "cell_type": "code",
      "source": [
        "A = np.array([ [ 3, 2 ], [ 2, 6 ] ])\n",
        "b = np.array([ 2, -8 ] )\n",
        "x = np.random.rand(2)\n",
        "\n",
        "tol = 1e-16\n"
      ],
      "metadata": {
        "id": "_eyxygmGEGci"
      },
      "id": "_eyxygmGEGci",
      "execution_count": 116,
      "outputs": []
    },
    {
      "cell_type": "code",
      "source": [
        "def conjugate_gradient(A, b, x):\n",
        "  xi = [x]\n",
        "  di = []\n",
        "  r_last = None\n",
        "\n",
        "  while np.linalg.norm(A @ x - b) > tol:\n",
        "    ri = b - A @ x\n",
        "    err = np.linalg.norm(ri)\n",
        "\n",
        "    d = ri if (r_last is None) else (ri + (ri.dot(ri) / r_last.dot(r_last))*d)\n",
        "    alpha = ri.dot(ri) / d.dot(A @ ri)\n",
        "    print(f\"{err=} {ri=} {alpha=}\")\n",
        "\n",
        "    x = x + alpha *d\n",
        "    xi.append(x)\n",
        "    di.append(d)\n",
        "    r_last = ri\n",
        "\n",
        "  return xi, di"
      ],
      "metadata": {
        "id": "ENVDgsJpEh_A"
      },
      "id": "ENVDgsJpEh_A",
      "execution_count": 117,
      "outputs": []
    },
    {
      "cell_type": "code",
      "source": [
        "xi, di = conjugate_gradient(A, b, x)\n",
        "xi"
      ],
      "metadata": {
        "colab": {
          "base_uri": "https://localhost:8080/"
        },
        "id": "_IW0L2YsGzE1",
        "outputId": "01a0424a-70a4-4d9e-c577-e58b4de6ddf7"
      },
      "id": "_IW0L2YsGzE1",
      "execution_count": 118,
      "outputs": [
        {
          "output_type": "stream",
          "name": "stdout",
          "text": [
            "err=10.35213437667677 ri=array([  0.93724071, -10.30962007]) alpha=0.17810222427107583\n",
            "err=4.125742943393676 ri=array([4.10879928, 0.37352821]) alpha=0.40105378650328044\n",
            "err=1.2560739669470201e-15 ri=array([ 8.8817842e-16, -8.8817842e-16]) alpha=0.39999999999999986\n"
          ]
        },
        {
          "output_type": "execute_result",
          "data": {
            "text/plain": [
              "[array([0.12552254, 0.34309583]),\n",
              " array([ 0.2924472 , -1.49307043]),\n",
              " array([ 2., -2.]),\n",
              " array([ 2., -2.])]"
            ]
          },
          "metadata": {},
          "execution_count": 118
        }
      ]
    },
    {
      "cell_type": "code",
      "source": [
        "plot_res(A, b, np.array(xi))"
      ],
      "metadata": {
        "colab": {
          "base_uri": "https://localhost:8080/",
          "height": 430
        },
        "id": "bAubgcaDEGn1",
        "outputId": "dea63e10-73db-4e1b-b9b1-f048fa9ae053"
      },
      "id": "bAubgcaDEGn1",
      "execution_count": 119,
      "outputs": [
        {
          "output_type": "display_data",
          "data": {
            "text/plain": [
              "<Figure size 640x480 with 1 Axes>"
            ],
            "image/png": "[encoded data removed]"
          },
          "metadata": {}
        }
      ]
    },
    {
      "cell_type": "markdown",
      "source": [
        "This method converges much faster."
      ],
      "metadata": {
        "id": "7i8SjhdRHjlT"
      },
      "id": "7i8SjhdRHjlT"
    },
    {
      "cell_type": "code",
      "source": [],
      "metadata": {
        "id": "VCOFaUIsIKus"
      },
      "id": "VCOFaUIsIKus",
      "execution_count": 119,
      "outputs": []
    },
    {
      "cell_type": "markdown",
      "source": [
        "Compute $D_{ij} = d_{i}^TAd_j$"
      ],
      "metadata": {
        "id": "Dp02I3WfIJOv"
      },
      "id": "Dp02I3WfIJOv"
    },
    {
      "cell_type": "code",
      "source": [
        "D = np.zeros(shape=(len(di), len(di)))\n",
        "for i in range(len(di)):\n",
        "  for j in range(len(di)):\n",
        "    D[i][j] = di[i].dot(A @ di[j])\n",
        "\n",
        "D"
      ],
      "metadata": {
        "colab": {
          "base_uri": "https://localhost:8080/"
        },
        "id": "jR4QVP7eHi8o",
        "outputId": "a31d9b14-e493-4422-a24e-308f29b5294d"
      },
      "id": "jR4QVP7eHi8o",
      "execution_count": 120,
      "outputs": [
        {
          "output_type": "execute_result",
          "data": {
            "text/plain": [
              "array([[ 6.01714474e+02, -8.88178420e-15,  3.74595652e-14],\n",
              "       [ 0.00000000e+00,  4.24425736e+01,  8.27217511e-15],\n",
              "       [ 3.74595652e-14,  8.27217511e-15,  3.94430453e-30]])"
            ]
          },
          "metadata": {},
          "execution_count": 120
        }
      ]
    },
    {
      "cell_type": "code",
      "source": [],
      "metadata": {
        "id": "6T7XQqb8HjDJ"
      },
      "id": "6T7XQqb8HjDJ",
      "execution_count": 120,
      "outputs": []
    },
    {
      "cell_type": "markdown",
      "id": "5ac7fac7",
      "metadata": {
        "id": "5ac7fac7"
      },
      "source": [
        "### 5.\n"
      ]
    },
    {
      "cell_type": "markdown",
      "id": "328e7e0c",
      "metadata": {
        "id": "328e7e0c"
      },
      "source": [
        "$$\n",
        "(A + UCV)^{-1} = A^{-1} - A^{-1}U(C^{-1} + VA^{-1}U)^{-1}VA^{-1}\n",
        "$$\n",
        "\n",
        ", where A - (pxp) diagonal matrix, C - (kxk) unit matrix\n",
        "\n",
        "$(A + UCV)$ - low-rank perturbed diagonal matrix."
      ]
    },
    {
      "cell_type": "code",
      "execution_count": 121,
      "id": "634ba423",
      "metadata": {
        "id": "634ba423"
      },
      "outputs": [],
      "source": [
        "p = 5000\n",
        "k = 100\n",
        "\n",
        "\n",
        "U = np.random.rand(p, k)\n",
        "V = np.random.rand(k, p)\n",
        "\n",
        "A_diag = np.random.rand(p)\n",
        "A = np.diag(A_diag)"
      ]
    },
    {
      "cell_type": "code",
      "execution_count": 122,
      "id": "2d7e590d",
      "metadata": {
        "id": "2d7e590d"
      },
      "outputs": [],
      "source": [
        "def straighforward(A, U, V):\n",
        "    return np.linalg.inv(A + U @ V)\n",
        "\n",
        "def woodbury(A_diag, U, V):\n",
        "    C = np.eye(k)\n",
        "    A_inv = np.diag(1 / A_diag)\n",
        "    return A_inv - A_inv @U @ np.linalg.inv(C + V @A_inv @U) @V @A_inv"
      ]
    },
    {
      "cell_type": "code",
      "execution_count": 123,
      "id": "73cd7b63",
      "metadata": {
        "colab": {
          "base_uri": "https://localhost:8080/"
        },
        "id": "73cd7b63",
        "outputId": "20eeff0b-c6f1-4d48-ffd0-5ba792c51640"
      },
      "outputs": [
        {
          "output_type": "stream",
          "name": "stdout",
          "text": [
            "14.4 s ± 1.87 s per loop (mean ± std. dev. of 7 runs, 1 loop each)\n"
          ]
        }
      ],
      "source": [
        "%%timeit\n",
        "straighforward(A, U, V)"
      ]
    },
    {
      "cell_type": "code",
      "execution_count": 124,
      "id": "9a3ba5fd",
      "metadata": {
        "colab": {
          "base_uri": "https://localhost:8080/"
        },
        "id": "9a3ba5fd",
        "outputId": "c0b8806f-7dc1-4d79-edd3-446c72f9607d"
      },
      "outputs": [
        {
          "output_type": "stream",
          "name": "stdout",
          "text": [
            "9.55 s ± 578 ms per loop (mean ± std. dev. of 7 runs, 1 loop each)\n"
          ]
        }
      ],
      "source": [
        "%%timeit\n",
        "woodbury(A_diag, U, V)"
      ]
    },
    {
      "cell_type": "markdown",
      "source": [
        "So, woodbury calculation is faster than straightforward."
      ],
      "metadata": {
        "id": "VwUlmlXRoEuH"
      },
      "id": "VwUlmlXRoEuH"
    },
    {
      "cell_type": "code",
      "source": [
        "a1 = straighforward(A, U, V)\n",
        "a2 = woodbury(A_diag, U, V)"
      ],
      "metadata": {
        "id": "gJGZUAYTpWmq"
      },
      "id": "gJGZUAYTpWmq",
      "execution_count": 125,
      "outputs": []
    },
    {
      "cell_type": "code",
      "source": [
        "print(a1)"
      ],
      "metadata": {
        "colab": {
          "base_uri": "https://localhost:8080/"
        },
        "id": "yJNl7WMYECCT",
        "outputId": "cbeb4fff-54ab-46e6-f637-47a2561792a9"
      },
      "id": "yJNl7WMYECCT",
      "execution_count": 126,
      "outputs": [
        {
          "output_type": "stream",
          "name": "stdout",
          "text": [
            "[[ 2.20825616e+00  1.14173606e-01 -2.66943670e-01 ... -7.72885680e-01\n",
            "  -2.70472337e+00 -2.15474030e+00]\n",
            " [ 5.45845615e-03  1.98083567e+00  1.33985543e-01 ... -2.07010152e-01\n",
            "   1.18003488e+00  7.12526768e-01]\n",
            " [-5.26808580e-02 -1.33662373e-02  1.35165633e+00 ...  3.77142385e-02\n",
            "  -3.90088327e-01 -3.68834981e-01]\n",
            " ...\n",
            " [ 1.11727729e+00 -5.22894787e-01  8.51262539e-01 ...  2.75222877e+01\n",
            "   7.20704967e+00  8.58308604e+00]\n",
            " [-9.79747025e-01  6.09412486e-01 -1.53196489e+00 ... -3.38481220e+00\n",
            "  -6.57177357e+00 -1.20408118e+01]\n",
            " [-3.02916876e-01  3.99761947e-01 -1.03810327e+00 ... -4.34917461e+00\n",
            "  -1.06910245e+01 -1.26796242e-02]]\n"
          ]
        }
      ]
    },
    {
      "cell_type": "code",
      "source": [
        "print(a2)"
      ],
      "metadata": {
        "colab": {
          "base_uri": "https://localhost:8080/"
        },
        "id": "wq18iC-yECFE",
        "outputId": "dc816555-c8bb-41e1-e10e-88426e14dc2f"
      },
      "id": "wq18iC-yECFE",
      "execution_count": 127,
      "outputs": [
        {
          "output_type": "stream",
          "name": "stdout",
          "text": [
            "[[ 2.20825616e+00  1.14173606e-01 -2.66943670e-01 ... -7.72885679e-01\n",
            "  -2.70472336e+00 -2.15474030e+00]\n",
            " [ 5.45845611e-03  1.98083567e+00  1.33985543e-01 ... -2.07010153e-01\n",
            "   1.18003488e+00  7.12526768e-01]\n",
            " [-5.26808580e-02 -1.33662373e-02  1.35165633e+00 ...  3.77142386e-02\n",
            "  -3.90088326e-01 -3.68834981e-01]\n",
            " ...\n",
            " [ 1.11727729e+00 -5.22894787e-01  8.51262537e-01 ...  2.75222877e+01\n",
            "   7.20704965e+00  8.58308603e+00]\n",
            " [-9.79747025e-01  6.09412485e-01 -1.53196489e+00 ... -3.38481220e+00\n",
            "  -6.57177355e+00 -1.20408118e+01]\n",
            " [-3.02916875e-01  3.99761947e-01 -1.03810327e+00 ... -4.34917461e+00\n",
            "  -1.06910245e+01 -1.26796159e-02]]\n"
          ]
        }
      ]
    },
    {
      "cell_type": "code",
      "execution_count": 127,
      "id": "9c827a62",
      "metadata": {
        "id": "9c827a62"
      },
      "outputs": [],
      "source": []
    },
    {
      "cell_type": "markdown",
      "source": [
        "## Task 6"
      ],
      "metadata": {
        "id": "JQKZPyN7rWRO"
      },
      "id": "JQKZPyN7rWRO"
    },
    {
      "cell_type": "code",
      "source": [
        "n = 10\n",
        "T = 5000\n",
        "\n",
        "y = np.load(\"y.npy\")"
      ],
      "metadata": {
        "id": "HiL2PU37rZG9"
      },
      "id": "HiL2PU37rZG9",
      "execution_count": 128,
      "outputs": []
    },
    {
      "cell_type": "code",
      "source": [
        "print(y[:2])"
      ],
      "metadata": {
        "colab": {
          "base_uri": "https://localhost:8080/"
        },
        "id": "WJsrfIF90h_v",
        "outputId": "5991b951-0c77-4ff9-b84c-44866cdcbbfb"
      },
      "id": "WJsrfIF90h_v",
      "execution_count": 129,
      "outputs": [
        {
          "output_type": "stream",
          "name": "stdout",
          "text": [
            "[0.55728471 0.14537225]\n"
          ]
        }
      ]
    },
    {
      "cell_type": "code",
      "source": [
        "plt.plot(y)"
      ],
      "metadata": {
        "colab": {
          "base_uri": "https://localhost:8080/",
          "height": 449
        },
        "id": "xq02JRJG0xDu",
        "outputId": "7de2ea8b-46e8-420d-d613-0af554e34e51"
      },
      "id": "xq02JRJG0xDu",
      "execution_count": 130,
      "outputs": [
        {
          "output_type": "execute_result",
          "data": {
            "text/plain": [
              "[<matplotlib.lines.Line2D at 0x7e6568ae0c70>]"
            ]
          },
          "metadata": {},
          "execution_count": 130
        },
        {
          "output_type": "display_data",
          "data": {
            "text/plain": [
              "<Figure size 640x480 with 1 Axes>"
            ],
            "image/png": "[encoded data removed]"
          },
          "metadata": {}
        }
      ]
    },
    {
      "cell_type": "code",
      "source": [
        "plt.plot(y[0:5000])"
      ],
      "metadata": {
        "colab": {
          "base_uri": "https://localhost:8080/",
          "height": 449
        },
        "id": "UydiyWP-013J",
        "outputId": "0dffc3ce-bb9e-48e4-ddd6-5044445ab5e2"
      },
      "id": "UydiyWP-013J",
      "execution_count": 131,
      "outputs": [
        {
          "output_type": "execute_result",
          "data": {
            "text/plain": [
              "[<matplotlib.lines.Line2D at 0x7e65689bf6a0>]"
            ]
          },
          "metadata": {},
          "execution_count": 131
        },
        {
          "output_type": "display_data",
          "data": {
            "text/plain": [
              "<Figure size 640x480 with 1 Axes>"
            ],
            "image/png": "[encoded data removed]"
          },
          "metadata": {}
        }
      ]
    },
    {
      "cell_type": "code",
      "source": [],
      "metadata": {
        "id": "ufVpZ1mC017_"
      },
      "id": "ufVpZ1mC017_",
      "execution_count": 131,
      "outputs": []
    },
    {
      "cell_type": "markdown",
      "source": [
        "1. **Solve the minimization problem analytically and plot it:**\n",
        "\n",
        "$$\n",
        "r = \\min\\limits_Y \\left[ \\sum\\limits_{i=0}^{t-1} |y_i - Y_{i mod T}|^2 \\right]\n",
        "$$\n",
        "\n",
        "$$\n",
        "\\nabla r = 0\n",
        "$$\n",
        "\n",
        "$$\n",
        "\\frac{dr}{dY_j} = \\sum\\limits_{i=0}^{n}2(y_{iT+j} - Y_j)(-1) = -2\\sum\\limits_{i=0}^{n-1}(y_{iT+j} - Y_j) = 0\n",
        "$$\n",
        "\n",
        "$$\n",
        "nY_j = \\sum\\limits_{i=0}^{n-1}y_{iT+j}\n",
        "$$\n",
        "\n",
        "\n",
        "$$\n",
        "Y_j = \\frac{1}{n}\\sum\\limits_{i=0}^{n-1}y_{iT+j}\n",
        "$$"
      ],
      "metadata": {
        "id": "gppT4myFQfL6"
      },
      "id": "gppT4myFQfL6"
    },
    {
      "cell_type": "code",
      "source": [
        "def getY(y):\n",
        "  Y = np.zeros(T)\n",
        "  for j in range(T):\n",
        "    Y[j] = np.array([y[i*T + j] for i in range(n)]).mean()\n",
        "  return Y\n",
        "\n",
        "Y = getY(y)\n",
        "print(Y)"
      ],
      "metadata": {
        "colab": {
          "base_uri": "https://localhost:8080/"
        },
        "id": "BKjJ4sNuQfZ7",
        "outputId": "095144e2-f430-4345-b3aa-360df6fb41e2"
      },
      "id": "BKjJ4sNuQfZ7",
      "execution_count": 132,
      "outputs": [
        {
          "output_type": "stream",
          "name": "stdout",
          "text": [
            "[ 0.37377886 -0.1170427   0.29442944 ...  0.02914572 -0.19550202\n",
            " -0.24675897]\n"
          ]
        }
      ]
    },
    {
      "cell_type": "code",
      "source": [
        "plt.plot(y)\n",
        "plt.plot(np.tile(getY(y), n))"
      ],
      "metadata": {
        "colab": {
          "base_uri": "https://localhost:8080/",
          "height": 449
        },
        "id": "limj-uh3Xr1T",
        "outputId": "a2396e8e-a8f2-44a3-e74b-c5ce51b72f49"
      },
      "id": "limj-uh3Xr1T",
      "execution_count": 133,
      "outputs": [
        {
          "output_type": "execute_result",
          "data": {
            "text/plain": [
              "[<matplotlib.lines.Line2D at 0x7e6559fa8b20>]"
            ]
          },
          "metadata": {},
          "execution_count": 133
        },
        {
          "output_type": "display_data",
          "data": {
            "text/plain": [
              "<Figure size 640x480 with 1 Axes>"
            ],
            "image/png": "[encoded data removed]"
          },
          "metadata": {}
        }
      ]
    },
    {
      "cell_type": "code",
      "source": [
        "plt.plot(y[:T])\n",
        "plt.plot(getY(y))"
      ],
      "metadata": {
        "colab": {
          "base_uri": "https://localhost:8080/",
          "height": 449
        },
        "id": "OgieJowhh3A6",
        "outputId": "918a7e7c-d5d6-46a8-e2aa-b89131406cf5"
      },
      "id": "OgieJowhh3A6",
      "execution_count": 134,
      "outputs": [
        {
          "output_type": "execute_result",
          "data": {
            "text/plain": [
              "[<matplotlib.lines.Line2D at 0x7e6568867610>]"
            ]
          },
          "metadata": {},
          "execution_count": 134
        },
        {
          "output_type": "display_data",
          "data": {
            "text/plain": [
              "<Figure size 640x480 with 1 Axes>"
            ],
            "image/png": "[encoded data removed]"
          },
          "metadata": {}
        }
      ]
    },
    {
      "cell_type": "code",
      "source": [],
      "metadata": {
        "id": "hKFWfaI_Xr3o"
      },
      "id": "hKFWfaI_Xr3o",
      "execution_count": 134,
      "outputs": []
    },
    {
      "cell_type": "markdown",
      "source": [
        "2. **Solve the minimization problem:**\n",
        "\n",
        "$$\n",
        "r = \\min\\limits_Y \\left[ \\sum\\limits_{i=0}^{t-1} |y_i - Y_{i mod T}|^2 + \\gamma \\sum\\limits_{i=0}^{T - 1}(Y_i - Y_{i+1})^2 \\right]\n",
        "$$\n",
        "\n",
        "**by reducing it to linear system $AY = b$**."
      ],
      "metadata": {
        "id": "x4qDMf0_Yo5Z"
      },
      "id": "x4qDMf0_Yo5Z"
    },
    {
      "cell_type": "markdown",
      "source": [
        "$$\n",
        "\\frac{dr}{dY_j} = \\left[\\sum\\limits_{i=0}^{n}2(y_{iT+j} - Y_j)(-1)\\right] + \\gamma(-2(Y_{j-1} - Y_j) + 2(Y_j - Y_{j+1})) = 0\n",
        "$$\n",
        "\n",
        "$$\n",
        "-2\\sum\\limits_{i=0}^{n-1}(y_{iT+j} - Y_j) + \\gamma4Y_j - \\gamma2Y_{j-1} - \\gamma2Y_{j+1} = 0\n",
        "$$\n",
        "\n",
        "$$\n",
        "-\\sum\\limits_{i=0}^{n-1}y_{iT+j} + nY_j + \\gamma 2Y_j - \\gamma Y_{j-1} - \\gamma Y_{j+1} = 0\n",
        "$$\n",
        "\n",
        "$$\n",
        " (n + 2\\gamma)Y_j - \\gamma Y_{j-1} - \\gamma Y_{j+1} = \\sum\\limits_{i=0}^{n-1}y_{iT+j}\n",
        "$$\n",
        "\n",
        "\n",
        "So, it's equal to\n",
        "\n",
        "$$AY = b$$\n",
        "\n",
        ", with\n",
        "$$\n",
        "A = \\left(\\begin{matrix}\n",
        "n + 2\\gamma & -\\gamma & 0 & 0 & 0 & 0 ... \\\\\n",
        "-\\gamma & n + 2\\gamma & -\\gamma & 0 & 0 ... \\\\\n",
        "0 & -\\gamma & n + 2\\gamma & -\\gamma & 0 ... \\\\...\\\\\n",
        "... & 0 & 0 & 0 & -\\gamma & n + 2\\gamma\n",
        "\\end{matrix}\\right)\n",
        "$$\n",
        "\n",
        "$$\n",
        "b = \\left(\\begin{matrix}\n",
        "\\sum\\limits_{i=0}^{n-1}y_{iT+1} \\\\\n",
        "\\sum\\limits_{i=0}^{n-1}y_{iT+2} \\\\\n",
        "...\n",
        "\\end{matrix}\\right)\n",
        "$$"
      ],
      "metadata": {
        "id": "YJG8R00hZXZe"
      },
      "id": "YJG8R00hZXZe"
    },
    {
      "cell_type": "code",
      "source": [
        "b = np.zeros(T)\n",
        "for j in range(T):\n",
        "  b[j] = sum([y[i*T + j] for i in range(n)])"
      ],
      "metadata": {
        "id": "E8sAvaE3etpM"
      },
      "id": "E8sAvaE3etpM",
      "execution_count": 135,
      "outputs": []
    },
    {
      "cell_type": "code",
      "source": [
        "def getA(gamma):\n",
        "  diag = np.zeros(T) + n + gamma*2\n",
        "  udiag = np.zeros(T) - gamma\n",
        "  ldiag = np.zeros(T) - gamma\n",
        "  A = scipy.sparse.diags([diag, udiag, ldiag], [0, 1, -1], shape=(T, T), format='csr')\n",
        "  return A"
      ],
      "metadata": {
        "id": "ysA2qjUifbj_"
      },
      "id": "ysA2qjUifbj_",
      "execution_count": 136,
      "outputs": []
    },
    {
      "cell_type": "code",
      "source": [
        "def solve(gamma):\n",
        "  A = getA(gamma=gamma)\n",
        "  #Y_sol = np.linalg.solve(A.todense(), b)\n",
        "  Y_sol = scipy.sparse.linalg.spsolve(A, b)\n",
        "  plt.plot(y[:T])\n",
        "  plt.plot(Y_sol)"
      ],
      "metadata": {
        "id": "xn7NLjx9YmVR"
      },
      "id": "xn7NLjx9YmVR",
      "execution_count": 137,
      "outputs": []
    },
    {
      "cell_type": "code",
      "source": [
        "solve(gamma=0)"
      ],
      "metadata": {
        "colab": {
          "base_uri": "https://localhost:8080/",
          "height": 430
        },
        "id": "YcYCXeRaYmar",
        "outputId": "07256264-a1e6-4ab9-ccac-f925cdd30d99"
      },
      "id": "YcYCXeRaYmar",
      "execution_count": 138,
      "outputs": [
        {
          "output_type": "display_data",
          "data": {
            "text/plain": [
              "<Figure size 640x480 with 1 Axes>"
            ],
            "image/png": "[encoded data removed]"
          },
          "metadata": {}
        }
      ]
    },
    {
      "cell_type": "markdown",
      "source": [
        "With $\\gamma = 0$ solution is equal to initial analytical solution."
      ],
      "metadata": {
        "id": "2eZO8XeWhGY3"
      },
      "id": "2eZO8XeWhGY3"
    },
    {
      "cell_type": "code",
      "source": [
        "solve(gamma=1.0)"
      ],
      "metadata": {
        "colab": {
          "base_uri": "https://localhost:8080/",
          "height": 430
        },
        "id": "_znqZRMKhT4P",
        "outputId": "68e98cad-5626-46b1-849f-b48b6dc73d59"
      },
      "id": "_znqZRMKhT4P",
      "execution_count": 139,
      "outputs": [
        {
          "output_type": "display_data",
          "data": {
            "text/plain": [
              "<Figure size 640x480 with 1 Axes>"
            ],
            "image/png": "[encoded data removed]"
          },
          "metadata": {}
        }
      ]
    },
    {
      "cell_type": "code",
      "source": [
        "solve(gamma=10)"
      ],
      "metadata": {
        "colab": {
          "base_uri": "https://localhost:8080/",
          "height": 430
        },
        "id": "gzkgEi5hmUeN",
        "outputId": "1d52103f-e2f5-49f3-eeac-8992f625e03d"
      },
      "id": "gzkgEi5hmUeN",
      "execution_count": 140,
      "outputs": [
        {
          "output_type": "display_data",
          "data": {
            "text/plain": [
              "<Figure size 640x480 with 1 Axes>"
            ],
            "image/png": "[encoded data removed]"
          },
          "metadata": {}
        }
      ]
    },
    {
      "cell_type": "code",
      "source": [
        "# Too much punishment for non-smoothness removes most of the noise\n",
        "solve(gamma=100)"
      ],
      "metadata": {
        "colab": {
          "base_uri": "https://localhost:8080/",
          "height": 430
        },
        "id": "3lEhI9Hrmuik",
        "outputId": "6937a9da-b93f-4ec0-a857-9d6b145f5c7f"
      },
      "id": "3lEhI9Hrmuik",
      "execution_count": 141,
      "outputs": [
        {
          "output_type": "display_data",
          "data": {
            "text/plain": [
              "<Figure size 640x480 with 1 Axes>"
            ],
            "image/png": "[encoded data removed]"
          },
          "metadata": {}
        }
      ]
    },
    {
      "cell_type": "code",
      "source": [],
      "metadata": {
        "id": "-8mmfvGvSfqP"
      },
      "id": "-8mmfvGvSfqP",
      "execution_count": 141,
      "outputs": []
    },
    {
      "cell_type": "markdown",
      "source": [
        "## Task 7"
      ],
      "metadata": {
        "id": "9EbA4UReSgV8"
      },
      "id": "9EbA4UReSgV8"
    },
    {
      "cell_type": "code",
      "source": [
        "import numpy as np\n",
        "import matplotlib.pyplot as plt\n",
        "import scipy"
      ],
      "metadata": {
        "id": "VYgRCoFI6f8a"
      },
      "id": "VYgRCoFI6f8a",
      "execution_count": 142,
      "outputs": []
    },
    {
      "cell_type": "markdown",
      "source": [
        "$$\n",
        "p_i =\\sum\\limits_{j} \\frac{p_j}{L(j)}l_{ij}\n",
        "$$\n",
        "\n",
        "L(j) - number of links from j,\n",
        "\n",
        "$l_{ij} = 1$ if j-th page refers to i-th,\n",
        "\n",
        "$p_i$ - importance of i-th page\n",
        "\n",
        "$$\n",
        "p = Gp, G_{ij} = \\frac{l_{ij}}{L(j)}\n",
        "$$\n",
        "\n",
        "$$\n",
        "G -> \\beta G + \\frac{1-\\beta}{n}ee^T\n",
        "$$\n",
        "\n",
        ", 0 < \\beta < 1\n",
        "\n",
        ", e - vector of ones\n",
        "\n",
        "$$\n",
        "(\\hat 1 - \\beta G)p = \\frac{1 - \\beta}{n}e\n",
        "$$"
      ],
      "metadata": {
        "id": "1ONQvQAAYoD1"
      },
      "id": "1ONQvQAAYoD1"
    },
    {
      "cell_type": "code",
      "source": [
        "graph = {\n",
        "    'Code da Vinci': ['book', 'Dan Braun'],\n",
        "    'Dan Braun': ['Code da Vinci', 'author', 'Italy', 'book'],\n",
        "    'book': ['novel'],\n",
        "    'author': ['Dostoevsky', 'Dan Braun', 'Umbert Eco'],\n",
        "    'novel': ['The name of the Rose', 'Code da Vinci', 'book'],\n",
        "    'Italy': ['Umbert Eco'],\n",
        "    'religion': ['Dostoevsky', 'Italy'],\n",
        "    'Dostoevsky': ['novel', 'author', 'book'],\n",
        "    'Umbert Eco': ['novel', 'author', 'The name of the Rose', 'Italy'],\n",
        "    'The name of the Rose': ['book', 'Umbert Eco'],\n",
        "    'greatest authors of all time': ['Dostoevsky']\n",
        "}\n",
        "\n",
        "N = len(graph)"
      ],
      "metadata": {
        "id": "qUDDN2fqSfzM"
      },
      "id": "qUDDN2fqSfzM",
      "execution_count": 143,
      "outputs": []
    },
    {
      "cell_type": "code",
      "source": [
        "index = dict(enumerate(graph))\n",
        "name2index = {val:key for key, val in index.items()}\n",
        "index"
      ],
      "metadata": {
        "colab": {
          "base_uri": "https://localhost:8080/"
        },
        "id": "al4DfeSgeY-1",
        "outputId": "98ae4f6b-c056-40d8-b753-03b5daa99d96"
      },
      "id": "al4DfeSgeY-1",
      "execution_count": 144,
      "outputs": [
        {
          "output_type": "execute_result",
          "data": {
            "text/plain": [
              "{0: 'Code da Vinci',\n",
              " 1: 'Dan Braun',\n",
              " 2: 'book',\n",
              " 3: 'author',\n",
              " 4: 'novel',\n",
              " 5: 'Italy',\n",
              " 6: 'religion',\n",
              " 7: 'Dostoevsky',\n",
              " 8: 'Umbert Eco',\n",
              " 9: 'The name of the Rose',\n",
              " 10: 'greatest authors of all time'}"
            ]
          },
          "metadata": {},
          "execution_count": 144
        }
      ]
    },
    {
      "cell_type": "code",
      "source": [
        "# L[j] - number of links from j\n",
        "L = [len(graph[index[j]]) for j in range(N)]\n",
        "L"
      ],
      "metadata": {
        "colab": {
          "base_uri": "https://localhost:8080/"
        },
        "id": "76cRmkH_eZBR",
        "outputId": "73cf478b-3e67-489e-e9ac-238eaa44acd1"
      },
      "id": "76cRmkH_eZBR",
      "execution_count": 145,
      "outputs": [
        {
          "output_type": "execute_result",
          "data": {
            "text/plain": [
              "[2, 4, 1, 3, 3, 1, 2, 3, 4, 2, 1]"
            ]
          },
          "metadata": {},
          "execution_count": 145
        }
      ]
    },
    {
      "cell_type": "code",
      "source": [
        "# 𝑙𝑖𝑗 = 1 if j-th page refers to i-th\n",
        "l = np.zeros(shape=(N, N))\n",
        "for j in range(N):\n",
        "  for ref in graph[index[j]]:\n",
        "    i = name2index[ref]\n",
        "    l[i][j] = 1\n",
        "l"
      ],
      "metadata": {
        "colab": {
          "base_uri": "https://localhost:8080/"
        },
        "id": "zgoYyETslK8K",
        "outputId": "db029bff-b299-45ba-8727-6ce20425f86e"
      },
      "id": "zgoYyETslK8K",
      "execution_count": 146,
      "outputs": [
        {
          "output_type": "execute_result",
          "data": {
            "text/plain": [
              "array([[0., 1., 0., 0., 1., 0., 0., 0., 0., 0., 0.],\n",
              "       [1., 0., 0., 1., 0., 0., 0., 0., 0., 0., 0.],\n",
              "       [1., 1., 0., 0., 1., 0., 0., 1., 0., 1., 0.],\n",
              "       [0., 1., 0., 0., 0., 0., 0., 1., 1., 0., 0.],\n",
              "       [0., 0., 1., 0., 0., 0., 0., 1., 1., 0., 0.],\n",
              "       [0., 1., 0., 0., 0., 0., 1., 0., 1., 0., 0.],\n",
              "       [0., 0., 0., 0., 0., 0., 0., 0., 0., 0., 0.],\n",
              "       [0., 0., 0., 1., 0., 0., 1., 0., 0., 0., 1.],\n",
              "       [0., 0., 0., 1., 0., 1., 0., 0., 0., 1., 0.],\n",
              "       [0., 0., 0., 0., 1., 0., 0., 0., 1., 0., 0.],\n",
              "       [0., 0., 0., 0., 0., 0., 0., 0., 0., 0., 0.]])"
            ]
          },
          "metadata": {},
          "execution_count": 146
        }
      ]
    },
    {
      "cell_type": "code",
      "source": [
        "G = np.array([\n",
        "    [l[i][j] / L[j] for j in range(N)] for i in range(N)\n",
        "])\n",
        "\n",
        "for j in range(N):\n",
        "  if max(G[:, j]) == 0:\n",
        "    G[:, j] = 1/N\n",
        "\n",
        "G"
      ],
      "metadata": {
        "colab": {
          "base_uri": "https://localhost:8080/"
        },
        "id": "nE6NgazBmjy3",
        "outputId": "044e1570-2a37-4010-b281-1ac65b8e4069"
      },
      "id": "nE6NgazBmjy3",
      "execution_count": 147,
      "outputs": [
        {
          "output_type": "execute_result",
          "data": {
            "text/plain": [
              "array([[0.        , 0.25      , 0.        , 0.        , 0.33333333,\n",
              "        0.        , 0.        , 0.        , 0.        , 0.        ,\n",
              "        0.        ],\n",
              "       [0.5       , 0.        , 0.        , 0.33333333, 0.        ,\n",
              "        0.        , 0.        , 0.        , 0.        , 0.        ,\n",
              "        0.        ],\n",
              "       [0.5       , 0.25      , 0.        , 0.        , 0.33333333,\n",
              "        0.        , 0.        , 0.33333333, 0.        , 0.5       ,\n",
              "        0.        ],\n",
              "       [0.        , 0.25      , 0.        , 0.        , 0.        ,\n",
              "        0.        , 0.        , 0.33333333, 0.25      , 0.        ,\n",
              "        0.        ],\n",
              "       [0.        , 0.        , 1.        , 0.        , 0.        ,\n",
              "        0.        , 0.        , 0.33333333, 0.25      , 0.        ,\n",
              "        0.        ],\n",
              "       [0.        , 0.25      , 0.        , 0.        , 0.        ,\n",
              "        0.        , 0.5       , 0.        , 0.25      , 0.        ,\n",
              "        0.        ],\n",
              "       [0.        , 0.        , 0.        , 0.        , 0.        ,\n",
              "        0.        , 0.        , 0.        , 0.        , 0.        ,\n",
              "        0.        ],\n",
              "       [0.        , 0.        , 0.        , 0.33333333, 0.        ,\n",
              "        0.        , 0.5       , 0.        , 0.        , 0.        ,\n",
              "        1.        ],\n",
              "       [0.        , 0.        , 0.        , 0.33333333, 0.        ,\n",
              "        1.        , 0.        , 0.        , 0.        , 0.5       ,\n",
              "        0.        ],\n",
              "       [0.        , 0.        , 0.        , 0.        , 0.33333333,\n",
              "        0.        , 0.        , 0.        , 0.25      , 0.        ,\n",
              "        0.        ],\n",
              "       [0.        , 0.        , 0.        , 0.        , 0.        ,\n",
              "        0.        , 0.        , 0.        , 0.        , 0.        ,\n",
              "        0.        ]])"
            ]
          },
          "metadata": {},
          "execution_count": 147
        }
      ]
    },
    {
      "cell_type": "code",
      "source": [
        "beta = 0.8\n",
        "\n",
        "A = np.eye(N) - beta*G\n",
        "b = (1 - beta) / N * np.ones(N)\n",
        "p = np.linalg.solve(A, b)\n",
        "\n",
        "values = {index[i]: p[i] for i in range(N)}\n",
        "sorted_values = {k: val for k, val in sorted(values.items(), key=lambda item: item[1], reverse=True)}\n",
        "for k, v in sorted_values.items():\n",
        "  print(f'{k}: {v:.5f}')"
      ],
      "metadata": {
        "colab": {
          "base_uri": "https://localhost:8080/"
        },
        "id": "rO6kYvO5p0UB",
        "outputId": "41944a75-a7dd-43f7-9aa2-aef291a3086b"
      },
      "id": "rO6kYvO5p0UB",
      "execution_count": 148,
      "outputs": [
        {
          "output_type": "stream",
          "name": "stdout",
          "text": [
            "novel: 0.20079\n",
            "book: 0.17580\n",
            "Umbert Eco: 0.12995\n",
            "The name of the Rose: 0.09772\n",
            "Code da Vinci: 0.08624\n",
            "author: 0.07467\n",
            "Dan Braun: 0.07259\n",
            "Italy: 0.06596\n",
            "Dostoevsky: 0.05991\n",
            "religion: 0.01818\n",
            "greatest authors of all time: 0.01818\n"
          ]
        }
      ]
    },
    {
      "cell_type": "markdown",
      "source": [
        "Two last items get the same small 'importance' because they are not referenced by any other page."
      ],
      "metadata": {
        "id": "c4RnWudcUqab"
      },
      "id": "c4RnWudcUqab"
    },
    {
      "cell_type": "code",
      "source": [],
      "metadata": {
        "id": "lA7vxC2kUpjZ"
      },
      "id": "lA7vxC2kUpjZ",
      "execution_count": 148,
      "outputs": []
    },
    {
      "cell_type": "markdown",
      "source": [
        "### Gnutella dataset"
      ],
      "metadata": {
        "id": "1J9KQO80U12K"
      },
      "id": "1J9KQO80U12K"
    },
    {
      "cell_type": "code",
      "source": [
        "!wget https://snap.stanford.edu/data/p2p-Gnutella09.txt.gz\n",
        "!ls"
      ],
      "metadata": {
        "colab": {
          "base_uri": "https://localhost:8080/"
        },
        "id": "Cg5xaw3JdL9Z",
        "outputId": "97797e86-8a92-451a-eb9d-984a8ca5040c"
      },
      "id": "Cg5xaw3JdL9Z",
      "execution_count": 149,
      "outputs": [
        {
          "output_type": "stream",
          "name": "stdout",
          "text": [
            "--2023-12-16 12:47:52--  https://snap.stanford.edu/data/p2p-Gnutella09.txt.gz\n",
            "Resolving snap.stanford.edu (snap.stanford.edu)... 171.64.75.80\n",
            "Connecting to snap.stanford.edu (snap.stanford.edu)|171.64.75.80|:443... connected.\n",
            "HTTP request sent, awaiting response... 200 OK\n",
            "Length: 80846 (79K) [application/x-gzip]\n",
            "Saving to: ‘p2p-Gnutella09.txt.gz’\n",
            "\n",
            "p2p-Gnutella09.txt. 100%[===================>]  78.95K   412KB/s    in 0.2s    \n",
            "\n",
            "2023-12-16 12:47:52 (412 KB/s) - ‘p2p-Gnutella09.txt.gz’ saved [80846/80846]\n",
            "\n",
            "data.pkl  p2p-Gnutella09.txt  p2p-Gnutella09.txt.gz  sample_data  web-Stanford.txt  y.npy\n"
          ]
        }
      ]
    },
    {
      "cell_type": "code",
      "source": [
        "!gzip -df p2p-Gnutella09.txt.gz && ls"
      ],
      "metadata": {
        "colab": {
          "base_uri": "https://localhost:8080/"
        },
        "id": "45dIUd-DeE1Y",
        "outputId": "749d24a9-3be9-4a7b-d1f6-c822a5cff71f"
      },
      "id": "45dIUd-DeE1Y",
      "execution_count": 150,
      "outputs": [
        {
          "output_type": "stream",
          "name": "stdout",
          "text": [
            "data.pkl  p2p-Gnutella09.txt  sample_data  web-Stanford.txt  y.npy\n"
          ]
        }
      ]
    },
    {
      "cell_type": "code",
      "source": [
        "!head -n10 p2p-Gnutella09.txt"
      ],
      "metadata": {
        "colab": {
          "base_uri": "https://localhost:8080/"
        },
        "id": "w0O7ULy0VS4l",
        "outputId": "36abe6f6-2cf1-4090-d383-442b719fd41c"
      },
      "id": "w0O7ULy0VS4l",
      "execution_count": 151,
      "outputs": [
        {
          "output_type": "stream",
          "name": "stdout",
          "text": [
            "# Directed graph (each unordered pair of nodes is saved once): p2p-Gnutella09.txt \r\n",
            "# Directed Gnutella P2P network from August 9 2002\r\n",
            "# Nodes: 8114 Edges: 26013\r\n",
            "# FromNodeId\tToNodeId\r\n",
            "0\t1\r\n",
            "0\t2\r\n",
            "0\t3\r\n",
            "0\t4\r\n",
            "0\t5\r\n",
            "0\t6\r\n"
          ]
        }
      ]
    },
    {
      "cell_type": "code",
      "source": [
        "data = {}\n",
        "with open(\"p2p-Gnutella09.txt\") as gnutella:\n",
        "    for line in gnutella.readlines():\n",
        "        if line[0] == '#': continue\n",
        "        f, t = line.replace('\\n', '').split('\\t')\n",
        "        f = int(f)\n",
        "        t = int(t)\n",
        "        if f not in data: data[f] = []\n",
        "        data[f].append(t)\n",
        "\n",
        "def get_page_num(data):\n",
        "  N = 0\n",
        "  for k, v in data.items():\n",
        "    if k > N: N = k\n",
        "    if max(v) > N: N = max(v)\n",
        "  return N + 1\n",
        "\n",
        "N = get_page_num(data)\n",
        "N"
      ],
      "metadata": {
        "colab": {
          "base_uri": "https://localhost:8080/"
        },
        "id": "fRjZG9wnTlAJ",
        "outputId": "676dea19-9b2c-4e36-9297-74c84073e063"
      },
      "id": "fRjZG9wnTlAJ",
      "execution_count": 152,
      "outputs": [
        {
          "output_type": "execute_result",
          "data": {
            "text/plain": [
              "8114"
            ]
          },
          "metadata": {},
          "execution_count": 152
        }
      ]
    },
    {
      "cell_type": "code",
      "source": [],
      "metadata": {
        "id": "HztV1zzwcLp6"
      },
      "id": "HztV1zzwcLp6",
      "execution_count": 152,
      "outputs": []
    },
    {
      "cell_type": "code",
      "source": [
        "def getDenseG(data, N):\n",
        "  G = np.array([\n",
        "    [1 / len(data[j]) if (i in data.get(j, [])) else 0 for j in range(N)]\n",
        "        for i in range(N)\n",
        "  ])\n",
        "  for j in range(N):\n",
        "    if max(G[:, j]) == 0:\n",
        "      G[:, j] = 1/N\n",
        "  return G\n",
        "\n",
        "def calculate_dense(data, N):\n",
        "    beta = 0.8\n",
        "\n",
        "    G = getDenseG(data, N)\n",
        "\n",
        "    A = np.eye(N) - beta*G\n",
        "    b = (1 - beta) / N * np.ones(N)\n",
        "    return np.linalg.solve(A, b)\n",
        "\n",
        "def print_res(res):\n",
        "  values = dict(enumerate(res))\n",
        "  sorted_values = [(k, val) for k, val in sorted(values.items(), key=lambda item: item[1], reverse=True)]\n",
        "  for k, val in sorted_values[:20]:\n",
        "    print(f'{k}: {val}')"
      ],
      "metadata": {
        "id": "DoiGllcnW2g3"
      },
      "id": "DoiGllcnW2g3",
      "execution_count": 153,
      "outputs": []
    },
    {
      "cell_type": "code",
      "source": [
        "%%timeit\n",
        "calculate_dense(data, N)"
      ],
      "metadata": {
        "colab": {
          "base_uri": "https://localhost:8080/"
        },
        "id": "2jCHALjFcIn4",
        "outputId": "5e5bc9c4-1204-429e-f4bd-bc549b6db387"
      },
      "id": "2jCHALjFcIn4",
      "execution_count": 154,
      "outputs": [
        {
          "output_type": "stream",
          "name": "stdout",
          "text": [
            "45.7 s ± 821 ms per loop (mean ± std. dev. of 7 runs, 1 loop each)\n"
          ]
        }
      ]
    },
    {
      "cell_type": "code",
      "source": [
        "res_dense = (calculate_dense(data, N))\n",
        "print_res(res_dense)"
      ],
      "metadata": {
        "colab": {
          "base_uri": "https://localhost:8080/"
        },
        "id": "slR4HrUyf47s",
        "outputId": "548dc447-4424-41fa-8f3f-d7f224b67e3e"
      },
      "id": "slR4HrUyf47s",
      "execution_count": 155,
      "outputs": [
        {
          "output_type": "stream",
          "name": "stdout",
          "text": [
            "351: 0.0014688800210253812\n",
            "563: 0.0014314361823937526\n",
            "822: 0.0013237943095997153\n",
            "825: 0.001287178287529871\n",
            "534: 0.0012854465710185877\n",
            "565: 0.0012833344480483973\n",
            "1389: 0.0012534206886726893\n",
            "1126: 0.001232540239072705\n",
            "356: 0.0012325006369165706\n",
            "530: 0.0012250116657561846\n",
            "352: 0.0012169032873341297\n",
            "96: 0.0012053696120686611\n",
            "51: 0.0012030625652383073\n",
            "1042: 0.0012009629861759051\n",
            "150: 0.0011472688642636076\n",
            "752: 0.0011427508764555298\n",
            "90: 0.0011420339118649275\n",
            "836: 0.0011286894218776383\n",
            "531: 0.0011271735488449998\n",
            "706: 0.001118374193920562\n"
          ]
        }
      ]
    },
    {
      "cell_type": "code",
      "source": [],
      "metadata": {
        "id": "dTrzx7wWf_le"
      },
      "id": "dTrzx7wWf_le",
      "execution_count": 155,
      "outputs": []
    },
    {
      "cell_type": "markdown",
      "source": [
        "Lets create G as sparse matrix"
      ],
      "metadata": {
        "id": "p2MYPkYvhLZ9"
      },
      "id": "p2MYPkYvhLZ9"
    },
    {
      "cell_type": "code",
      "source": [
        "def getSparseG(data, N):\n",
        "  row_idx = []\n",
        "  col_idx = []\n",
        "  values = []\n",
        "  for f, tos in data.items():\n",
        "    col_idx += [f]*len(tos)\n",
        "    row_idx += tos\n",
        "    values += [1/len(tos)]*len(tos)\n",
        "\n",
        "  G = scipy.sparse.csc_matrix((values, (row_idx, col_idx)), shape=(N, N))\n",
        "\n",
        "  # Skip this part because otherwise matrix will not be sparse anymore.\n",
        "  #for j in range(N):\n",
        "  #  if max(G[:, [j]]) == 0:\n",
        "  #    G[:, [j]] = 1/N\n",
        "\n",
        "  return G\n",
        "\n",
        "def calculate_sparse(data, N):\n",
        "    beta = 0.8\n",
        "\n",
        "    G = getSparseG(data, N)\n",
        "\n",
        "    A = scipy.sparse.diags([1], [0], shape=(N, N), format='csr') - beta*G\n",
        "    b = (1 - beta) / N * np.ones(N)\n",
        "    return scipy.sparse.linalg.spsolve(A, b)\n"
      ],
      "metadata": {
        "id": "4vAgNzyDf_n8"
      },
      "id": "4vAgNzyDf_n8",
      "execution_count": 156,
      "outputs": []
    },
    {
      "cell_type": "code",
      "source": [
        "%%timeit\n",
        "calculate_sparse(data, N)"
      ],
      "metadata": {
        "colab": {
          "base_uri": "https://localhost:8080/"
        },
        "id": "b-_J05-Xgiid",
        "outputId": "1f348f8b-a4cc-4307-ef19-2979587bd67b"
      },
      "id": "b-_J05-Xgiid",
      "execution_count": 157,
      "outputs": [
        {
          "output_type": "stream",
          "name": "stdout",
          "text": [
            "1.6 s ± 309 ms per loop (mean ± std. dev. of 7 runs, 1 loop each)\n"
          ]
        }
      ]
    },
    {
      "cell_type": "code",
      "source": [
        "res_sparse = calculate_sparse(data, N)\n",
        "print_res(res_sparse)"
      ],
      "metadata": {
        "colab": {
          "base_uri": "https://localhost:8080/"
        },
        "id": "g-H_CviMgnkg",
        "outputId": "d99be6a6-89df-4f7d-ed08-ca42f098b24d"
      },
      "id": "g-H_CviMgnkg",
      "execution_count": 158,
      "outputs": [
        {
          "output_type": "stream",
          "name": "stdout",
          "text": [
            "351: 0.0004338198229216125\n",
            "563: 0.00042276113929043386\n",
            "822: 0.0003909701301364921\n",
            "825: 0.00038015593429812397\n",
            "534: 0.00037964448820346566\n",
            "565: 0.00037902069265869623\n",
            "1389: 0.0003701859467233329\n",
            "1126: 0.00036401910340166737\n",
            "356: 0.00036400740727937273\n",
            "530: 0.00036179561047081186\n",
            "352: 0.00035940087758528787\n",
            "96: 0.0003559945156703054\n",
            "51: 0.00035531315120684355\n",
            "1042: 0.00035469306038661124\n",
            "150: 0.0003388350092684104\n",
            "752: 0.0003375006642961811\n",
            "90: 0.0003372889155847242\n",
            "836: 0.00033334774666663694\n",
            "531: 0.00033290004790215144\n",
            "706: 0.0003303012416412571\n"
          ]
        }
      ]
    },
    {
      "cell_type": "code",
      "source": [
        "sum(res_sparse)"
      ],
      "metadata": {
        "colab": {
          "base_uri": "https://localhost:8080/"
        },
        "id": "GvNvCSsf7gb1",
        "outputId": "c1395f1c-395b-4c67-bed9-619425e21688"
      },
      "id": "GvNvCSsf7gb1",
      "execution_count": 159,
      "outputs": [
        {
          "output_type": "execute_result",
          "data": {
            "text/plain": [
              "0.29534054293881473"
            ]
          },
          "metadata": {},
          "execution_count": 159
        }
      ]
    },
    {
      "cell_type": "markdown",
      "source": [
        "Top pages are the same, althought their ranks differ in absolute values. Also pages' ranks do not summ to 1 because I skipped normalization.\n",
        "\n",
        "Lets analyse difference in ranks for other pages."
      ],
      "metadata": {
        "id": "H8CTAPnA1VgW"
      },
      "id": "H8CTAPnA1VgW"
    },
    {
      "cell_type": "code",
      "source": [],
      "metadata": {
        "id": "InyyrpMm1U4Y"
      },
      "id": "InyyrpMm1U4Y",
      "execution_count": 159,
      "outputs": []
    },
    {
      "cell_type": "code",
      "source": [
        "# Check ranks of which pages differ\n",
        "\n",
        "def print_diff(res, candidate):\n",
        "    res_dict = dict(enumerate(res))\n",
        "    candidate_dict = dict(enumerate(candidate))\n",
        "\n",
        "    res_rank = [k for k, val in sorted(res_dict.items(), key=lambda item: item[1], reverse=True)]\n",
        "    candidate_rank = [k for k, val in sorted(candidate_dict.items(), key=lambda item: item[1], reverse=True)]\n",
        "    page2candidate_rank = {page: i for i, page in enumerate(candidate_rank)}\n",
        "    diff = []\n",
        "    for i in range(N):\n",
        "      candidate_rank_place = page2candidate_rank[res_rank[i]]\n",
        "      diff.append(abs(i - candidate_rank_place))\n",
        "\n",
        "    print(f'max diff in rank: {max(diff)}, avg diff: {sum(diff)/len(diff)}')\n",
        "\n",
        "print_diff(res_dense, res_sparse)"
      ],
      "metadata": {
        "colab": {
          "base_uri": "https://localhost:8080/"
        },
        "id": "-kClwQCT8g-w",
        "outputId": "d8697a7d-aba5-453d-b8b9-5913b75a465e"
      },
      "id": "-kClwQCT8g-w",
      "execution_count": 160,
      "outputs": [
        {
          "output_type": "stream",
          "name": "stdout",
          "text": [
            "max diff in rank: 70, avg diff: 0.9041163421247227\n"
          ]
        }
      ]
    },
    {
      "cell_type": "markdown",
      "source": [
        "PageRanks differ, but not that big."
      ],
      "metadata": {
        "id": "qbkWQ_lh8Y4D"
      },
      "id": "qbkWQ_lh8Y4D"
    },
    {
      "cell_type": "code",
      "source": [],
      "metadata": {
        "id": "RdzK3uew8skH"
      },
      "id": "RdzK3uew8skH",
      "execution_count": 160,
      "outputs": []
    },
    {
      "cell_type": "markdown",
      "source": [
        "### Web-Stanford dataset using iterative method"
      ],
      "metadata": {
        "id": "J6OLwHBlC6KX"
      },
      "id": "J6OLwHBlC6KX"
    },
    {
      "cell_type": "code",
      "source": [
        "!wget http://snap.stanford.edu/data/web-Stanford.txt.gz\n",
        "!ls\n",
        "#!gzip -df p2p-Gnutella09.txt.gz && ls\n",
        "#!head -n10 p2p-Gnutella09.txt"
      ],
      "metadata": {
        "colab": {
          "base_uri": "https://localhost:8080/"
        },
        "id": "Q3UJpU9qDNuC",
        "outputId": "de589265-cce2-4439-e071-fdaf51d4116a"
      },
      "id": "Q3UJpU9qDNuC",
      "execution_count": 161,
      "outputs": [
        {
          "output_type": "stream",
          "name": "stdout",
          "text": [
            "--2023-12-16 12:55:00--  http://snap.stanford.edu/data/web-Stanford.txt.gz\n",
            "Resolving snap.stanford.edu (snap.stanford.edu)... 171.64.75.80\n",
            "Connecting to snap.stanford.edu (snap.stanford.edu)|171.64.75.80|:80... connected.\n",
            "HTTP request sent, awaiting response... 200 OK\n",
            "Length: 8908378 (8.5M) [application/x-gzip]\n",
            "Saving to: ‘web-Stanford.txt.gz’\n",
            "\n",
            "web-Stanford.txt.gz 100%[===================>]   8.50M  4.78MB/s    in 1.8s    \n",
            "\n",
            "2023-12-16 12:55:02 (4.78 MB/s) - ‘web-Stanford.txt.gz’ saved [8908378/8908378]\n",
            "\n",
            "data.pkl  p2p-Gnutella09.txt  sample_data  web-Stanford.txt  web-Stanford.txt.gz  y.npy\n"
          ]
        }
      ]
    },
    {
      "cell_type": "code",
      "source": [
        "!gzip -df web-Stanford.txt.gz && ls"
      ],
      "metadata": {
        "colab": {
          "base_uri": "https://localhost:8080/"
        },
        "id": "FGh_v8WqDDF7",
        "outputId": "e82fedcd-5669-4455-83cb-f8d917c070db"
      },
      "id": "FGh_v8WqDDF7",
      "execution_count": 162,
      "outputs": [
        {
          "output_type": "stream",
          "name": "stdout",
          "text": [
            "data.pkl  p2p-Gnutella09.txt  sample_data  web-Stanford.txt  y.npy\n"
          ]
        }
      ]
    },
    {
      "cell_type": "code",
      "source": [
        "!head -n10 web-Stanford.txt"
      ],
      "metadata": {
        "colab": {
          "base_uri": "https://localhost:8080/"
        },
        "id": "U-PYsWgYDbqo",
        "outputId": "37a022e1-67cf-4acd-bf4e-930500740fe9"
      },
      "id": "U-PYsWgYDbqo",
      "execution_count": 163,
      "outputs": [
        {
          "output_type": "stream",
          "name": "stdout",
          "text": [
            "# Directed graph (each unordered pair of nodes is saved once): web-Stanford.txt \r\n",
            "# Stanford web graph from 2002\r\n",
            "# Nodes: 281903 Edges: 2312497\r\n",
            "# FromNodeId\tToNodeId\r\n",
            "1\t6548\r\n",
            "1\t15409\r\n",
            "6548\t57031\r\n",
            "15409\t13102\r\n",
            "2\t17794\r\n",
            "2\t25202\r\n"
          ]
        }
      ]
    },
    {
      "cell_type": "code",
      "source": [
        "# Nodes start from 1, not zero. Will store them as before from zero for consistency\n",
        "data_ws = {}\n",
        "with open(\"web-Stanford.txt\") as gnutella:\n",
        "    for line in gnutella.readlines():\n",
        "        if line[0] == '#': continue\n",
        "        f, t = line.replace('\\n', '').split('\\t')\n",
        "        f = int(f) - 1\n",
        "        t = int(t) - 1\n",
        "        if f not in data_ws: data_ws[f] = []\n",
        "        data_ws[f].append(t)\n",
        "\n",
        "N_ws = get_page_num(data_ws)\n",
        "N_ws"
      ],
      "metadata": {
        "colab": {
          "base_uri": "https://localhost:8080/"
        },
        "id": "BM_2PuNWDmZH",
        "outputId": "3991b554-95fe-42a2-b2d9-50b54490435e"
      },
      "id": "BM_2PuNWDmZH",
      "execution_count": 164,
      "outputs": [
        {
          "output_type": "execute_result",
          "data": {
            "text/plain": [
              "281903"
            ]
          },
          "metadata": {},
          "execution_count": 164
        }
      ]
    },
    {
      "cell_type": "code",
      "source": [
        "refs = [len(val) for k, val in data_ws.items()]\n",
        "print(max(refs))\n",
        "print(np.mean(refs))"
      ],
      "metadata": {
        "colab": {
          "base_uri": "https://localhost:8080/"
        },
        "id": "NA11_yELE2FZ",
        "outputId": "abbd91ef-16c0-461e-e819-4e7f924af9e0"
      },
      "id": "NA11_yELE2FZ",
      "execution_count": 165,
      "outputs": [
        {
          "output_type": "stream",
          "name": "stdout",
          "text": [
            "255\n",
            "8.208173754396924\n"
          ]
        }
      ]
    },
    {
      "cell_type": "code",
      "source": [],
      "metadata": {
        "id": "cSF9jg9SiW78"
      },
      "id": "cSF9jg9SiW78",
      "execution_count": 165,
      "outputs": []
    },
    {
      "cell_type": "markdown",
      "source": [
        "Iterative solution:\n",
        "\n",
        "$$\n",
        "(\\hat 1 - \\beta G)p = \\frac{1 - \\beta}{n}e\n",
        "$$\n",
        "\n",
        "$$\n",
        "p = \\beta Gp + \\frac{1 - \\beta}{n}e\n",
        "$$"
      ],
      "metadata": {
        "id": "t4fbXCSm9bPf"
      },
      "id": "t4fbXCSm9bPf"
    },
    {
      "cell_type": "code",
      "source": [
        "def iterative_page_rank(beta, G, N):\n",
        "  b = (1 - beta) / N * np.ones(N)\n",
        "  # initially assign all pages equal page ranks\n",
        "  p = np.array([1/N]*N)\n",
        "\n",
        "  max_iter = 10000\n",
        "  eps = 1e-16\n",
        "\n",
        "  last_err = 1\n",
        "  for i in range(max_iter):\n",
        "    p_new = beta*G.dot(p) + b\n",
        "\n",
        "    diff = p - p_new\n",
        "    last_err = np.linalg.norm(diff)\n",
        "    if last_err < eps:\n",
        "      print(f'Convolved on {i} step, err = {last_err}')\n",
        "      return p_new\n",
        "    p = p_new\n",
        "\n",
        "  print(f'Did not convolve, err = {last_err}')\n",
        "  return p"
      ],
      "metadata": {
        "id": "bW3vSNM-8smq"
      },
      "id": "bW3vSNM-8smq",
      "execution_count": 166,
      "outputs": []
    },
    {
      "cell_type": "code",
      "source": [
        "res_iterative_ws = iterative_page_rank(beta=0.8, G=getSparseG(data_ws, N_ws), N=N_ws)\n",
        "print_res(res_iterative_ws)\n",
        "print(sum(res_iterative_ws))\n",
        "\n",
        "# Note that page numbers start from 0, not 1, so to get actual page number add +1"
      ],
      "metadata": {
        "colab": {
          "base_uri": "https://localhost:8080/"
        },
        "id": "31XBPmLqEArQ",
        "outputId": "6fbb66fd-feda-4bb6-a0c5-5298a4d085d9"
      },
      "id": "31XBPmLqEArQ",
      "execution_count": 167,
      "outputs": [
        {
          "output_type": "stream",
          "name": "stdout",
          "text": [
            "Convolved on 134 step, err = 8.864731098731872e-17\n",
            "89072: 0.01047462900648961\n",
            "226410: 0.009610237777824517\n",
            "241453: 0.008379659180437407\n",
            "134831: 0.0032578572592332064\n",
            "69357: 0.002731673891367669\n",
            "67755: 0.002704544573083373\n",
            "234703: 0.0026613086122579325\n",
            "225871: 0.0025254553882219726\n",
            "186749: 0.0024971047487378946\n",
            "262859: 0.0024868369117870995\n",
            "105606: 0.0024544089017506923\n",
            "136820: 0.002326899509222851\n",
            "68888: 0.0023063829312375507\n",
            "231362: 0.0022916963720297666\n",
            "272441: 0.002049887662886797\n",
            "251795: 0.002049887662886796\n",
            "95162: 0.002049887662886789\n",
            "167294: 0.0020483027612905732\n",
            "119478: 0.0019983171469756837\n",
            "38341: 0.0018925660276605872\n",
            "0.9982380296486221\n"
          ]
        }
      ]
    },
    {
      "cell_type": "markdown",
      "source": [
        "So, page number **89073** has the largest rating."
      ],
      "metadata": {
        "id": "V4Fhs4E8i3oB"
      },
      "id": "V4Fhs4E8i3oB"
    },
    {
      "cell_type": "code",
      "source": [],
      "metadata": {
        "id": "StwoRziWiEHk"
      },
      "id": "StwoRziWiEHk",
      "execution_count": 167,
      "outputs": []
    },
    {
      "cell_type": "code",
      "source": [],
      "metadata": {
        "id": "nQhZMJc18so1"
      },
      "id": "nQhZMJc18so1",
      "execution_count": 167,
      "outputs": []
    },
    {
      "cell_type": "code",
      "source": [],
      "metadata": {
        "id": "tuEeDULUgnUW"
      },
      "id": "tuEeDULUgnUW",
      "execution_count": 167,
      "outputs": []
    }
  ],
  "metadata": {
    "kernelspec": {
      "display_name": "Python 3 (ipykernel)",
      "language": "python",
      "name": "python3"
    },
    "language_info": {
      "codemirror_mode": {
        "name": "ipython",
        "version": 3
      },
      "file_extension": ".py",
      "mimetype": "text/x-python",
      "name": "python",
      "nbconvert_exporter": "python",
      "pygments_lexer": "ipython3",
      "version": "3.8.9"
    },
    "colab": {
      "provenance": []
    }
  },
  "nbformat": 4,
  "nbformat_minor": 5
}