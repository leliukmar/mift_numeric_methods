{
  "nbformat": 4,
  "nbformat_minor": 0,
  "metadata": {
    "colab": {
      "provenance": []
    },
    "kernelspec": {
      "name": "python3",
      "display_name": "Python 3"
    },
    "language_info": {
      "name": "python"
    }
  },
  "cells": [
    {
      "cell_type": "markdown",
      "source": [
        "# Task 1"
      ],
      "metadata": {
        "id": "yJobLWvPV8sE"
      }
    },
    {
      "cell_type": "markdown",
      "source": [
        "$f(x_1, x_2) = (x_1 + x_2^2)^2 = x_1^2 + 2x_1x_2^2 + x_2^4$\n",
        "\n",
        "$x = (1, 0)$\n"
      ],
      "metadata": {
        "id": "VzI0tukjgSIt"
      }
    },
    {
      "cell_type": "markdown",
      "source": [
        "1. For $p$ to be sedcent direction, the following must be true: $p \\cdot \\nabla f < 0$"
      ],
      "metadata": {
        "id": "yZdIcEyEgpMf"
      }
    },
    {
      "cell_type": "markdown",
      "source": [
        "$$\n",
        "\\nabla f = \\left( \\frac{\\partial f}{\\partial x_1}, \\frac{\\partial f}{\\partial x_2} \\right)\n",
        "$$\n",
        "\n",
        "$$\n",
        "\\nabla f = \\left(2x_1 + 2x_2^2, 4x_1x_2 + 4x_2^3\\right)\n",
        "$$\n",
        "\n",
        "$$\n",
        "\\nabla f(1, 0) = \\left(2, 0\\right)\n",
        "$$\n"
      ],
      "metadata": {
        "id": "XGHD6BeKhC0_"
      }
    },
    {
      "cell_type": "markdown",
      "source": [
        "$p \\cdot \\nabla f  = (-1, 1) \\cdot (2, 0) = -2 < 0$\n"
      ],
      "metadata": {
        "id": "CbPSnh1qhC-o"
      }
    },
    {
      "cell_type": "markdown",
      "source": [
        "2. Find minimizers of $\\min\\limits_{\\alpha > 0} f(x + \\alpha p)$\n",
        "\n",
        "$f(x + \\alpha p) = (x_1 + \\alpha p_1 + (x_2 + \\alpha p_2)^2)^2$\n",
        "\n",
        "With $x = (1, 0)$, $p = (-1, 1)$:\n",
        "\n",
        "$f(x + \\alpha p) =  (1 - \\alpha + \\alpha^2)^2$"
      ],
      "metadata": {
        "id": "1jKmz6uehDB9"
      }
    },
    {
      "cell_type": "markdown",
      "source": [
        "$\\nabla f(x + \\alpha p)  = 2(1 - \\alpha + \\alpha^2)(2\\alpha - 1) = 2\\alpha^3 - 3\\alpha^2 + 3\\alpha - 1$"
      ],
      "metadata": {
        "id": "0m9N3pXsjSp9"
      }
    },
    {
      "cell_type": "code",
      "execution_count": 3,
      "metadata": {
        "colab": {
          "base_uri": "https://localhost:8080/"
        },
        "id": "mng63Ld0Tuf_",
        "outputId": "ad5ae944-1c8e-43c6-dae2-bf128ef4d831"
      },
      "outputs": [
        {
          "output_type": "execute_result",
          "data": {
            "text/plain": [
              "[1/2, 1/2 - sqrt(3)*I/2, 1/2 + sqrt(3)*I/2]"
            ]
          },
          "metadata": {},
          "execution_count": 3
        }
      ],
      "source": [
        "from sympy.solvers import solve\n",
        "from sympy import Symbol\n",
        "x = Symbol('x')\n",
        "solve(2*x**3 -3*x**2 + 3*x - 1, x)"
      ]
    },
    {
      "cell_type": "markdown",
      "source": [
        "So, the answer is $\\alpha = \\frac{1}{2}$"
      ],
      "metadata": {
        "id": "yvjVRB0Bj4e-"
      }
    },
    {
      "cell_type": "code",
      "source": [],
      "metadata": {
        "id": "zJJWjgc8kC8G"
      },
      "execution_count": null,
      "outputs": []
    },
    {
      "cell_type": "markdown",
      "source": [
        "# Task 2"
      ],
      "metadata": {
        "id": "zsXB3pVYkB7I"
      }
    },
    {
      "cell_type": "code",
      "source": [
        "import numpy as np\n",
        "import matplotlib.pyplot as plt\n",
        "\n",
        "import jax\n",
        "import jax.numpy as jnp\n",
        "jax.config.update(\"jax_enable_x64\", True)\n",
        "from scipy import optimize"
      ],
      "metadata": {
        "id": "B_HuaxQtqwZn"
      },
      "execution_count": 1,
      "outputs": []
    },
    {
      "cell_type": "markdown",
      "source": [],
      "metadata": {
        "id": "ilkTOeQ-woBT"
      }
    },
    {
      "cell_type": "code",
      "source": [
        "k = 201\n",
        "X = np.linspace(-3, 3, k)\n",
        "Y = np.exp(X)\n",
        "plt.scatter(X, Y, s = 0.8)"
      ],
      "metadata": {
        "colab": {
          "base_uri": "https://localhost:8080/",
          "height": 449
        },
        "id": "uO5eFzE7q2Pz",
        "outputId": "8464233e-e372-44d2-9a18-c0a18b59ac2a"
      },
      "execution_count": 2,
      "outputs": [
        {
          "output_type": "execute_result",
          "data": {
            "text/plain": [
              "<matplotlib.collections.PathCollection at 0x7c85b778a140>"
            ]
          },
          "metadata": {},
          "execution_count": 2
        },
        {
          "output_type": "display_data",
          "data": {
            "text/plain": [
              "<Figure size 640x480 with 1 Axes>"
            ],
            "image/png": "[encoded data removed]"
          },
          "metadata": {}
        }
      ]
    },
    {
      "cell_type": "code",
      "source": [
        "def func(x, a):\n",
        "  return (a[0] + a[1]*x + a[2]*x**2) / (1 + a[3]*x + a[4]*x**2)"
      ],
      "metadata": {
        "id": "fP4ylJL5rHgf"
      },
      "execution_count": 3,
      "outputs": []
    },
    {
      "cell_type": "markdown",
      "source": [
        "Repalce $\\max\\limits_{i=1..k} |f(x_i) - y_i|$ with vector p-norm: $|f(x) - y|_p = (\\sum_{i=1}^{k}|f(x_i) - y_i|^p)^\\frac{1}{p}$"
      ],
      "metadata": {
        "id": "5Ra97YEWr35F"
      }
    },
    {
      "cell_type": "code",
      "source": [
        "def loss(a):\n",
        "  P = 20\n",
        "  return jnp.sum((func(X, a) - Y)**P)**(1/P)"
      ],
      "metadata": {
        "id": "Nh47r9Sar3Nm"
      },
      "execution_count": 4,
      "outputs": []
    },
    {
      "cell_type": "code",
      "source": [
        "def plot_res(a):\n",
        "  plt.scatter(X, Y, s=0.8, label='Target')\n",
        "  plt.plot(X, func(X, a), color='darkred', label=\"Fit\")\n",
        "  plt.legend()"
      ],
      "metadata": {
        "id": "0dWQlUKyvM03"
      },
      "execution_count": 5,
      "outputs": []
    },
    {
      "cell_type": "code",
      "source": [
        "a0 = np.random.normal(size=5)\n",
        "res = optimize.minimize(loss, a0, jac = jax.grad(loss), hess=jax.hessian(loss), method='Newton-CG')\n",
        "print(res)\n",
        "print(f'Max diff: {np.max(func(X, res.x) - Y)}')\n",
        "plot_res(res.x)"
      ],
      "metadata": {
        "colab": {
          "base_uri": "https://localhost:8080/",
          "height": 637
        },
        "id": "DWWJVux7uisO",
        "outputId": "1dc4e000-0e14-4f49-a30e-7f49880bd6e9"
      },
      "execution_count": 6,
      "outputs": [
        {
          "output_type": "stream",
          "name": "stdout",
          "text": [
            " message: Optimization terminated successfully.\n",
            " success: True\n",
            "  status: 0\n",
            "     fun: 0.23534572767898548\n",
            "       x: [ 8.086e-01  6.968e-01  1.482e-01 -4.044e-01  4.701e-02]\n",
            "     nit: 41\n",
            "     jac: [-9.987e-01  5.122e-01  6.852e-06 -2.058e+00 -5.412e+00]\n",
            "    nfev: 78\n",
            "    njev: 78\n",
            "    nhev: 41\n",
            "Max diff: 0.16032009382026402\n"
          ]
        },
        {
          "output_type": "display_data",
          "data": {
            "text/plain": [
              "<Figure size 640x480 with 1 Axes>"
            ],
            "image/png": "[encoded data removed]"
          },
          "metadata": {}
        }
      ]
    },
    {
      "cell_type": "code",
      "source": [
        "res.x"
      ],
      "metadata": {
        "colab": {
          "base_uri": "https://localhost:8080/"
        },
        "id": "ZAkpHKXthX-3",
        "outputId": "0e7f967e-8966-4888-a067-0fddfb0c60bd"
      },
      "execution_count": 8,
      "outputs": [
        {
          "output_type": "execute_result",
          "data": {
            "text/plain": [
              "array([ 0.80860571,  0.69679226,  0.14815466, -0.40442184,  0.0470066 ])"
            ]
          },
          "metadata": {},
          "execution_count": 8
        }
      ]
    },
    {
      "cell_type": "markdown",
      "source": [
        "So, optimal values are:\n",
        "$$\n",
        "a_0 = 0.80860571\n",
        "$$\n",
        "\n",
        "$$\n",
        "a_1 = 0.69679226\n",
        "$$\n",
        "\n",
        "$$\n",
        "a_2 = 0.14815466\n",
        "$$\n",
        "\n",
        "$$\n",
        "b_1 = -0.40442184\n",
        "$$\n",
        "\n",
        "$$\n",
        "b_2 = 0.0470066\n",
        "$$"
      ],
      "metadata": {
        "id": "RYLaNOnEhact"
      }
    },
    {
      "cell_type": "code",
      "source": [],
      "metadata": {
        "id": "yHydG9GglpQt"
      },
      "execution_count": null,
      "outputs": []
    },
    {
      "cell_type": "markdown",
      "source": [
        "# Task 3"
      ],
      "metadata": {
        "id": "YlWJU-s1il9A"
      }
    },
    {
      "cell_type": "markdown",
      "source": [
        "Lets solve the following optimization problem:\n",
        "\n",
        "$$\n",
        "\\min\\limits_{dr} \\sum_{ijk}(\\Theta_{ijk} - arccos\\frac{(r_i + dr_{i} - r_j - dr_{j})\\dot(r_k + dr_{k}- r_j - dr_{j})}{|r_i + dr_{i} - r_j - dr_{j}| |r_k + dr_{k}- r_j - dr_{j}|})^2\n",
        "$$\n",
        "\n",
        ", where $dr_i = (x_i, y_i)$ is correction for the initial estimate $r_i$"
      ],
      "metadata": {
        "id": "SAyi5rtkiRZ4"
      }
    },
    {
      "cell_type": "code",
      "source": [
        "import pandas as pd\n",
        "\n",
        "def read_data(f_path):\n",
        "  dr = pd.read_hdf(f_path, \"dr\", mode=\"r+\")\n",
        "  measurements = pd.read_hdf(f_path, \"measurements\", mode=\"r+\")\n",
        "  r = pd.read_hdf(f_path, \"r\", mode=\"r+\")\n",
        "  return dr, r, measurements\n",
        "\n",
        "dr, r, measurements = read_data('./localization_data_1.hdf')"
      ],
      "metadata": {
        "id": "UWmwTsvtilMj"
      },
      "execution_count": 19,
      "outputs": []
    },
    {
      "cell_type": "code",
      "source": [
        "def solve(dr, r, measurements):\n",
        "  points = r.to_numpy()\n",
        "  measures = measurements.to_numpy()\n",
        "\n",
        "  N = len(points)\n",
        "  # Each point has 2 axis\n",
        "  N_vars = 2 * N\n",
        "  N_thetas = len(measures)\n",
        "  points_linear = np.array(points).reshape(N_vars)\n",
        "\n",
        "  # Indication matrixes for tree vectors active at each measurement\n",
        "  I_1 = np.zeros((N_thetas, 2, N_vars))\n",
        "  I_2 = np.zeros((N_thetas, 2, N_vars))\n",
        "  I_3 = np.zeros((N_thetas, 2, N_vars))\n",
        "\n",
        "  i = 0\n",
        "  thetas =[]\n",
        "  for id_1, id_2, id_3, theta in measures:\n",
        "      thetas.append(theta)\n",
        "      I_1[i][0][2 * int(id_1 - 1)] = 1\n",
        "      I_1[i][1][2 * int(id_1 - 1) + 1] = 1\n",
        "\n",
        "      I_2[i][0][2 * int(id_2 - 1)] = 1\n",
        "      I_2[i][1][2 * int(id_2 - 1) + 1] = 1\n",
        "\n",
        "      I_3[i][0][2 * int(id_3 - 1)] = 1\n",
        "      I_3[i][1][2 * int(id_3 - 1) + 1] = 1\n",
        "\n",
        "      i += 1\n",
        "\n",
        "  thetas = np.array(thetas)\n",
        "\n",
        "  def func(idx_1, idx_2, idx_3, dr):\n",
        "    r1 = idx_1 @ points_linear + idx_1 @ dr\n",
        "    r2 = idx_2 @ points_linear + idx_2 @ dr\n",
        "    r3 = idx_3 @ points_linear + idx_3 @ dr\n",
        "    return jnp.arccos((r3 - r1).dot(r2 - r1) / (jnp.sqrt((r3 - r1).dot(r3 - r1)) * jnp.sqrt((r2 - r1).dot(r2 - r1))))\n",
        "\n",
        "  def loss(dr):\n",
        "    res = 0\n",
        "    for i in range(I_1.shape[0]):\n",
        "      res += (func(I_1[i], I_2[i], I_3[i], dr) - thetas[i])**2\n",
        "    return res\n",
        "\n",
        "  dr_opt = np.random.normal(size=N_vars)\n",
        "  return optimize.minimize(loss, dr_opt, jac = jax.grad(loss), hess=jax.hessian(loss), method='Newton-CG')\n"
      ],
      "metadata": {
        "id": "CIdf7po_jrxn"
      },
      "execution_count": 20,
      "outputs": []
    },
    {
      "cell_type": "code",
      "source": [
        "def print_res(res, dr, r, measurements):\n",
        "  measures = measurements.to_numpy()\n",
        "  drs_1 = res.x.reshape(len(res.x) // 2, 2)\n",
        "  print(f'Got drs: {drs_1}\\nExpected: {dr.to_numpy()}')\n",
        "\n",
        "  points = r.to_numpy()\n",
        "  for id_1, id_2, id_3, theta in measures:\n",
        "    r1 = points[int(id_1 - 1)] + drs_1[int(id_1 - 1)]\n",
        "    r2 = points[int(id_2 - 1)] + drs_1[int(id_2 - 1)]\n",
        "    r3 = points[int(id_3 - 1)] + drs_1[int(id_3 - 1)]\n",
        "\n",
        "    sol = jnp.arccos((r3 - r1).dot(r2 - r1) / (jnp.sqrt((r3 - r1).dot(r3 - r1)) * jnp.sqrt((r2 - r1).dot(r2 - r1))))\n",
        "    print(f'\\nGot angle: {sol}, expected: {theta}')\n",
        "\n",
        "res = solve(dr, r, measurements)\n",
        "print_res(res, dr, r, measurements)"
      ],
      "metadata": {
        "colab": {
          "base_uri": "https://localhost:8080/"
        },
        "id": "vHxlv6G8-Ueg",
        "outputId": "13450133-b82c-49c1-e5bb-5c1429df2c36"
      },
      "execution_count": 22,
      "outputs": [
        {
          "output_type": "stream",
          "name": "stdout",
          "text": [
            "Got drs: [[-0.87734302 -0.24694335]\n",
            " [-0.19982517  0.06240815]\n",
            " [ 0.90629073 -0.41392058]]\n",
            "Expected: [[-0.0392699  0.       ]\n",
            " [ 0.0392699 -0.0392699]\n",
            " [ 0.         0.0392699]]\n",
            "\n",
            "Got angle: 0.7068580000000022, expected: 0.706858\n"
          ]
        }
      ]
    },
    {
      "cell_type": "markdown",
      "source": [
        "Even though $dr$ do not match, angle is calculated correctly with the resulting dr."
      ],
      "metadata": {
        "id": "5jRltZ5k_ZKx"
      }
    },
    {
      "cell_type": "markdown",
      "source": [
        "Lets change task to minimisation of the L2 norm of resuting dr, with contraints on equation.\n",
        "\n",
        "$$\n",
        "\\min\\limits_{dr} ||dr||_{2}\n",
        "$$\n",
        "\n",
        "$$\n",
        ", s.t. \\Theta_{ijk} - arccos\\frac{(r_i + dr_{i} - r_j - dr_{j})\\dot(r_k + dr_{k}- r_j - dr_{j})}{|r_i + dr_{i} - r_j - dr_{j}| |r_k + dr_{k}- r_j - dr_{j}|} = 0\n",
        "$$"
      ],
      "metadata": {
        "id": "LGVNet82BzIw"
      }
    },
    {
      "cell_type": "code",
      "source": [
        "from scipy.optimize import NonlinearConstraint\n",
        "\n",
        "def solve_min_norm(dr, r, measurements):\n",
        "  points = r.to_numpy()\n",
        "  measures = measurements.to_numpy()\n",
        "\n",
        "  N = len(points)\n",
        "  # Each point has 2 axis\n",
        "  N_vars = 2 * N\n",
        "  N_thetas = len(measures)\n",
        "  points_linear = np.array(points).reshape(N_vars)\n",
        "\n",
        "  # Indication matrixes for tree vectors active at each measurement\n",
        "  I_1 = np.zeros((N_thetas, 2, N_vars))\n",
        "  I_2 = np.zeros((N_thetas, 2, N_vars))\n",
        "  I_3 = np.zeros((N_thetas, 2, N_vars))\n",
        "\n",
        "  i = 0\n",
        "  thetas =[]\n",
        "  for id_1, id_2, id_3, theta in measures:\n",
        "      thetas.append(theta)\n",
        "      I_1[i][0][2 * int(id_1 - 1)] = 1\n",
        "      I_1[i][1][2 * int(id_1 - 1) + 1] = 1\n",
        "\n",
        "      I_2[i][0][2 * int(id_2 - 1)] = 1\n",
        "      I_2[i][1][2 * int(id_2 - 1) + 1] = 1\n",
        "\n",
        "      I_3[i][0][2 * int(id_3 - 1)] = 1\n",
        "      I_3[i][1][2 * int(id_3 - 1) + 1] = 1\n",
        "\n",
        "      i += 1\n",
        "\n",
        "  thetas = np.array(thetas)\n",
        "\n",
        "  def func(idx_1, idx_2, idx_3, dr):\n",
        "    r1 = idx_1 @ points_linear + idx_1 @ dr\n",
        "    r2 = idx_2 @ points_linear + idx_2 @ dr\n",
        "    r3 = idx_3 @ points_linear + idx_3 @ dr\n",
        "    return jnp.arccos((r3 - r1).dot(r2 - r1) / (jnp.sqrt((r3 - r1).dot(r3 - r1)) * jnp.sqrt((r2 - r1).dot(r2 - r1))))\n",
        "\n",
        "  def loss(dr):\n",
        "   return dr @ dr\n",
        "\n",
        "  def constraint_eq(dr, i):\n",
        "    res = (func(I_1[i], I_2[i], I_3[i], dr) - thetas[i])\n",
        "    return res\n",
        "\n",
        "  def create_constraints(i):\n",
        "    return NonlinearConstraint(lambda x: [constraint_eq(x, i)], [0], [0], jac=lambda x: [jax.grad(constraint_eq)(x, i)])\n",
        "\n",
        "  constraints = [create_constraints(i) for i in range(N_thetas)]\n",
        "\n",
        "  x0 = np.random.normal(size=N_vars)\n",
        "  return optimize.minimize(loss,\n",
        "                            x0=x0,\n",
        "                            jac = jax.grad(loss),\n",
        "                            hess=jax.hessian(loss),\n",
        "                            method='trust-constr',\n",
        "                            tol=1e-9,\n",
        "                            constraints=constraints)\n",
        "\n",
        "res_min_norm = solve_min_norm(dr, r, measurements)\n",
        "print_res(res_min_norm, dr, r, measurements)"
      ],
      "metadata": {
        "colab": {
          "base_uri": "https://localhost:8080/"
        },
        "id": "tzWOMgOEBxM7",
        "outputId": "e6fc3409-4a2a-4c16-8e3d-506bfecf1d0e"
      },
      "execution_count": 23,
      "outputs": [
        {
          "output_type": "stream",
          "name": "stdout",
          "text": [
            "Got drs: [[-0.03752991  0.00243625]\n",
            " [ 0.03829577 -0.04316824]\n",
            " [-0.00076585  0.040732  ]]\n",
            "Expected: [[-0.0392699  0.       ]\n",
            " [ 0.0392699 -0.0392699]\n",
            " [ 0.         0.0392699]]\n",
            "\n",
            "Got angle: 0.706858, expected: 0.706858\n"
          ]
        }
      ]
    },
    {
      "cell_type": "markdown",
      "source": [
        "We got almost exact answer with small dr, which are close to real solution."
      ],
      "metadata": {
        "id": "ssRY_UrgHgR7"
      }
    },
    {
      "cell_type": "code",
      "source": [],
      "metadata": {
        "id": "W3qAMLD6mS7g"
      },
      "execution_count": null,
      "outputs": []
    },
    {
      "cell_type": "code",
      "source": [
        "# Lets also check on the second dataset\n",
        "\n",
        "dr, r, measurements = read_data('./localization_data_2.hdf')\n",
        "\n",
        "res_min_norm_2 = solve_min_norm(dr, r, measurements)\n",
        "print_res(res_min_norm_2, dr, r, measurements)"
      ],
      "metadata": {
        "colab": {
          "base_uri": "https://localhost:8080/"
        },
        "id": "w0QUXcvFmS_I",
        "outputId": "4143f5f2-07dd-48e1-b2f9-9e4e3c390776"
      },
      "execution_count": 24,
      "outputs": [
        {
          "output_type": "stream",
          "name": "stdout",
          "text": [
            "Got drs: [[-0.02742501 -0.00052617]\n",
            " [ 0.00963888 -0.10606422]\n",
            " [-0.01564825  0.08242307]\n",
            " [-0.10136683 -0.04365911]\n",
            " [ 0.06698944  0.03861954]\n",
            " [ 0.06781178  0.02920689]]\n",
            "Expected: [[-0.0124687   0.00019365]\n",
            " [ 0.0131732  -0.104997  ]\n",
            " [-0.0193151   0.0708246 ]\n",
            " [-0.123992   -0.0060532 ]\n",
            " [ 0.0700385   0.0109086 ]\n",
            " [ 0.0725637   0.0291229 ]]\n",
            "\n",
            "Got angle: 1.5708000000000002, expected: 1.5708\n",
            "\n",
            "Got angle: 1.5708, expected: 1.5708\n",
            "\n",
            "Got angle: 0.5235989999999996, expected: 0.523599\n",
            "\n",
            "Got angle: 1.0472, expected: 1.0472\n"
          ]
        }
      ]
    },
    {
      "cell_type": "markdown",
      "source": [
        "On both datasets optimization seem to work fine."
      ],
      "metadata": {
        "id": "ikeSZV7lpI8H"
      }
    },
    {
      "cell_type": "code",
      "source": [],
      "metadata": {
        "id": "uquVAefmpIZi"
      },
      "execution_count": null,
      "outputs": []
    },
    {
      "cell_type": "markdown",
      "source": [
        "# Task 4"
      ],
      "metadata": {
        "id": "Jn9jm44BlomY"
      }
    },
    {
      "cell_type": "markdown",
      "source": [
        "Let $U$ be the matrix, each column of which, $u_i$, represents eigenvectors, corresponding to the smallest eigenvalues.\n",
        "\n",
        "In our case matrix $U \\in R^{dx2}$ with column $u_0$ corresponding to the smallest eigenvalue and $u_1$ - to the second smallest eigenvalue.\n",
        "\n",
        "Then eigenvalues will be the diagonal elements of matrix:\n",
        "$$\n",
        "U^T A U\n",
        "$$\n",
        "\n",
        ", which mean we can minimize the trace of this matrix with the following constrains:\n",
        "\n",
        "1. Norm of eigenvector is one: $||u_{i}||_2 = 1$\n",
        "2. Eigenvectors are orthogonal: $(u_0 · u_1) = 0$\n",
        "3. Eigenvalue corresponding to $u_0$ < eigenvalue corresponding to $u_1$\n"
      ],
      "metadata": {
        "id": "k5U6wH2l0Mb9"
      }
    },
    {
      "cell_type": "markdown",
      "source": [
        "$$\n",
        "\\min_{u_0, u_1} trace(U^T A U)\n",
        "$$\n",
        "\n",
        "s.t.\n",
        "$$\n",
        "||u_0||_2 = 1\n",
        "$$\n",
        "\n",
        "$$\n",
        "||u_1||_2 = 1\n",
        "$$\n",
        "\n",
        "$$\n",
        "(u_0 ⋅ u_1) = 0\n",
        "$$\n",
        "\n",
        "$$\n",
        "u_0^T A u_0 - u_1^T A u_1 < 0\n",
        "$$"
      ],
      "metadata": {
        "id": "PzsRar5nxB_C"
      }
    },
    {
      "cell_type": "code",
      "source": [
        "N = 10\n",
        "\n",
        "def create_symmetric_matrix(n):\n",
        "  b = np.random.normal(size=(n,n))\n",
        "  b_symm = (b + b.T) / 2\n",
        "  assert((b_symm == b_symm.T).all())\n",
        "  return b_symm\n",
        "\n",
        "# Create more matrix to test on it\n",
        "A = create_symmetric_matrix(N)\n",
        "print(A)\n"
      ],
      "metadata": {
        "colab": {
          "base_uri": "https://localhost:8080/"
        },
        "id": "KC1Hd6_kmCgA",
        "outputId": "ed2c56df-819f-48a4-9523-655f92343d6b"
      },
      "execution_count": 25,
      "outputs": [
        {
          "output_type": "stream",
          "name": "stdout",
          "text": [
            "[[ 0.58862153  1.10431342  0.47248538 -0.07674636 -0.28505546 -0.40916306\n",
            "  -0.28261235 -0.40170085 -0.73998898  1.04518022]\n",
            " [ 1.10431342 -0.13108866 -0.03420665  0.0813005  -1.1696758  -0.01827358\n",
            "   0.3668879  -0.61373679  0.51049257  0.8194044 ]\n",
            " [ 0.47248538 -0.03420665  0.44409604  0.48426867  0.86096348  0.1576326\n",
            "   0.33202947  0.77527907 -0.53355775  0.51429503]\n",
            " [-0.07674636  0.0813005   0.48426867  0.05438194  0.92550804  0.80065858\n",
            "  -0.26627634  0.02388564  0.76452864 -0.58295329]\n",
            " [-0.28505546 -1.1696758   0.86096348  0.92550804  1.13180329  1.0665866\n",
            "   1.05371598  0.77116907  1.37450685 -1.57325273]\n",
            " [-0.40916306 -0.01827358  0.1576326   0.80065858  1.0665866   0.34464278\n",
            "  -0.50938259  0.63572395 -0.88338601  0.47178961]\n",
            " [-0.28261235  0.3668879   0.33202947 -0.26627634  1.05371598 -0.50938259\n",
            "   1.30327222  0.23392317  0.40804877 -0.2350667 ]\n",
            " [-0.40170085 -0.61373679  0.77527907  0.02388564  0.77116907  0.63572395\n",
            "   0.23392317  0.22216269  0.79832746 -0.53204037]\n",
            " [-0.73998898  0.51049257 -0.53355775  0.76452864  1.37450685 -0.88338601\n",
            "   0.40804877  0.79832746  1.33238431  0.81339656]\n",
            " [ 1.04518022  0.8194044   0.51429503 -0.58295329 -1.57325273  0.47178961\n",
            "  -0.2350667  -0.53204037  0.81339656  1.40188523]]\n"
          ]
        }
      ]
    },
    {
      "cell_type": "code",
      "source": [
        "# Check eigenvalues\n",
        "eigenvalues, eigenvectors = np.linalg.eig(A)\n",
        "\n",
        "# sort by min eigenvalue\n",
        "idx = list(reversed(eigenvalues.argsort()[::-1]))\n",
        "eigenvalues = eigenvalues[idx]\n",
        "eigenvectors = eigenvectors[:,idx]\n",
        "\n",
        "lambda_1 = eigenvalues[0]\n",
        "lambda_2 = eigenvalues[1]\n",
        "\n",
        "# print the first two minimal eigenvectors\n",
        "print(f'Minimal eigenvalues:\\n{eigenvalues[:2]}')\n",
        "print(f'\\nMinimal eigenvectors: ')\n",
        "print(eigenvectors[:, :2])"
      ],
      "metadata": {
        "colab": {
          "base_uri": "https://localhost:8080/"
        },
        "id": "IXbkMF0tniv3",
        "outputId": "a5f645d1-0301-4821-b85f-92f7ba96f66c"
      },
      "execution_count": 28,
      "outputs": [
        {
          "output_type": "stream",
          "name": "stdout",
          "text": [
            "Minimal eigenvalues:\n",
            "[-3.09502853 -1.4662386 ]\n",
            "\n",
            "Minimal eigenvectors: \n",
            "[[-0.24285223 -0.26739847]\n",
            " [ 0.30113093  0.53260765]\n",
            " [-0.23499155  0.31304316]\n",
            " [ 0.15807031 -0.5319343 ]\n",
            " [ 0.45124279  0.25959165]\n",
            " [-0.4170442   0.11051393]\n",
            " [-0.12147403 -0.27720228]\n",
            " [ 0.22824189 -0.24084797]\n",
            " [-0.44893296  0.10983024]\n",
            " [ 0.35241835 -0.1932986 ]]\n"
          ]
        }
      ]
    },
    {
      "cell_type": "code",
      "source": [
        "from scipy.optimize import NonlinearConstraint\n",
        "\n",
        "def loss_f(u):\n",
        "  U = u.reshape(N, 2)\n",
        "  val = jnp.matmul(jnp.matmul(U.T, A), U)\n",
        "  return val.trace()\n",
        "\n",
        "def constraint_norm_first(u):\n",
        "  U = u.reshape(N, 2)\n",
        "  return U[:, 0] @ U[:, 0] - 1\n",
        "\n",
        "def constraint_norm_second(u):\n",
        "  U = u.reshape(N, 2)\n",
        "  return U[:, 1] @ U[:, 1] - 1\n",
        "\n",
        "def constraint_vectors_orthogonal(u):\n",
        "  U = u.reshape(N, 2)\n",
        "  return U[:, 0] @ U[:, 1]\n",
        "\n",
        "def constraint_eigenvalues_order(u):\n",
        "  U = u.reshape(N, 2)\n",
        "  v1 = U[:, 0] @ A @ U[:, 0]\n",
        "  v2 = U[:, 1] @ A @ U[:, 1]\n",
        "  return v2 - v1\n",
        "\n",
        "cstr_1 = NonlinearConstraint(lambda x: [constraint_norm_first(x)], [-1e-10], [1e-10], jac=lambda x: [jax.grad(constraint_norm_first)(x)])\n",
        "cstr_2 = NonlinearConstraint(lambda x: [constraint_norm_second(x)], [-1e-10], [1e-10], jac=lambda x: [jax.grad(constraint_norm_second)(x)])\n",
        "cstr_3 = NonlinearConstraint(lambda x: [constraint_vectors_orthogonal(x)], [-1e-10], [1e-10], jac=lambda x: [jax.grad(constraint_vectors_orthogonal)(x)])\n",
        "cstr_4 = NonlinearConstraint(lambda x: [constraint_eigenvalues_order(x)], [-1e-10], [1e10], jac=lambda x: [jax.grad(constraint_eigenvalues_order)(x)])\n",
        "\n",
        "x0 = np.random.normal(size=2*N)\n",
        "x0 = x0 / (x0 @ x0)**0.5\n",
        "result = optimize.minimize(loss_f,\n",
        "                           x0=x0,\n",
        "                           jac = jax.grad(loss_f),\n",
        "                           hess=jax.hessian(loss_f),\n",
        "                           method='trust-constr',\n",
        "                           tol=1e-5,\n",
        "                           constraints=[cstr_1, cstr_2, cstr_3, cstr_4])\n",
        "result.x"
      ],
      "metadata": {
        "colab": {
          "base_uri": "https://localhost:8080/"
        },
        "id": "cgVEPkiWphvN",
        "outputId": "f01436db-f3fd-45d1-84c3-16c0f20658ed"
      },
      "execution_count": 29,
      "outputs": [
        {
          "output_type": "execute_result",
          "data": {
            "text/plain": [
              "array([ 0.24318924,  0.26709172, -0.30180324, -0.53222714,  0.23459634,\n",
              "       -0.3133395 , -0.15739855,  0.5321334 , -0.45156948, -0.25902188,\n",
              "        0.41690452, -0.11104025,  0.12182403,  0.27704874, -0.22793741,\n",
              "        0.24113585,  0.44879419, -0.11039679, -0.35217454,  0.19374327])"
            ]
          },
          "metadata": {},
          "execution_count": 29
        }
      ]
    },
    {
      "cell_type": "code",
      "source": [
        "print(eigenvectors[:, :2])"
      ],
      "metadata": {
        "colab": {
          "base_uri": "https://localhost:8080/"
        },
        "id": "N0EgMiav1XJA",
        "outputId": "16310555-011d-4c8a-f54b-9b7f04a82815"
      },
      "execution_count": 30,
      "outputs": [
        {
          "output_type": "stream",
          "name": "stdout",
          "text": [
            "[[-0.24285223 -0.26739847]\n",
            " [ 0.30113093  0.53260765]\n",
            " [-0.23499155  0.31304316]\n",
            " [ 0.15807031 -0.5319343 ]\n",
            " [ 0.45124279  0.25959165]\n",
            " [-0.4170442   0.11051393]\n",
            " [-0.12147403 -0.27720228]\n",
            " [ 0.22824189 -0.24084797]\n",
            " [-0.44893296  0.10983024]\n",
            " [ 0.35241835 -0.1932986 ]]\n"
          ]
        }
      ]
    },
    {
      "cell_type": "code",
      "source": [
        "print(result.x.reshape(N, 2))"
      ],
      "metadata": {
        "colab": {
          "base_uri": "https://localhost:8080/"
        },
        "id": "ro87qovhtmdn",
        "outputId": "324d5d27-4352-44e6-dcfc-e811ca7bce5d"
      },
      "execution_count": 31,
      "outputs": [
        {
          "output_type": "stream",
          "name": "stdout",
          "text": [
            "[[ 0.24318924  0.26709172]\n",
            " [-0.30180324 -0.53222714]\n",
            " [ 0.23459634 -0.3133395 ]\n",
            " [-0.15739855  0.5321334 ]\n",
            " [-0.45156948 -0.25902188]\n",
            " [ 0.41690452 -0.11104025]\n",
            " [ 0.12182403  0.27704874]\n",
            " [-0.22793741  0.24113585]\n",
            " [ 0.44879419 -0.11039679]\n",
            " [-0.35217454  0.19374327]]\n"
          ]
        }
      ]
    },
    {
      "cell_type": "code",
      "source": [
        "# Check results\n",
        "\n",
        "u1 = result.x.reshape(N, 2)[:, 0]\n",
        "u2 = result.x.reshape(N, 2)[:, 1]\n",
        "\n",
        "print(f'Calculated eigenvalue - actual eigenvalue')\n",
        "print(f'1. {u1 @ A @ u1} ~ {lambda_1}')\n",
        "print(f'2, {u2 @ A @ u2} ~ {lambda_2}')"
      ],
      "metadata": {
        "colab": {
          "base_uri": "https://localhost:8080/"
        },
        "id": "OppJnxoJwEv5",
        "outputId": "79bee9ff-9f8f-427e-c4ee-7f6a62d37335"
      },
      "execution_count": 32,
      "outputs": [
        {
          "output_type": "stream",
          "name": "stdout",
          "text": [
            "Calculated eigenvalue - actual eigenvalue\n",
            "1. -3.0950259304178283 ~ -3.095028525321461\n",
            "2, -1.4662411922835248 ~ -1.4662385973671472\n"
          ]
        }
      ]
    },
    {
      "cell_type": "markdown",
      "source": [
        "Eigenvalues, calculated by minimization, are close to actual ones."
      ],
      "metadata": {
        "id": "abSP0MbLzMkf"
      }
    },
    {
      "cell_type": "code",
      "source": [],
      "metadata": {
        "id": "bWCMJ2uczLP1"
      },
      "execution_count": null,
      "outputs": []
    },
    {
      "cell_type": "markdown",
      "source": [
        "# Task 5"
      ],
      "metadata": {
        "id": "4rOYOu4_22Ne"
      }
    },
    {
      "cell_type": "code",
      "source": [
        "import os\n",
        "import pickle\n",
        "import pandas as pd\n"
      ],
      "metadata": {
        "id": "0YtD8qRB254q"
      },
      "execution_count": 33,
      "outputs": []
    },
    {
      "cell_type": "code",
      "source": [
        "sensor_data = pd.read_pickle(r'data_sensors.pickle')\n",
        "sensor_data"
      ],
      "metadata": {
        "colab": {
          "base_uri": "https://localhost:8080/"
        },
        "id": "JAuSeTDf4uo5",
        "outputId": "a4a464b1-5979-4fd2-bb54-d883186bd0f8"
      },
      "execution_count": 68,
      "outputs": [
        {
          "output_type": "execute_result",
          "data": {
            "text/plain": [
              "{0: (6, 3, array([-0.34491957, -0.93863225])),\n",
              " 1: (7, 4, array([ 0.30168622, -0.95340727])),\n",
              " 2: (6, 9, array([-0.99899616, -0.04479592])),\n",
              " 3: (2, 6, array([0.6019477 , 0.79853551])),\n",
              " 4: (7, 4, array([ 0.35073944, -0.93647309])),\n",
              " 5: (3, 7, array([0.0343622 , 0.99940945])),\n",
              " 6: (7, 2, array([-0.3349917 , -0.94222108])),\n",
              " 7: (5, 4, array([-0.30845617, -0.95123856])),\n",
              " 8: (1, 7, array([0.59771565, 0.80170818])),\n",
              " 9: (5, 1, array([-0.96628289, -0.25748279])),\n",
              " 10: (4, 0, array([-0.94530973,  0.32617406])),\n",
              " 11: (9, 5, array([ 0.95864174, -0.28461554])),\n",
              " 12: (8, 0, array([-0.63402992, -0.77330852])),\n",
              " 13: (9, 2, array([ 0.22505481, -0.9743461 ])),\n",
              " 14: (6, 3, array([-0.33094948, -0.94364847])),\n",
              " 15: (8, 2, array([ 0.09684405, -0.99529957])),\n",
              " 16: (4, 2, array([-0.9192423 , -0.39369226])),\n",
              " 17: (6, 4, array([-0.12174657, -0.99256122])),\n",
              " 18: (8, 6, array([ 0.96608604, -0.25822038])),\n",
              " 19: (1, 3, array([ 0.96413638, -0.2654073 ])),\n",
              " 20: (8, 1, array([-0.40742147, -0.91324025])),\n",
              " 21: (9, 8, array([0.87732936, 0.47988874])),\n",
              " 22: (9, 4, array([ 0.76782672, -0.64065757])),\n",
              " 23: (1, 3, array([ 0.96640663, -0.25701795])),\n",
              " 24: (6, 7, array([-0.88716571,  0.46145098])),\n",
              " 25: (2, 0, array([-0.5836889 ,  0.81197738])),\n",
              " 26: (3, 1, array([-0.97892923,  0.20419981])),\n",
              " 27: (7, 3, array([ 0.00626572, -0.99998037])),\n",
              " 28: (1, 5, array([0.96152206, 0.27472773])),\n",
              " 29: (5, 9, array([-0.96630342,  0.25740572])),\n",
              " 30: (3, 5, array([0.58366915, 0.81199158])),\n",
              " 31: (1, 9, array([-0.15861812,  0.98734001])),\n",
              " 32: (1, 9, array([-0.00132016,  0.99999913])),\n",
              " 33: (3, 7, array([0.04547498, 0.99896548])),\n",
              " 34: (6, 8, array([-0.94602199,  0.32410246])),\n",
              " 35: (7, 4, array([ 0.31174011, -0.95016741])),\n",
              " 36: (1, 4, array([ 0.99988763, -0.01499063])),\n",
              " 37: (7, 9, array([-0.96702654, -0.25467564]))}"
            ]
          },
          "metadata": {},
          "execution_count": 68
        }
      ]
    },
    {
      "cell_type": "code",
      "source": [
        "N = max([max(item[0], item[1]) for _, item in sensor_data.items()]) + 1\n",
        "print(f'Number of sensors: {N}')"
      ],
      "metadata": {
        "colab": {
          "base_uri": "https://localhost:8080/"
        },
        "id": "TD2Mv9D9v5xo",
        "outputId": "906e1e9a-4fab-45cb-b290-b90738d493b4"
      },
      "execution_count": 69,
      "outputs": [
        {
          "output_type": "stream",
          "name": "stdout",
          "text": [
            "Number of sensors: 10\n"
          ]
        }
      ]
    },
    {
      "cell_type": "code",
      "source": [
        "n = dict()\n",
        "for _, item in sensor_data.items():\n",
        "    i = item[0] #min(item[0], item[1])\n",
        "    j = item[1] #max(item[0], item[1])\n",
        "    if (i, j) in n:\n",
        "      print(f'Duplicate value {item[2]} for [{i}, {j}] - existing {n[(i, j)]}')\n",
        "      continue\n",
        "    n[(i, j)] = item[2]"
      ],
      "metadata": {
        "colab": {
          "base_uri": "https://localhost:8080/"
        },
        "id": "SOfWmN5i0Zco",
        "outputId": "a4c236b6-319c-40de-d93f-6dd3ae105d6a"
      },
      "execution_count": 70,
      "outputs": [
        {
          "output_type": "stream",
          "name": "stdout",
          "text": [
            "Duplicate value [ 0.35073944 -0.93647309] for [7, 4] - existing [ 0.30168622 -0.95340727]\n",
            "Duplicate value [-0.33094948 -0.94364847] for [6, 3] - existing [-0.34491957 -0.93863225]\n",
            "Duplicate value [ 0.96640663 -0.25701795] for [1, 3] - existing [ 0.96413638 -0.2654073 ]\n",
            "Duplicate value [-0.00132016  0.99999913] for [1, 9] - existing [-0.15861812  0.98734001]\n",
            "Duplicate value [0.04547498 0.99896548] for [3, 7] - existing [0.0343622  0.99940945]\n",
            "Duplicate value [ 0.31174011 -0.95016741] for [7, 4] - existing [ 0.30168622 -0.95340727]\n"
          ]
        }
      ]
    },
    {
      "cell_type": "code",
      "source": [
        "n.keys()"
      ],
      "metadata": {
        "colab": {
          "base_uri": "https://localhost:8080/"
        },
        "id": "Jx84pAlPzxUB",
        "outputId": "d942e9bd-1cad-4f75-dccb-b14620760073"
      },
      "execution_count": 71,
      "outputs": [
        {
          "output_type": "execute_result",
          "data": {
            "text/plain": [
              "dict_keys([(6, 3), (7, 4), (6, 9), (2, 6), (3, 7), (7, 2), (5, 4), (1, 7), (5, 1), (4, 0), (9, 5), (8, 0), (9, 2), (8, 2), (4, 2), (6, 4), (8, 6), (1, 3), (8, 1), (9, 8), (9, 4), (6, 7), (2, 0), (3, 1), (7, 3), (1, 5), (5, 9), (3, 5), (1, 9), (6, 8), (1, 4), (7, 9)])"
            ]
          },
          "metadata": {},
          "execution_count": 71
        }
      ]
    },
    {
      "cell_type": "markdown",
      "source": [
        "There are duplicate elements in dataset, ignore them"
      ],
      "metadata": {
        "id": "GYA0nHmX8rv6"
      }
    },
    {
      "cell_type": "code",
      "source": [
        "import itertools\n",
        "from scipy.optimize import NonlinearConstraint\n",
        "\n",
        "comb_list = n.keys() #list(itertools.combinations(range(N), r=2))\n",
        "\n",
        "def x_idx(i): return 2*i\n",
        "def y_idx(i): return 2*i + 1\n",
        "\n",
        "def func(x, i, j):\n",
        "  #assert (i < j)\n",
        "  #if (i, j) not in n:\n",
        "  #  return 0\n",
        "  x_reshaped = x.reshape(N, 2)\n",
        "  dir = (x_reshaped[i] - x_reshaped[j])\n",
        "  return dir - n[i, j] * jnp.dot(dir, n[i, j])\n",
        "\n",
        "def loss(x):\n",
        "  summ = 0\n",
        "  for i, j in comb_list:\n",
        "    summ += jnp.linalg.norm(func(x, i, j))\n",
        "  return summ\n",
        "\n",
        "def constraint_dist(x, i, j):\n",
        "  x = x.reshape(N, 2)\n",
        "  return jnp.linalg.norm(x[i] - x[j])\n",
        "\n",
        "# lets demand that vectors differ\n",
        "def create_constraint(i, j):\n",
        "  return NonlinearConstraint(lambda x: [constraint_dist(x, i, j)], [1e-2], [1e10], jac=lambda x: [jax.grad(constraint_dist)(x, i, j)])\n",
        "\n",
        "constraints = [create_constraint(i, j) for i, j in comb_list]\n",
        "\n",
        "x0 = np.random.normal(size=2*N)\n",
        "x0 = x0 / (x0 @ x0)**0.5\n",
        "\n",
        "res = optimize.minimize(loss,\n",
        "                        x0,\n",
        "                        jac = jax.grad(loss),\n",
        "                        hess=jax.hessian(loss),\n",
        "                        method='SLSQP',\n",
        "                        constraints=constraints)\n",
        "res"
      ],
      "metadata": {
        "colab": {
          "base_uri": "https://localhost:8080/"
        },
        "id": "l9WUSPME3Uu3",
        "outputId": "445cd995-f050-4fe0-e6dd-ff41cb4dc59e"
      },
      "execution_count": 90,
      "outputs": [
        {
          "output_type": "stream",
          "name": "stderr",
          "text": [
            "/usr/local/lib/python3.10/dist-packages/scipy/optimize/_minimize.py:565: RuntimeWarning: Method SLSQP does not use Hessian information (hess).\n",
            "  warn('Method %s does not use Hessian information (hess).' % method,\n"
          ]
        },
        {
          "output_type": "execute_result",
          "data": {
            "text/plain": [
              " message: Optimization terminated successfully\n",
              " success: True\n",
              "  status: 0\n",
              "     fun: 0.17624290136917856\n",
              "       x: [ 1.059e-01  2.042e-02 ...  1.016e-01  4.070e-02]\n",
              "     nit: 45\n",
              "     jac: [-3.648e-01 -2.163e+00 ... -2.128e+00  3.235e+00]\n",
              "    nfev: 150\n",
              "    njev: 45"
            ]
          },
          "metadata": {},
          "execution_count": 90
        }
      ]
    },
    {
      "cell_type": "code",
      "source": [
        "# check result\n",
        "loss(res.x)"
      ],
      "metadata": {
        "colab": {
          "base_uri": "https://localhost:8080/"
        },
        "id": "JiWPu8Ci9wzF",
        "outputId": "909ba76a-93b6-420b-9407-1da7481d8b77"
      },
      "execution_count": 91,
      "outputs": [
        {
          "output_type": "execute_result",
          "data": {
            "text/plain": [
              "Array(0.1762429, dtype=float64)"
            ]
          },
          "metadata": {},
          "execution_count": 91
        }
      ]
    },
    {
      "cell_type": "code",
      "source": [
        "# Result positions:\n",
        "res.x.reshape(N, 2)"
      ],
      "metadata": {
        "colab": {
          "base_uri": "https://localhost:8080/"
        },
        "id": "HUMy35xDNPLn",
        "outputId": "fbde888d-af4b-4532-f500-0859ec0de456"
      },
      "execution_count": 92,
      "outputs": [
        {
          "output_type": "execute_result",
          "data": {
            "text/plain": [
              "array([[0.10591931, 0.02041732],\n",
              "       [0.12072862, 0.04137217],\n",
              "       [0.11127054, 0.03812347],\n",
              "       [0.10508247, 0.04597909],\n",
              "       [0.11223555, 0.02817012],\n",
              "       [0.11127052, 0.03812346],\n",
              "       [0.10257323, 0.03074683],\n",
              "       [0.1052335 , 0.02103045],\n",
              "       [0.11223851, 0.02816767],\n",
              "       [0.10160821, 0.04070017]])"
            ]
          },
          "metadata": {},
          "execution_count": 92
        }
      ]
    },
    {
      "cell_type": "code",
      "source": [],
      "metadata": {
        "id": "4_E132ip-scO"
      },
      "execution_count": null,
      "outputs": []
    },
    {
      "cell_type": "markdown",
      "source": [
        "# Task 7"
      ],
      "metadata": {
        "id": "Y0dNoODH-suv"
      }
    },
    {
      "cell_type": "markdown",
      "source": [
        "**1. Show that function $f(x, y) = \\frac{x^2}{y}$ defined on $y > 0$ is convex.**"
      ],
      "metadata": {
        "id": "BcR_3GH9_E19"
      }
    },
    {
      "cell_type": "markdown",
      "source": [
        "For f to be convex, the following must be true: $\\forall u,  u^T \\nabla ^2 f u >= 0$"
      ],
      "metadata": {
        "id": "uC5KAPqdIdz1"
      }
    },
    {
      "cell_type": "markdown",
      "source": [
        "$$\n",
        "\\nabla f  =\n",
        "\\left( \\begin{matrix}\n",
        "\\frac{2x}{y} \\\\ -\\frac{x^2}{y^2}\n",
        "\\end{matrix} \\right)\n",
        "$$\n",
        "\n",
        "$$\n",
        "\\nabla^2 f  =\n",
        "\\left( \\begin{matrix}\n",
        "\\frac{2}{y} & -\\frac{2x}{y^2}\\\\ -\\frac{2x}{y^2} & \\frac{2x^2}{y^3}\n",
        "\\end{matrix} \\right)\n",
        "$$\n",
        "\n",
        "$$\n",
        "u^T \\nabla^2 f u =\n",
        "\\left( \\begin{matrix}\n",
        "u_1 & u_2\n",
        "\\end{matrix} \\right) \\cdot \\left( \\begin{matrix}\n",
        "\\frac{2}{y} & -\\frac{2x}{y^2}\\\\ -\\frac{2x}{y^2} & \\frac{2x^2}{y^3}\n",
        "\\end{matrix} \\right) \\cdot \\left( \\begin{matrix}\n",
        "u_1 \\\\ u_2\n",
        "\\end{matrix} \\right)\n",
        "$$\n",
        "\n",
        "$$\n",
        "= \\frac{2u_{1}^2}{y} - \\frac{2x u_{2} u_{1}}{y^2} - \\frac{2 x u_{1}u_2}{y^2} + \\frac{2u_2^2x^2}{y^3}\n",
        "$$\n",
        "\n",
        "\n",
        "$$\n",
        "= \\frac{2 u_{1}^2 y^2 - 4x u_{1} u_{2} y + 2 u_{2}^2 x^2 }{y3}\n",
        "$$\n",
        "\n",
        "$$\n",
        "= \\frac{2(u_{1}y - u_{2}x)^2}{y3} > 0 , proven\n",
        "$$"
      ],
      "metadata": {
        "id": "EOf4dOqz_Qxx"
      }
    },
    {
      "cell_type": "markdown",
      "source": [
        "**2. Show that geometric mean $f(x) = (\\prod_{k=1}^n x_k)^\\frac{1}{n}$ defined on $R_{++}$ is concave.**"
      ],
      "metadata": {
        "id": "7oTFTxRHKx_K"
      }
    },
    {
      "cell_type": "markdown",
      "source": [
        "To prove that we can show that $f(x) = - (\\prod_{k=1}^n x_k)^\\frac{1}{n}$ is convex."
      ],
      "metadata": {
        "id": "fBeigIBNLLnH"
      }
    },
    {
      "cell_type": "markdown",
      "source": [
        "$$\n",
        "\\frac{\\partial f}{\\partial x_i}  = - (\\prod_{k=1}^n x_k)^\\frac{1}{n} \\cdot \\frac{1}{x_i^\\frac{1}{n}} \\cdot \\frac{1}{n} \\cdot x_i^\\frac{1-n}{n} = - (\\prod_{k=1}^n x_k)^\\frac{1}{n} \\cdot \\frac{1}{n} \\cdot \\frac{1}{x_i}\n",
        "$$\n",
        "\n",
        "$$\n",
        "\\frac{\\partial^2 f}{\\partial x_i^2} = (\\prod_{k=1}^n x_k)^\\frac{1}{n} \\cdot \\frac{1}{n^2} \\cdot \\frac{n - 1}{x_i^2}\n",
        "$$\n",
        "\n",
        "$$\n",
        "\\frac{\\partial^2 f}{\\partial x_i \\partial x_j} = (\\prod_{k=1}^n x_k)^\\frac{1}{n} \\cdot \\frac{1}{n^2} \\cdot \\frac{-1}{x_i \\cdot x_j}\n",
        "$$\n",
        "\n",
        "$$\n",
        "\\nabla^2 f = (\\prod_{k=1}^n x_k)^\\frac{1}{n} \\cdot \\frac{1}{n^2} \\cdot\n",
        "\\left( \\begin{matrix}\n",
        "\\frac{n-1}{x_1^2} & \\frac{-1}{x_1 x_2} & \\frac{-1}{x_1 x_3} ... \\\\\n",
        "\\frac{-1}{x_2 x_1} & \\frac{n-1}{x_2^2} & \\frac{-1}{x_2 x_3} ... \\\\\n",
        "... & ...& ... & ...\n",
        "\\end{matrix} \\right)\n",
        "$$"
      ],
      "metadata": {
        "id": "H1PGmydKLcPk"
      }
    },
    {
      "cell_type": "markdown",
      "source": [
        "Since $f$ is defined on $R_{++}$, than $(\\prod_{k=1}^n x_k)^\\frac{1}{n} \\cdot \\frac{1}{n^2} $ is just some positive constant, which we can ignore."
      ],
      "metadata": {
        "id": "Ne5lbqwWNpkL"
      }
    },
    {
      "cell_type": "markdown",
      "source": [
        "$$\n",
        "\\nabla^2 f =\n",
        "\\left( \\begin{matrix}\n",
        "\\frac{n}{x_1^2} & 0 & 0 ... \\\\\n",
        "0 & \\frac{n}{x_2^2} & 0 ... \\\\\n",
        "... & ...& ... & ...\n",
        "\\end{matrix} \\right) -\n",
        "\\left( \\begin{matrix}\n",
        "\\frac{1}{x_1^2} & \\frac{1}{x_1 x_2} & \\frac{1}{x_1 x_3} ... \\\\\n",
        "\\frac{1}{x_2 x_1} & \\frac{1}{x_2^2} & \\frac{1}{x_2 x_3} ... \\\\\n",
        "... & ...& ... & ...\n",
        "\\end{matrix} \\right)\n",
        "$$"
      ],
      "metadata": {
        "id": "s8oeiaL-LcTN"
      }
    },
    {
      "cell_type": "markdown",
      "source": [
        "$$\n",
        "\\xi = (\\frac{1}{x_1^2}, \\frac{1}{x_2^2},...)\n",
        "$$\n",
        "\n",
        "$$\n",
        "\\gamma = (\\frac{1}{x_1}, \\frac{1}{x_2},...)\n",
        "$$\n",
        "\n",
        "$$\n",
        "\\nabla^2 f = n \\cdot diag(\\xi) - \\gamma^T \\cdot \\gamma\n",
        "$$"
      ],
      "metadata": {
        "id": "KkqXdO3oPjDM"
      }
    },
    {
      "cell_type": "markdown",
      "source": [
        "Lets prove that $y^T \\nabla^2f y > 0 $"
      ],
      "metadata": {
        "id": "XeFc_mZHQLhX"
      }
    },
    {
      "cell_type": "markdown",
      "source": [
        "$$\n",
        "y^T \\nabla^2 f y =  y^T \\cdot (n \\cdot diag(\\xi) - \\gamma^T \\cdot \\gamma) \\cdot y\n",
        "$$\n",
        "\n",
        "$$\n",
        " = y^T n \\cdot diag(\\xi) \\cdot y - y^T \\cdot \\gamma^T \\cdot \\gamma \\cdot y\n",
        "$$\n",
        "\n",
        "$$\n",
        "= n \\cdot \\sum_i^n(\\frac{y_i}{x_i})^2 - (\\gamma \\cdot y)^T (\\gamma \\cdot y)\n",
        "$$\n",
        "\n",
        "$$\n",
        "= n \\cdot \\sum_i^n(\\frac{y_i}{x_i})^2 - \\sum_i^n(\\frac{y_i}{x_i})^2\n",
        "$$\n",
        "\n",
        "$$\n",
        "= (n - 1) \\cdot \\sum_i^n(\\frac{y_i}{x_i})^2 > 0, proven\n",
        "$$"
      ],
      "metadata": {
        "id": "FKhK2CL8QTN9"
      }
    },
    {
      "cell_type": "markdown",
      "source": [
        "**3. Show than the function $f(x) = \\ln \\sum_{k=1}^n \\exp(x_k)$ defined on $R^n$ is convex.**"
      ],
      "metadata": {
        "id": "Nm5OE5VoR5zq"
      }
    },
    {
      "cell_type": "markdown",
      "source": [
        "$$\\frac{\\partial^2 f}{\\partial x_i^2} = \\frac{\\partial}{\\partial x_i}\\left(\\frac{1}{\\sum_{k=1}^n e^{x_k}} e^{x_i}\\right)$$\n",
        "\n",
        "$$\\frac{\\partial^2 f}{\\partial x_i^2} = \\frac{1}{\\sum_{k=1}^n e^{x_k}} e^{x_i} - \\frac{1} {(\\sum_{k=1}^n e^{x_k})^2} e^{2x_i} $$\n",
        "\n",
        "$$\\frac{\\partial^2 f}{\\partial x_i x_j} = \\frac{\\partial}{\\partial x_j}\\left(\\frac{1}{\\sum_{k=1}^n e^{x_k}} e^{x_i}\\right)$$\n",
        "\n",
        "$$\\frac{\\partial^2 f}{\\partial x_i x_j} =  - \\frac{1} {(\\sum_{k=1}^n e^{x_k})^2} e^{x_i+x_j} $$"
      ],
      "metadata": {
        "id": "AYwohBeYSkep"
      }
    },
    {
      "cell_type": "markdown",
      "source": [
        "$$\\xi = \\left( e^{x_1}, e^{x_2}, ... \\right)$$\n",
        "\n",
        "$$\\nabla^2 f = \\frac{1}{\\vec 1 \\cdot \\xi} \\text{diag} (\\xi) - \\frac{1}{\\left(\\vec 1 \\cdot \\xi\\right)^2} \\xi\\xi^T$$"
      ],
      "metadata": {
        "id": "n0oM46w2T4tm"
      }
    },
    {
      "cell_type": "markdown",
      "source": [
        "$\\forall v: v^T \\nabla^2 f v \\ge 0$"
      ],
      "metadata": {
        "id": "BD3-mz_LXa9K"
      }
    },
    {
      "cell_type": "markdown",
      "source": [
        "$$\n",
        "\\frac{\\sum \\xi_i v_i^2}{\\sum \\xi_i} - \\frac{\\sum (v_i \\xi_i)^2}{\\left(\\sum \\xi_i\\right)^2} = \\frac{\\sum \\xi_i \\cdot \\sum \\xi_i v_i^2 - \\sum (v_i \\xi_i)^2}{\\left(\\sum \\xi_i\\right)^2} \\ge 0, proven\n",
        "$$"
      ],
      "metadata": {
        "id": "Ndh7plBZXk1D"
      }
    },
    {
      "cell_type": "code",
      "source": [],
      "metadata": {
        "id": "7ubXgtp5-v6s"
      },
      "execution_count": null,
      "outputs": []
    },
    {
      "cell_type": "markdown",
      "source": [
        "# Task 10"
      ],
      "metadata": {
        "id": "TctFtMOWwpuH"
      }
    },
    {
      "cell_type": "code",
      "source": [
        "from numpy import load\n",
        "\n",
        "data = load('data_fit.npz')\n",
        "X = data['x']\n",
        "Y = data['y']\n",
        "\n",
        "N = len(X)"
      ],
      "metadata": {
        "id": "aunhNvvVwt9f"
      },
      "execution_count": 93,
      "outputs": []
    },
    {
      "cell_type": "code",
      "source": [
        "def func(x, vars):\n",
        "  return vars[0]*x**2 + vars[1]*x + vars[2]\n",
        "\n",
        "def cost_1(vars):\n",
        "  return sum((func(X, vars) - Y)**2)\n",
        "\n",
        "def cost_2(vars):\n",
        "  return sum(abs(func(X, vars) - Y))"
      ],
      "metadata": {
        "id": "Lik51pbXxLdY"
      },
      "execution_count": 94,
      "outputs": []
    },
    {
      "cell_type": "code",
      "source": [
        "import cvxpy as cp\n",
        "\n",
        "# 1. Solve with first cost fucntion\n",
        "\n",
        "# 1.1 using cvxpy\n",
        "vars_1 = cp.Variable(3)\n",
        "cost_1 = sum((func(X, vars_1) - Y)**2)\n",
        "\n",
        "obj_1 = cp.Minimize(cost_1)\n",
        "prob_1 = cp.Problem(obj_1, None)\n",
        "res_cvxpy = prob_1.solve()\n",
        "\n",
        "print(f'Result = {res_cvxpy}')\n",
        "print(f'Values: {vars_1.value}')\n",
        "print(f'Diff: {np.linalg.norm(func(X, vars_1.value) - Y)}')"
      ],
      "metadata": {
        "colab": {
          "base_uri": "https://localhost:8080/"
        },
        "id": "B_uSdw9XzGqP",
        "outputId": "cd2647a3-7f3f-4fa0-f21f-3f58eea66cc7"
      },
      "execution_count": 95,
      "outputs": [
        {
          "output_type": "stream",
          "name": "stdout",
          "text": [
            "Result = 8651.962373485067\n",
            "Values: [1.11782318 0.92097453 7.21154154]\n",
            "Diff: 93.01592537563162\n"
          ]
        }
      ]
    },
    {
      "cell_type": "code",
      "source": [
        "cost_1"
      ],
      "metadata": {
        "colab": {
          "base_uri": "https://localhost:8080/"
        },
        "id": "nruEdhAE0gXD",
        "outputId": "d9ee71e2-66a6-41b0-eff2-13805cc5e1c6"
      },
      "execution_count": 97,
      "outputs": [
        {
          "output_type": "execute_result",
          "data": {
            "text/plain": [
              "Expression(CONVEX, NONNEGATIVE, ())"
            ]
          },
          "metadata": {},
          "execution_count": 97
        }
      ]
    },
    {
      "cell_type": "code",
      "source": [
        "# 1.2. using linalgsolve\n",
        "A = np.ones((N, 3))\n",
        "for i, x in enumerate(X):\n",
        "  A[i][0] = x**2\n",
        "  A[i][1] = x\n",
        "  # leave A[i][2] be equal to 1\n",
        "\n",
        "res_lstsq = np.linalg.lstsq(A, Y, rcond=None)\n",
        "print(f'Result = {res_lstsq[1]}')\n",
        "print(f'Values: {res_lstsq[0]}')\n",
        "print(f'Diff: {np.linalg.norm(A @ res_lstsq[0] - Y)}')"
      ],
      "metadata": {
        "colab": {
          "base_uri": "https://localhost:8080/"
        },
        "id": "LiDmjm1mzjnj",
        "outputId": "17ae0be3-4fd2-4695-82d4-f603455a6a65"
      },
      "execution_count": 98,
      "outputs": [
        {
          "output_type": "stream",
          "name": "stdout",
          "text": [
            "Result = [8651.96237349]\n",
            "Values: [1.11782318 0.92097453 7.21154154]\n",
            "Diff: 93.01592537563162\n"
          ]
        }
      ]
    },
    {
      "cell_type": "markdown",
      "source": [
        "Results are almost identical, ok."
      ],
      "metadata": {
        "id": "o8s8VBXz4C2s"
      }
    },
    {
      "cell_type": "code",
      "source": [
        "# 2. Solve with second cost fucntion\n",
        "\n",
        "vars_2 = cp.Variable(3)\n",
        "cost_2 = sum(cp.abs(func(X, vars_2) - Y))\n",
        "\n",
        "obj_2 = cp.Minimize(cost_2)\n",
        "prob_2 = cp.Problem(obj_2, None)\n",
        "res_cvxpy = prob_2.solve()\n",
        "\n",
        "print(f'Result = {res_cvxpy}')\n",
        "print(f'Values: {vars_2.value}')\n",
        "print(f'Diff: {np.linalg.norm(func(X, vars_2.value) - Y)}')"
      ],
      "metadata": {
        "colab": {
          "base_uri": "https://localhost:8080/"
        },
        "id": "yFKhXPII4CEc",
        "outputId": "2d1b3d2d-0b02-41d1-9175-576d68c653af"
      },
      "execution_count": 100,
      "outputs": [
        {
          "output_type": "stream",
          "name": "stdout",
          "text": [
            "Result = 274.05038589777644\n",
            "Values: [0.99559659 2.11117662 1.95467955]\n",
            "Diff: 103.10633139617677\n"
          ]
        }
      ]
    },
    {
      "cell_type": "code",
      "source": [
        "cost_2"
      ],
      "metadata": {
        "colab": {
          "base_uri": "https://localhost:8080/"
        },
        "id": "z-oJEGf65V8n",
        "outputId": "c0b01b1f-31e6-4a8e-cbfa-121007171aca"
      },
      "execution_count": 101,
      "outputs": [
        {
          "output_type": "execute_result",
          "data": {
            "text/plain": [
              "Expression(CONVEX, NONNEGATIVE, ())"
            ]
          },
          "metadata": {},
          "execution_count": 101
        }
      ]
    },
    {
      "cell_type": "code",
      "source": [
        "# Plot data\n",
        "\n",
        "def print_plot(X, Y, fit, title):\n",
        "  plt.scatter(X, Y, s=0.8, label='Target')\n",
        "  plt.plot(X, fit, color='darkred', label=\"Fit\")\n",
        "  plt.title(title)\n",
        "\n",
        "print_plot(X, Y, list(func(X, vars_1.value)), 'Squared cost function')"
      ],
      "metadata": {
        "colab": {
          "base_uri": "https://localhost:8080/",
          "height": 452
        },
        "id": "uopW6orz6Rh4",
        "outputId": "74fa3835-5a03-47ae-d5b5-fb602e9ac25f"
      },
      "execution_count": 102,
      "outputs": [
        {
          "output_type": "display_data",
          "data": {
            "text/plain": [
              "<Figure size 640x480 with 1 Axes>"
            ],
            "image/png": "[encoded data removed]"
          },
          "metadata": {}
        }
      ]
    },
    {
      "cell_type": "code",
      "source": [
        "print_plot(X, Y, list(func(X, vars_2.value)), 'Abs cost function')"
      ],
      "metadata": {
        "colab": {
          "base_uri": "https://localhost:8080/",
          "height": 452
        },
        "id": "670GvVKw7SiQ",
        "outputId": "e998426b-ff11-410c-aa01-21260f1daaa6"
      },
      "execution_count": 103,
      "outputs": [
        {
          "output_type": "display_data",
          "data": {
            "text/plain": [
              "<Figure size 640x480 with 1 Axes>"
            ],
            "image/png": "[encoded data removed]"
          },
          "metadata": {}
        }
      ]
    },
    {
      "cell_type": "markdown",
      "source": [
        "In general visually plot with squared cost function seems to fit data better. Plot with abs cost function goes through certain points at the bottom, while being too far from top points.\n",
        "\n",
        "The reson for it might be that squared function better punishes big distances, taking the square of them.\n"
      ],
      "metadata": {
        "id": "Sg-SXUq474bW"
      }
    },
    {
      "cell_type": "code",
      "source": [],
      "metadata": {
        "id": "PJzgVSMu8FBS"
      },
      "execution_count": null,
      "outputs": []
    },
    {
      "cell_type": "markdown",
      "source": [
        "# Task 11"
      ],
      "metadata": {
        "id": "_YGNwfb_qlpq"
      }
    },
    {
      "cell_type": "code",
      "source": [
        "from numpy import load\n",
        "\n",
        "data = load('data_linprog.npz')\n",
        "A = data['X']\n",
        "y = data['y']\n",
        "\n",
        "n = len(A)\n",
        "k = len(A[0])\n",
        "print(f'n = {n}, k = {k}')"
      ],
      "metadata": {
        "colab": {
          "base_uri": "https://localhost:8080/"
        },
        "id": "lGEO5ZBPqoRL",
        "outputId": "2fbe903d-7240-45e6-e185-1798dc9c5c91"
      },
      "execution_count": 104,
      "outputs": [
        {
          "output_type": "stream",
          "name": "stdout",
          "text": [
            "n = 10, k = 20\n"
          ]
        }
      ]
    },
    {
      "cell_type": "markdown",
      "source": [
        "$$\\min\\limits_{x}  \\sum_{i=1}^k|x_i|$$\n",
        "$$ s.t. Ax = y $$\n",
        "\n"
      ],
      "metadata": {
        "id": "uPwK4Sbji_5j"
      }
    },
    {
      "cell_type": "markdown",
      "source": [
        "Lets intriduce variable $t_i >= |x_i|$ => $t_i >= x_i, -t_i <= x_i$\n",
        "\n",
        "Then optimization problem can be stated as following:\n",
        "\n",
        "$$\n",
        "\\min \\limits_{t} \\sum t_i\n",
        "$$\n",
        "\n",
        "$$\n",
        "s.t. Ax = y\n",
        "$$\n",
        "\n",
        "$$\n",
        "x_i <= t_i\n",
        "$$\n",
        "\n",
        "$$\n",
        "x_i >= -t_i\n",
        "$$"
      ],
      "metadata": {
        "id": "NAXLysl0mDNw"
      }
    },
    {
      "cell_type": "markdown",
      "source": [
        "To solve it with scipy.optimize.linprog we have to reformulate the problem:\n",
        "\n",
        "$$\n",
        "\\bar x = (x_1, x_2, ..., x_k, t_1, t_2, ..., t_k)\n",
        "$$\n",
        "\n",
        "$$\n",
        "c = (0_1, 0_2, ..., 0_k, 1_1, 1_2, ..., 1_k)\n",
        "$$\n",
        "\n",
        "$$\n",
        "A_{eq} = \\left( \\begin{matrix}\n",
        "A & 0\n",
        "\\end{matrix} \\right), A_{eq} \\in R^{n, 2k}\n",
        "$$\n",
        "\n",
        "$$\n",
        "A_{ub} =  \\left( \\begin{matrix}\n",
        "I^{kxk}, -I^{kxk} \\\\\n",
        "-I^{kxk}, -I^{kxk}\n",
        "\\end{matrix} \\right) , A_{ub} \\in R^{2k, 2k}\n",
        "$$\n",
        "\n",
        "$$\n",
        "b_{ub} = (0_1, 0_2, ..., 0_{2k})\n",
        "$$"
      ],
      "metadata": {
        "id": "f2QxEVCMsdFm"
      }
    },
    {
      "cell_type": "markdown",
      "source": [
        "Then the final problem is:\n",
        "\n",
        "$$\n",
        "\\min \\limits_{\\bar x} c \\bar x^T\n",
        "$$\n",
        "\n",
        "$$\n",
        "s.t. A_{ub}\\bar x^T <= b_{ub}\n",
        "$$\n",
        "\n",
        "$$\n",
        "A_{ex}\\bar x^T = y\n",
        "$$\n",
        "\n",
        "$$\n",
        "\\bar x > (-\\inf, -\\inf, ...., 0, 0, ...0)\n",
        "$$"
      ],
      "metadata": {
        "id": "-a0iKAa4wviZ"
      }
    },
    {
      "cell_type": "code",
      "source": [
        "from scipy.optimize import linprog\n",
        "\n",
        "c = [0]*k + [1]*k\n",
        "A_eq = np.concatenate([A, np.zeros((n, k))], axis=1)\n",
        "\n",
        "diag = np.diag(np.full(k,1))\n",
        "upper_part = np.concatenate([diag, -diag], axis=1)\n",
        "lower_part = np.concatenate([-diag, -diag], axis=1)\n",
        "A_ub = np.concatenate([upper_part, lower_part], axis=0)\n",
        "b_ub = np.zeros(2*k)\n",
        "\n",
        "x_bounds = [(None, None)]*k\n",
        "t_bounds = [(0, None)]*k\n",
        "bounds = x_bounds + t_bounds"
      ],
      "metadata": {
        "id": "pOg4YLx1zxaE"
      },
      "execution_count": 105,
      "outputs": []
    },
    {
      "cell_type": "code",
      "source": [
        "res = linprog(c, A_ub=A_ub, b_ub=b_ub, A_eq=A_eq, b_eq=y, bounds=bounds)\n",
        "res"
      ],
      "metadata": {
        "colab": {
          "base_uri": "https://localhost:8080/"
        },
        "id": "36mVbF1F06k2",
        "outputId": "5d07e9e2-fa82-413c-b246-e8fad6d2d3d9"
      },
      "execution_count": 106,
      "outputs": [
        {
          "output_type": "execute_result",
          "data": {
            "text/plain": [
              "        message: Optimization terminated successfully. (HiGHS Status 7: Optimal)\n",
              "        success: True\n",
              "         status: 0\n",
              "            fun: 9.634439501271336\n",
              "              x: [-1.602e+00 -4.835e-13 ...  1.163e+00  2.855e+00]\n",
              "            nit: 34\n",
              "          lower:  residual: [       inf        inf ...  1.163e+00\n",
              "                              2.855e+00]\n",
              "                 marginals: [ 0.000e+00  0.000e+00 ...  0.000e+00\n",
              "                              0.000e+00]\n",
              "          upper:  residual: [       inf        inf ...        inf\n",
              "                                    inf]\n",
              "                 marginals: [ 0.000e+00  0.000e+00 ...  0.000e+00\n",
              "                              0.000e+00]\n",
              "          eqlin:  residual: [ 0.000e+00  0.000e+00  0.000e+00  0.000e+00\n",
              "                              0.000e+00  0.000e+00  0.000e+00  0.000e+00\n",
              "                              0.000e+00  0.000e+00]\n",
              "                 marginals: [ 3.152e-01  5.945e-01 -4.395e-01  2.630e-02\n",
              "                              4.893e-01  5.334e-01  7.701e-02  2.695e-01\n",
              "                             -1.414e-01 -6.421e-01]\n",
              "        ineqlin:  residual: [ 3.205e+00  0.000e+00 ...  0.000e+00\n",
              "                              5.710e+00]\n",
              "                 marginals: [-0.000e+00 -8.228e-01 ... -1.000e+00\n",
              "                             -0.000e+00]\n",
              " mip_node_count: 0\n",
              " mip_dual_bound: 0.0\n",
              "        mip_gap: 0.0"
            ]
          },
          "metadata": {},
          "execution_count": 106
        }
      ]
    },
    {
      "cell_type": "code",
      "source": [
        "# Check correctness\n",
        "\n",
        "x = res.x[:k]\n",
        "A @ x - y"
      ],
      "metadata": {
        "colab": {
          "base_uri": "https://localhost:8080/"
        },
        "id": "EGzS3qUw2_Bb",
        "outputId": "e5c5c1a8-8912-47b5-a1db-de4118357221"
      },
      "execution_count": 107,
      "outputs": [
        {
          "output_type": "execute_result",
          "data": {
            "text/plain": [
              "array([-4.44089210e-16, -1.77635684e-15, -3.55271368e-15,  4.44089210e-16,\n",
              "       -4.44089210e-16,  8.88178420e-16,  2.66453526e-15,  1.33226763e-15,\n",
              "        3.33066907e-16,  4.44089210e-16])"
            ]
          },
          "metadata": {},
          "execution_count": 107
        }
      ]
    },
    {
      "cell_type": "markdown",
      "source": [
        "Errors are close to zero."
      ],
      "metadata": {
        "id": "o05MfNPhaAFx"
      }
    },
    {
      "cell_type": "code",
      "source": [
        "np.linalg.norm(x, ord=1)"
      ],
      "metadata": {
        "colab": {
          "base_uri": "https://localhost:8080/"
        },
        "id": "BavYIBs43SP5",
        "outputId": "784926dc-8db0-4a27-e4b1-2ee4ec70fe26"
      },
      "execution_count": 108,
      "outputs": [
        {
          "output_type": "execute_result",
          "data": {
            "text/plain": [
              "9.634439501273908"
            ]
          },
          "metadata": {},
          "execution_count": 108
        }
      ]
    },
    {
      "cell_type": "code",
      "source": [],
      "metadata": {
        "id": "ioqJWTHEW4_w"
      },
      "execution_count": null,
      "outputs": []
    },
    {
      "cell_type": "markdown",
      "source": [
        "# Task 12"
      ],
      "metadata": {
        "id": "NiAiR8zfW5ip"
      }
    },
    {
      "cell_type": "code",
      "source": [
        "from numpy import load\n",
        "\n",
        "data = load('data_regr.npz')\n",
        "X = data['X']\n",
        "y = data['y']\n",
        "\n",
        "n = len(X)\n",
        "k = len(X[0])\n",
        "print(f'n = {n}, k = {k}')"
      ],
      "metadata": {
        "colab": {
          "base_uri": "https://localhost:8080/"
        },
        "id": "5179EG84W7bu",
        "outputId": "e9bee2b3-6dcb-4b95-8975-8f1dc1ac3c55"
      },
      "execution_count": 109,
      "outputs": [
        {
          "output_type": "stream",
          "name": "stdout",
          "text": [
            "n = 200, k = 100\n"
          ]
        }
      ]
    },
    {
      "cell_type": "code",
      "source": [
        "import cvxpy as cp\n",
        "\n",
        "def solve(lambd, ord):\n",
        "  a = cp.Variable(k)\n",
        "  cost = cp.sum((y - X @ a)**2) + lambd*cp.norm(a, ord)\n",
        "  obj = cp.Minimize(cost)\n",
        "  prob = cp.Problem(obj)\n",
        "  prob.solve()\n",
        "\n",
        "  #print(f'The optimal value is: {prob.value}')\n",
        "  #print(f'The optimal a is: {a.value}')\n",
        "  return prob.solve(), a.value"
      ],
      "metadata": {
        "id": "tCTALynQXiZv"
      },
      "execution_count": 110,
      "outputs": []
    },
    {
      "cell_type": "code",
      "source": [
        "def solve_for_norm(ord, lambdas):\n",
        "  rs = np.zeros(len(lambdas))\n",
        "  an = np.zeros(len(lambdas))\n",
        "  for i, l in enumerate(lambdas):\n",
        "    solution, a_value = solve(l, ord)\n",
        "    rs[i] = np.linalg.norm(y - X @ a_value)\n",
        "    an[i] = np.linalg.norm(a_value)\n",
        "\n",
        "  plt.plot(lambdas, rs, label='|y - Xa|')\n",
        "  plt.plot(lambdas, an, label='|a|')\n",
        "  idx = np.argwhere(np.diff(np.sign(rs, an))).flatten()\n",
        "  plt.legend()\n",
        "  plt.title(f'Using L{ord} - norm')"
      ],
      "metadata": {
        "id": "xenjBcCOZq4x"
      },
      "execution_count": 111,
      "outputs": []
    },
    {
      "cell_type": "code",
      "source": [
        "lambdas = [0.0001, 0.001, 0.01, 0.1, 1, 2, 5, 10, 20, 30, 40, 50]\n",
        "\n",
        "solve_for_norm(1, lambdas)"
      ],
      "metadata": {
        "colab": {
          "base_uri": "https://localhost:8080/",
          "height": 452
        },
        "id": "2aRRSaAeeI5i",
        "outputId": "1180f216-1e6a-4c05-e6b8-24a5762ba5b8"
      },
      "execution_count": 112,
      "outputs": [
        {
          "output_type": "display_data",
          "data": {
            "text/plain": [
              "<Figure size 640x480 with 1 Axes>"
            ],
            "image/png": "[encoded data removed]"
          },
          "metadata": {}
        }
      ]
    },
    {
      "cell_type": "code",
      "source": [],
      "metadata": {
        "id": "Y5ncSUMhgdW9"
      },
      "execution_count": null,
      "outputs": []
    },
    {
      "cell_type": "code",
      "source": [
        "lambdas = [0.01, 0.1, 1, 2, 5, 10, 50, 100, 200, 300, 500]\n",
        "\n",
        "solve_for_norm(2, lambdas)"
      ],
      "metadata": {
        "colab": {
          "base_uri": "https://localhost:8080/",
          "height": 452
        },
        "id": "DxP_PRqZedfw",
        "outputId": "8ce28748-7ff8-41f8-aee8-2b5ba58a042b"
      },
      "execution_count": 113,
      "outputs": [
        {
          "output_type": "display_data",
          "data": {
            "text/plain": [
              "<Figure size 640x480 with 1 Axes>"
            ],
            "image/png": "[encoded data removed]"
          },
          "metadata": {}
        }
      ]
    },
    {
      "cell_type": "code",
      "source": [
        "def get_solution(l, ord):\n",
        "  solution, a_value = solve(l, ord)\n",
        "  err = np.linalg.norm(y - X @ a_value)\n",
        "  a_norm = np.linalg.norm(a_value)\n",
        "  return err, a_norm, a_value\n",
        "\n",
        "# Approx best solution with L1 norm\n",
        "err, a_norm, a_l1 = get_solution(25, 1)\n",
        "print(f'L1 norm err ={err}, a_norm = {a_norm}')\n",
        "\n",
        "# Approx best solution with L2 norm\n",
        "err, a_norm, a_l2 = get_solution(250, 2)\n",
        "print(f'L2 norm err ={err}, a_norm = {a_norm}')"
      ],
      "metadata": {
        "colab": {
          "base_uri": "https://localhost:8080/"
        },
        "id": "dfyjDoCrgJ69",
        "outputId": "f00e848f-4d1b-4012-b8f9-25b440c3cb37"
      },
      "execution_count": 114,
      "outputs": [
        {
          "output_type": "stream",
          "name": "stdout",
          "text": [
            "L1 norm err =10.373212784858639, a_norm = 10.201875407834526\n",
            "L2 norm err =10.773595990221454, a_norm = 9.936614812893232\n"
          ]
        }
      ]
    },
    {
      "cell_type": "code",
      "source": [
        "# Find values in a-vector close to zero\n",
        "eps = 1e-9\n",
        "\n",
        "l1_zero_idx = [i for i, elem in enumerate(a_l1) if abs(elem) < eps]\n",
        "l2_zero_idx = [i for i, elem in enumerate(a_l2) if abs(elem) < eps]\n",
        "print(f'L1 norm opt elements close to zero - idx:{l1_zero_idx}, values: {a_l1[l1_zero_idx]}')\n",
        "print(f'L2 norm opt elements close to zero - idx:{l2_zero_idx}, values: {a_l2[l2_zero_idx]}')"
      ],
      "metadata": {
        "colab": {
          "base_uri": "https://localhost:8080/"
        },
        "id": "g8XdZeP7hnJI",
        "outputId": "8907e826-8930-4818-fbd5-3e7267150cd2"
      },
      "execution_count": 115,
      "outputs": [
        {
          "output_type": "stream",
          "name": "stdout",
          "text": [
            "L1 norm opt elements close to zero - idx:[0, 11, 19, 20, 23, 32, 33, 38, 52, 53, 61, 69, 76, 93], values: [ 9.11601377e-16  4.72636207e-16 -1.77774128e-15  6.18945792e-16\n",
            "  1.90733375e-15 -4.64316233e-16 -1.88201368e-15  1.38917193e-15\n",
            "  3.74394167e-15 -6.47498971e-16  3.14409699e-16  3.52230139e-15\n",
            "  3.84887592e-16 -1.20784474e-15]\n",
            "L2 norm opt elements close to zero - idx:[], values: []\n"
          ]
        }
      ]
    },
    {
      "cell_type": "markdown",
      "source": [
        "Using L2-norm in optimization problem does not let get rid of redundant $x_i$ elements.\n",
        "\n",
        "When using L1-norm in optimization, the following $x_i$ elements are considered redundant: [0, 11, 19, 20, 23, 32, 33, 38, 52, 53, 61, 69, 76, 93]"
      ],
      "metadata": {
        "id": "3BzbnpS4j2bg"
      }
    },
    {
      "cell_type": "code",
      "source": [],
      "metadata": {
        "id": "u4wwUP51klkW"
      },
      "execution_count": null,
      "outputs": []
    }
  ]
}