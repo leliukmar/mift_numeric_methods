{
  "nbformat": 4,
  "nbformat_minor": 0,
  "metadata": {
    "colab": {
      "provenance": []
    },
    "kernelspec": {
      "name": "python3",
      "display_name": "Python 3"
    },
    "language_info": {
      "name": "python"
    }
  },
  "cells": [
    {
      "cell_type": "markdown",
      "source": [
        "# Task 1"
      ],
      "metadata": {
        "id": "KzdTyfOzpOWl"
      }
    },
    {
      "cell_type": "markdown",
      "source": [
        "$$\n",
        "\\min \\limits_{x} f(x) = x^TAx + 2b^Tx\n",
        "$$\n",
        "\n",
        "$$\n",
        "s.t. \\space x^Tx ≤ 1\n",
        "$$\n",
        "\n",
        "$$\n",
        "L(x, \\lambda) = x^TAx + 2b^Tx + \\lambda(||x||_2 - 1)\n",
        "$$\n"
      ],
      "metadata": {
        "id": "sNGFNmvlpRnZ"
      }
    },
    {
      "cell_type": "markdown",
      "source": [
        "Primal problem:\n",
        "\n",
        "$$\n",
        "\\min \\limits_{x, ||x||_2 \\le 1} f(x) = \\min \\limits_{x} \\max \\limits_{\\lambda \\ge 0} L(x, \\lambda)\n",
        "$$"
      ],
      "metadata": {
        "id": "sst1mB7AA2T4"
      }
    },
    {
      "cell_type": "markdown",
      "source": [
        "Dual problem:\n",
        "\n",
        "$$\n",
        "\\max \\limits_{\\lambda \\ge 0} \\min \\limits_{x} L(x, \\lambda) = \\max \\limits_{\\lambda \\ge 0} g(\\lambda)\n",
        "$$\n",
        "\n",
        "$$\n",
        "where, g(\\lambda) = \\min \\limits_{x} L(x, \\lambda)\n",
        "$$"
      ],
      "metadata": {
        "id": "q8tNNS6_AwDm"
      }
    },
    {
      "cell_type": "markdown",
      "source": [
        "**1. Solve dual problem:**\n",
        "\n",
        "$$\n",
        "\\max \\limits_{\\lambda \\ge 0} g(\\lambda) = \\max \\limits_{\\lambda \\ge 0} \\min \\limits_{x} L(x, \\lambda)\n",
        "$$\n",
        "\n",
        "For\n",
        "$$\n",
        "A =  \\left( \\begin{matrix}\n",
        "-1, 3 \\\\\n",
        "3, -1\n",
        "\\end{matrix} \\right)\n",
        "$$\n",
        "\n",
        "$$\n",
        "b =  \\left( \\begin{matrix}\n",
        "1\\\\1\n",
        "\\end{matrix} \\right)\n",
        "$$"
      ],
      "metadata": {
        "id": "AR8H0V7hB9T5"
      }
    },
    {
      "cell_type": "markdown",
      "source": [
        "$$\n",
        "g(\\lambda) = \\min \\limits_{x} (xTAx +2b^Tx + \\lambda x^Tx - \\lambda) =\n",
        "\\min \\limits_{x} (x^T(A + \\lambda)x + 2b^Tx - \\lambda)\n",
        "$$\n",
        "\n",
        "Lets find stationary points of $g(\\lambda)$ by differentiating:\n",
        "\n",
        "$$\n",
        "\\nabla g(\\lambda) = 2(A+\\lambda)x + 2b = 0\n",
        "$$\n",
        "$$\n",
        "(A+\\lambda)x = -b\n",
        "$$\n",
        "$$\n",
        "x = -(A+\\lambda)^{-1}b\n",
        "$$\n",
        "\n",
        "Substituting into $g(\\lambda)$ we get:\n",
        "\n",
        "$$\n",
        "g(\\lambda) = (-(A+\\lambda)^{-1}b)^T (A + \\lambda) (-(A+\\lambda)^{-1}b) -2b(A+\\lambda)^{-1}b - \\lambda\n",
        "$$\n",
        "\n",
        "$$\n",
        "g(\\lambda) = b^T((A+\\lambda)^{-1})^T (A + \\lambda) (A+\\lambda)^{-1}b -2b^T(A+\\lambda)^{-1}b - \\lambda\n",
        "$$\n",
        "\n",
        "$$\n",
        "g(\\lambda) = b^T(A+\\lambda)^{-1} b -2b^T(A+\\lambda)^{-1}b - \\lambda\n",
        "$$\n",
        "\n",
        "**$$\n",
        "g(\\lambda) = -b^T(A+\\lambda)^{-1} b - \\lambda\n",
        "$$**"
      ],
      "metadata": {
        "id": "3A7_B8AKCHxn"
      }
    },
    {
      "cell_type": "markdown",
      "source": [
        "\n",
        "$$\n",
        "(A + \\lambda)^-1 = \\frac{1}{(-1+\\lambda)^2 - 9}\\left( \\begin{matrix}\n",
        "-1 + \\lambda & -3\\\\\n",
        "-3 &-1 + \\lambda\n",
        "\\end{matrix} \\right)\n",
        "$$"
      ],
      "metadata": {
        "id": "E2xIAyX-LsAk"
      }
    },
    {
      "cell_type": "markdown",
      "source": [
        "Lets substitute $A$ and $b$ into equation:\n",
        "\n",
        "$$\n",
        "g(\\lambda) = -(1, 1) \\left( \\begin{matrix}\n",
        "-1 + \\lambda & -3 \\\\\n",
        "-3 & -1 + \\lambda\n",
        "\\end{matrix} \\right)\\frac{1}{(-1+\\lambda)^2 - 9} \\left( \\begin{matrix}\n",
        "1 \\\\\n",
        "1\n",
        "\\end{matrix} \\right)- \\lambda\n",
        "$$\n",
        "\n",
        "$$\n",
        " = -\\left( \\begin{matrix}\n",
        "-4 + \\lambda & -4 + \\lambda\n",
        "\\end{matrix} \\right)\\left( \\begin{matrix}\n",
        "1 \\\\\n",
        "1\n",
        "\\end{matrix} \\right)\\frac{1}{(-1+\\lambda)^2 - 9}  - \\lambda\n",
        "$$\n",
        "\n",
        "$$\n",
        " = -\\frac{2\\lambda -8}{(\\lambda^2 - 2\\lambda -8}  - \\lambda\n",
        "$$"
      ],
      "metadata": {
        "id": "iXFfq7NCLV0A"
      }
    },
    {
      "cell_type": "markdown",
      "source": [
        "For $g(\\lambda)$ to have global minimum, matrix $(A + \\lambda)$ should be positive definite, i.e. $(A + \\lambda) \\gt 0$, meaning that all it's eigenvalues should be positive.\n",
        "\n",
        "Lets find them:\n",
        "\n",
        "$$\n",
        "det \\left( \\begin{matrix}\n",
        "-1 + \\lambda -y & 3 \\\\\n",
        "3 & -1 + \\lambda -y\n",
        "\\end{matrix} \\right) = 0\n",
        "$$\n",
        "\n",
        "$$\n",
        "(-1 + \\lambda -y)^2 - 9 = 0\n",
        "$$\n",
        "\n",
        "$$\n",
        "y_1 = \\lambda - 4 , y_1 \\ge 0 => \\lambda \\ge 4\n",
        "$$\n",
        "$$\n",
        "y_2 = \\lambda + 2, y_2 \\ge 0 => \\lambda \\ge -2\n",
        "$$\n",
        "\n",
        "So, conditioning for $\\lambda$ is: **$\\lambda \\ge 4$**"
      ],
      "metadata": {
        "id": "PZeIDXxLCHz8"
      }
    },
    {
      "cell_type": "markdown",
      "source": [
        "**So the dual problem is:**\n",
        "\n",
        "$$\n",
        "\\max \\limits_{\\lambda \\ge 4} \\frac{8 - 2\\lambda}{(\\lambda^2 - 2\\lambda -8)} - \\lambda\n",
        "$$"
      ],
      "metadata": {
        "id": "EMNZADlrONei"
      }
    },
    {
      "cell_type": "markdown",
      "source": [
        "Lets analyze function. First lets find it's stationary points:\n",
        "$$\n",
        "\\frac{-2\\cdot(\\lambda^2 - 2\\lambda -8) - (2\\lambda - 2)(8 - 2\\lambda)}{(\\lambda^2 - 2\\lambda -8)^2} - 1 = 0\n",
        "$$"
      ],
      "metadata": {
        "id": "mKaR6rnvRPRK"
      }
    },
    {
      "cell_type": "code",
      "source": [
        "import sympy as sp\n",
        "from sympy import summation, IndexedBase, expand\n",
        "\n",
        "l = sp.symbols('lambd')\n",
        "eq = (-2*(l**2 - 2*l - 8) - (2*l - 2)*(8 - 2*l)) / (l**2 - 2*l - 8)**2 - 1\n",
        "sp.solve([eq], [l], dict=True)"
      ],
      "metadata": {
        "colab": {
          "base_uri": "https://localhost:8080/"
        },
        "id": "pm7x_KzbSGzd",
        "outputId": "a6603a14-6bba-4244-94ce-e283a86386de"
      },
      "execution_count": null,
      "outputs": [
        {
          "output_type": "execute_result",
          "data": {
            "text/plain": [
              "[{lambd: -2 - sqrt(2)}, {lambd: -2 + sqrt(2)}]"
            ]
          },
          "metadata": {},
          "execution_count": 16
        }
      ]
    },
    {
      "cell_type": "markdown",
      "source": [
        "Since $\\lambda \\ge 4$, we should just check whether point $\\lambda = -2 + \\sqrt{2}$ is max or min.\n",
        "\n",
        "Lets see how function behaves near this point:\n"
      ],
      "metadata": {
        "id": "XHtBp54xTqyw"
      }
    },
    {
      "cell_type": "code",
      "source": [
        "def g(l):\n",
        "  return (8 - 2*l)/(l**2 - 2*l - 8) - l\n",
        "\n",
        "for p in [-2 - 1, 0]:\n",
        "  print(f\"f({p}) = {g(p)}\")"
      ],
      "metadata": {
        "colab": {
          "base_uri": "https://localhost:8080/"
        },
        "id": "MKPx3iBNTyYr",
        "outputId": "a27b5fa1-bc4a-4c00-b542-81392fa45d1f"
      },
      "execution_count": null,
      "outputs": [
        {
          "output_type": "stream",
          "name": "stdout",
          "text": [
            "f(-3) = 5.0\n",
            "f(0) = -1.0\n"
          ]
        }
      ]
    },
    {
      "cell_type": "markdown",
      "source": [
        "So, $\\lambda = -2 + \\sqrt{2}$ is max point, we can just find value at point $\\lambda = 4$ and it will be solution to dual problem:\n",
        "\n",
        "$$\n",
        "\\lim_{\\lambda -> 4+} \\frac{8 - 2\\lambda}{(\\lambda^2 - 2\\lambda -8)} - \\lambda = \\lim_{\\lambda -> 4+}\\frac{-2}{2\\lambda -2} - \\lim_{\\lambda -> 4+} \\lambda = -\\frac{2}{6} - 4 = -\\frac{13}{3}\n",
        "$$"
      ],
      "metadata": {
        "id": "slRM4wiOVaxR"
      }
    },
    {
      "cell_type": "markdown",
      "source": [
        "**Answer:**\n",
        "$$\\max \\limits_{\\lambda \\ge 0} \\min \\limits_{x} L(x, \\lambda) = -\\frac{13}{3}$$"
      ],
      "metadata": {
        "id": "6GRFnjQyXyEP"
      }
    },
    {
      "cell_type": "code",
      "source": [],
      "metadata": {
        "id": "FVA6RqBpTybS"
      },
      "execution_count": null,
      "outputs": []
    },
    {
      "cell_type": "markdown",
      "source": [
        "**2. Solve the primal problem**\n",
        "\n",
        "$$\n",
        "\\min \\limits_{x, ||x||_2 \\le 1} f(x) = \\min \\limits_{x} \\max \\limits_{\\lambda \\ge 0} L(x, \\lambda)\n",
        "$$"
      ],
      "metadata": {
        "id": "w3xxJrolYJe1"
      }
    },
    {
      "cell_type": "markdown",
      "source": [
        "Solution to this problem should satisfy KKT conditions:\n",
        "\n",
        "1. Stationarity: $\\frac{∂L}{∂x} = 0=> (A+\\lambda)x = -b  $\n",
        "\n",
        "2. Primal feasibility: $x^Tx <= 1$\n",
        "\n",
        "3. Dual feasibility: $\\lambda \\ge 0$\n",
        "\n",
        "4. Complemantary slackness: $\\lambda \\cdot (x^Tx - 1) = 0$"
      ],
      "metadata": {
        "id": "T5Z6dCx-CH5N"
      }
    },
    {
      "cell_type": "markdown",
      "source": [
        "There are two ways how 4-th condition can be satisfied: either $\\lambda = 0$ or $x^Tx = 1$. Lets analyse both variants."
      ],
      "metadata": {
        "id": "wQhsbg4hZl5R"
      }
    },
    {
      "cell_type": "markdown",
      "source": [
        "**2.1.** $\\lambda = 0$.\n",
        "\n",
        "Lets find x from stationarity:\n",
        "\n",
        "$$\n",
        "(A + \\lambda)x = -b => Ax = -b\n",
        "$$"
      ],
      "metadata": {
        "id": "DmFsXz-PZ_Eb"
      }
    },
    {
      "cell_type": "code",
      "source": [
        "import numpy as np\n",
        "\n",
        "A = np.array([[-1, 3], [3, -1]])\n",
        "b = np.array([-1, -1])\n",
        "\n",
        "def LagrangeMultipl(x, l):\n",
        "  return x @A@x + 2*np.dot(b, x) + l*(np.dot(x, x) -1)\n",
        "\n",
        "A = np.array([[-1, 3], [3, -1]])\n",
        "b = np.array([1, 1])\n",
        "\n",
        "x = np.linalg.solve(A, b)\n",
        "\n",
        "print(f\"Solution for x: {x} and l=0:  L(x, l) = {LagrangeMultipl(x, 0)}\")"
      ],
      "metadata": {
        "colab": {
          "base_uri": "https://localhost:8080/"
        },
        "id": "6QxNvPjJaUfQ",
        "outputId": "b4b7ceb7-b6f5-4427-f03f-38ae2258e747"
      },
      "execution_count": null,
      "outputs": [
        {
          "output_type": "stream",
          "name": "stdout",
          "text": [
            "Solution for x: [0.5 0.5] and l=0:  L(x, l) = 3.0\n"
          ]
        }
      ]
    },
    {
      "cell_type": "markdown",
      "source": [
        "Compared to the dual solution, this solution does not seem right."
      ],
      "metadata": {
        "id": "TnJ5znzVboZU"
      }
    },
    {
      "cell_type": "markdown",
      "source": [
        "**2.2.** $x^Tx =1 , \\lambda \\gt 0$.\n",
        "\n",
        "To find solution we need to solve system:\n",
        "\n",
        "$$\n",
        "\\begin{cases}\n",
        "(A+\\lambda)x = -b \\\\\n",
        "x^Tx = 1\n",
        "\\end{cases}\n",
        "$$\n",
        "\n",
        "$$\n",
        "\\begin{cases}\n",
        "\\left( \\begin{matrix}\n",
        "-1 + \\lambda & 3 \\\\\n",
        "3 & -1 + \\lambda\n",
        "\\end{matrix} \\right) \\left( \\begin{matrix}x_1 \\\\ x_2\\end{matrix} \\right) = \\left( \\begin{matrix}-1 \\\\ -1\\end{matrix} \\right) \\\\\n",
        "x_1^2 + x_2^2 = 1\n",
        "\\end{cases}\n",
        "$$\n",
        "\n",
        "$$\n",
        "\\begin{cases}\n",
        "x_1(\\lambda -1) + 3x_2 = -1 \\\\\n",
        "3x_1 + x_2(\\lambda -1) = -1 \\\\\n",
        "x_1^2 + x_2^2 = 1\n",
        "\\end{cases}\n",
        "$$"
      ],
      "metadata": {
        "id": "_O3pNM6tb-Gq"
      }
    },
    {
      "cell_type": "code",
      "source": [
        "import sympy as sp\n",
        "\n",
        "x1, x2, lambd = sp.symbols('x1 x2 lambd')\n",
        "\n",
        "eq1 = x1*(lambd - 1) + 3*x2 + 1\n",
        "eq2 = 3*x1 + (lambd - 1)*x2 + 1\n",
        "\n",
        "sp.solve([eq1, eq2], [x1, x2], dict=True)"
      ],
      "metadata": {
        "colab": {
          "base_uri": "https://localhost:8080/"
        },
        "id": "1AvLhytgf7Uw",
        "outputId": "a1b0f7e1-2c48-4e9f-c278-3b07f0e72080"
      },
      "execution_count": null,
      "outputs": [
        {
          "output_type": "execute_result",
          "data": {
            "text/plain": [
              "[{x1: -1/(lambd + 2), x2: -1/(lambd + 2)}]"
            ]
          },
          "metadata": {},
          "execution_count": 37
        }
      ]
    },
    {
      "cell_type": "markdown",
      "source": [
        "$x_{1, 2} = -\\frac{1}{\\lambda + 2}$, lets solve $x^Tx = 1$\n",
        "\n",
        "$$\n",
        "(-\\frac{1}{\\lambda + 2})^2 + (-\\frac{1}{\\lambda + 2})^2 = 1\n",
        "$$\n",
        "\n",
        "$$\n",
        "\\frac{2}{(\\lambda + 2)^2} = 1\n",
        "$$\n",
        "\n",
        "$$\n",
        "\\lambda = ± \\sqrt{2} - 2\n",
        "$$\n",
        "\n",
        "This is wrong answer, because neither of values of $\\lambda$ satisfies condition $\\lambda \\ge 0$"
      ],
      "metadata": {
        "id": "wBYxBqSwgfmX"
      }
    },
    {
      "cell_type": "markdown",
      "source": [
        "If matrix $(A+\\lambda)$ will be singular, than system $(A+\\lambda)x = -b$ will have multiple solutions.\n",
        "\n",
        "For matrix to be singular, its det should be zero:\n",
        "\n",
        "$$\n",
        "det(A + \\lambda) = 0\n",
        "$$\n",
        "\n",
        "$$\n",
        "det\\left( \\begin{matrix}\n",
        "-1 + \\lambda & 3 \\\\\n",
        "3 & -1 + \\lambda\n",
        "\\end{matrix} \\right) = 0\n",
        "$$\n",
        "\n",
        "$$\n",
        "\\lambda^2 - 2\\lambda -8 = 0\n",
        "$$\n",
        "\n",
        "$$\n",
        "\\lambda = \\frac{2 \\pm 6}{2} = > \\lambda_1 = 4, \\lambda_2 = -2\n",
        "$$\n",
        "\n",
        "$\\lambda=-2$ doesnt satisfy $\\lambda \\ge 0$, so $\\lambda = 4$"
      ],
      "metadata": {
        "id": "jMSo8S63Zl8I"
      }
    },
    {
      "cell_type": "markdown",
      "source": [
        "$$ (A + 4) = \\left( \\begin{matrix}\n",
        "3 & 3 \\\\\n",
        "3 & 3\n",
        "\\end{matrix} \\right)\n",
        "$$\n",
        "\n",
        "This leads to system of equations:\n",
        "$$\n",
        "\\begin{cases}\n",
        "(A+\\lambda)x = -b \\\\\n",
        "x^Tx = 1\n",
        "\\end{cases}\n",
        "$$\n",
        "\n",
        "$$\n",
        "\\begin{cases}\n",
        "\\left( \\begin{matrix}\n",
        "3 & 3 \\\\\n",
        "3 & 3\n",
        "\\end{matrix} \\right)\\left( \\begin{matrix}\n",
        "x_1 \\\\\n",
        "x_2\n",
        "\\end{matrix} \\right) = \\left( \\begin{matrix}\n",
        "-1 \\\\\n",
        "-1\n",
        "\\end{matrix} \\right) \\\\\n",
        "x_1^2 + x_2^2 = 1\n",
        "\\end{cases}\n",
        "$$\n",
        "\n",
        "$$\n",
        "\\begin{cases}\n",
        "3x_1 + 3x_2 = -1 \\\\\n",
        "x_1^2 + x_2^2 = 1\n",
        "\\end{cases}\n",
        "$$\n",
        "\n",
        "$$\n",
        "\\begin{cases}\n",
        "x_1 = \\frac{-1 - 3x_2}{3} \\\\\n",
        "\\frac{(-1 - 3x_2)^2}{9}+ x_2^2 = 1\n",
        "\\end{cases}\n",
        "$$\n",
        "\n",
        "$$\n",
        "(3x_2 + 1)^2 + 9x_2^2 -9 = 0\n",
        "$$\n",
        "$$\n",
        "9x_2^2 + 6x_2 + 1 + 9x_2^2 -9 = 0\n",
        "$$\n",
        "\n",
        "$$\n",
        "18x_2^2 + 6x_2 - 8 = 0\n",
        "$$\n",
        "\n",
        "$$\n",
        "x_2 = \\frac{-1 \\pm \\sqrt{17}}{6}\n",
        "$$\n",
        "\n",
        "$$\n",
        "x_1 = \\frac{-1 - 3\\frac{-1 \\pm \\sqrt{17}}{6}}{3} = \\frac{-1 \\mp \\sqrt{17}}{6}\n",
        "$$"
      ],
      "metadata": {
        "id": "MmavT9J2ijiC"
      }
    },
    {
      "cell_type": "code",
      "source": [
        "# Lets check answer\n",
        "\n",
        "x2 = -1/6 - np.sqrt(17)/6\n",
        "x1 = -1/6 + np.sqrt(17)/6\n",
        "lambd = 4\n",
        "print(LagrangeMultipl([x1, x2], lambd))"
      ],
      "metadata": {
        "colab": {
          "base_uri": "https://localhost:8080/"
        },
        "id": "OfiipxImk4m0",
        "outputId": "900ffc4e-faf0-4de7-df41-4934ce79d893"
      },
      "execution_count": null,
      "outputs": [
        {
          "output_type": "stream",
          "name": "stdout",
          "text": [
            "-4.333333333333333\n",
            "-4.333333333333333\n"
          ]
        }
      ]
    },
    {
      "cell_type": "markdown",
      "source": [
        "**Answer**: $L(x, \\lambda) = -\\frac{13}{3}$.\n",
        "\n",
        "This is the same answer as for dual problem."
      ],
      "metadata": {
        "id": "wDOteq-dijk3"
      }
    },
    {
      "cell_type": "code",
      "source": [],
      "metadata": {
        "id": "0V8LMGbGrjC5"
      },
      "execution_count": null,
      "outputs": []
    },
    {
      "cell_type": "markdown",
      "source": [
        "**3.**\n",
        "**Duality gap** or the problem is the difference between solution to primal and dual problems, in our case gap is **zero**."
      ],
      "metadata": {
        "id": "dMTudBGspj-V"
      }
    },
    {
      "cell_type": "code",
      "source": [],
      "metadata": {
        "id": "2oBdnIFQrjcL"
      },
      "execution_count": null,
      "outputs": []
    },
    {
      "cell_type": "markdown",
      "source": [
        "**4. Check that adding condition $A + \\lambda I \\ge 0$ is sufficient to pick global minima.**"
      ],
      "metadata": {
        "id": "xWj6FVnNqmSo"
      }
    },
    {
      "cell_type": "markdown",
      "source": [
        "We found 2 solutions satisfying KKT conditions:\n",
        "\n",
        "1. $\\lambda = 0, x = [0.5, 0.5], L(x, l) = 3$\n",
        "1. $\\lambda = 4, x = [\\frac{-1 - \\sqrt(17)}{6}, \\frac{-1 + \\sqrt(17)}{6} ], L(x, l) = -\\frac{13}{3}$\n",
        "\n",
        "Lets check that first solution doesn't satisfy condition, and second - satisfies."
      ],
      "metadata": {
        "id": "8PW-a0wQq6WM"
      }
    },
    {
      "cell_type": "markdown",
      "source": [
        "1. $\\lambda = 0$\n",
        "\n",
        "$$\n",
        "(A + 0I) = A = \\left( \\begin{matrix}\n",
        "-1, 3 \\\\\n",
        "3, -1\n",
        "\\end{matrix} \\right)\n",
        "$$\n",
        "\n",
        "$$\n",
        "det\\left( \\begin{matrix}\n",
        "-1 - \\lambda & 3 \\\\\n",
        "3& -1 - \\lambda\n",
        "\\end{matrix} \\right) = (-1 - \\lambda)^2 - 9 = 0\n",
        "$$\n",
        "\n",
        "$$\n",
        "\\lambda^2 + 2\\lambda - 8 = 0\n",
        "$$\n",
        "\n",
        "$$\n",
        "\\lambda = \\frac{-2 \\pm 6}{3} => \\lambda_1 = -4, \\lambda_2 = 2\n",
        "$$\n",
        "\n",
        "So, not all eigenvalues are non-negative, meaning condition for positive semi-definite matrix is not satisfied."
      ],
      "metadata": {
        "id": "yzGzu5ltsBEO"
      }
    },
    {
      "cell_type": "markdown",
      "source": [
        "2. $\\lambda = 4$\n",
        "\n",
        "$$\n",
        "(A + 4I) = A = \\left( \\begin{matrix}\n",
        "3 & 3 \\\\\n",
        "3& 3\n",
        "\\end{matrix} \\right)\n",
        "$$\n",
        "\n",
        "$$\n",
        "det\\left( \\begin{matrix}\n",
        "3 - \\lambda & 3 \\\\\n",
        "3& 3 - \\lambda\n",
        "\\end{matrix} \\right) = (\\lambda - 3)^2 - 9 = 0\n",
        "$$\n",
        "\n",
        "$$\n",
        "\\lambda^2 - 6\\lambda = 0\n",
        "$$\n",
        "\n",
        "$$\n",
        "\\lambda_1 = 0, \\lambda_2 = 6\n",
        "$$\n",
        "\n",
        "So, this solution satisfies condition for positive semi-definite matrix $A+\\lambda I$"
      ],
      "metadata": {
        "id": "aW2lLzjBtwhk"
      }
    },
    {
      "cell_type": "code",
      "source": [],
      "metadata": {
        "id": "0eGezgaLpRIa"
      },
      "execution_count": null,
      "outputs": []
    },
    {
      "cell_type": "markdown",
      "source": [
        "# Task 2"
      ],
      "metadata": {
        "id": "OM07I5Y2AC5j"
      }
    },
    {
      "cell_type": "markdown",
      "source": [
        "$$\n",
        "x_t = a_tx_{t-1} + \\omega_t\n",
        "$$\n",
        "\n",
        "where $\\omega_t $~ N(0, 1), $ a_t \\in (-1, 1)$"
      ],
      "metadata": {
        "id": "j0tFWkm0AKVW"
      }
    },
    {
      "cell_type": "markdown",
      "source": [
        "**1.  For $a_t = \\alpha$, find variance and autocorrelation.**\n",
        "\n",
        "$x_t = \\alpha x_{t-1} + \\omega_t$\n",
        "\n",
        "$<x_t^2> = <(\\alpha x_{t-1} + \\omega_t)^2> = <\\alpha^2 x_{t-1}^2 + 2\\alpha x_{t-1} \\omega_t + \\omega_t^2)> = \\alpha^2 <x_t^2> + 2\\alpha<x_t><w_t> + <w_t^2> = \\alpha^2<x_t^2> + 0 + 1 = \\alpha^2<x_t^2> + 1 $\n",
        "\n",
        "So, variance is: $<x_t^2> = \\frac{1}{1-\\alpha^2}$"
      ],
      "metadata": {
        "id": "PWBNcaNHAscx"
      }
    },
    {
      "cell_type": "markdown",
      "source": [
        "$<x_t x_{t+\\tau}> = <x_t (\\alpha x_{t+\\tau -1} + \\omega_{t+\\tau})> = \\alpha<x_t x_{t+\\tau -1}> + <x_t \\omega_{t+\\tau}> = \\alpha<x_t x_{t+\\tau}> $, because $<w_{t+\\tau}>$ = 0\n",
        "\n",
        "$<x_t x_{t+\\tau}> = \\alpha<x_t x_{t+\\tau}> = \\alpha<x_t (\\alpha x_{t+\\tau -2} + \\omega_{t+\\tau - 1})> = \\alpha^2<x_t x_{t + \\tau-2}> + 0 = ...$\n",
        "\n",
        "$<x_t x_{t+\\tau}>  = \\alpha^{\\tau} <x_t x_t> = \\alpha^{\\tau} <x_t^2> = \\alpha^{\\tau} \\sigma^2$\n",
        "\n",
        "So, autocorrelation is: $\\frac{<x_t x_{t+\\tau}>}{\\sigma^2} = \\frac{\\alpha^{\\tau} \\sigma^2}{\\sigma^2} = \\alpha^{\\tau}$"
      ],
      "metadata": {
        "id": "LRUZntPhL5mZ"
      }
    },
    {
      "cell_type": "code",
      "source": [],
      "metadata": {
        "id": "xNXSbC1iawgz"
      },
      "execution_count": null,
      "outputs": []
    },
    {
      "cell_type": "markdown",
      "source": [
        "**2.**"
      ],
      "metadata": {
        "id": "FQoN8lspY-4e"
      }
    }
  ]
}