{
 "cells": [
  {
   "cell_type": "markdown",
   "id": "5f0d39c2",
   "metadata": {},
   "source": [
    "### 1. Propose a numerically stable way to compute the function f(x, a) = √(x + a) −√x for positive x, a."
   ]
  },
  {
   "cell_type": "code",
   "execution_count": 1,
   "id": "8602efaf",
   "metadata": {},
   "outputs": [],
   "source": [
    "import numpy as np\n",
    "\n",
    "def unstable_f(x, a):\n",
    "    return np.sqrt(x + a) - np.sqrt(x)"
   ]
  },
  {
   "cell_type": "markdown",
   "id": "d06b82c8",
   "metadata": {},
   "source": [
    "The problem with this algorithm is that it is unsable when value of *a* is negligibly small compared to *x*. \n",
    "So we need to rewrite formula to get rid on substraction"
   ]
  },
  {
   "cell_type": "code",
   "execution_count": 2,
   "id": "ba5bb65f",
   "metadata": {},
   "outputs": [
    {
     "data": {
      "text/plain": [
       "0.0"
      ]
     },
     "execution_count": 2,
     "metadata": {},
     "output_type": "execute_result"
    }
   ],
   "source": [
    "unstable_f(1e10, 1e-10)"
   ]
  },
  {
   "cell_type": "markdown",
   "id": "6e50eb04",
   "metadata": {},
   "source": [
    "$$\n",
    "\\sqrt{x+a} - \\sqrt{x} = \\frac{ (\\sqrt{x+a} - \\sqrt{x}) *  (\\sqrt{x+a}) + \\sqrt{x})}{\\sqrt{x+a} + \\sqrt{x}} = \\frac{a}{\\sqrt{x+a} + \\sqrt{x}}\n",
    "$$"
   ]
  },
  {
   "cell_type": "code",
   "execution_count": 3,
   "id": "956c9db2",
   "metadata": {},
   "outputs": [],
   "source": [
    "def stable_f(x, a):\n",
    "    return a / (np.sqrt(x + a) + np.sqrt(x))"
   ]
  },
  {
   "cell_type": "code",
   "execution_count": 4,
   "id": "84075271",
   "metadata": {},
   "outputs": [
    {
     "data": {
      "text/plain": [
       "5e-16"
      ]
     },
     "execution_count": 4,
     "metadata": {},
     "output_type": "execute_result"
    }
   ],
   "source": [
    "stable_f(1e10, 1e-10)"
   ]
  },
  {
   "cell_type": "markdown",
   "id": "9598f6ca",
   "metadata": {},
   "source": [
    "### 2."
   ]
  },
  {
   "cell_type": "code",
   "execution_count": 5,
   "id": "3f17da50",
   "metadata": {},
   "outputs": [],
   "source": [
    "import mpmath\n",
    "from mpmath import *\n",
    "import sympy as sp\n",
    "import numpy as np"
   ]
  },
  {
   "cell_type": "code",
   "execution_count": 6,
   "id": "4605c046",
   "metadata": {},
   "outputs": [
    {
     "data": {
      "text/plain": [
       "0.401231961990814"
      ]
     },
     "execution_count": 6,
     "metadata": {},
     "output_type": "execute_result"
    }
   ],
   "source": [
    "mp.dsp = 256\n",
    "mp.pretty = True\n",
    "\n",
    "mpmath.tan(10**100)"
   ]
  },
  {
   "cell_type": "markdown",
   "id": "24863366",
   "metadata": {},
   "source": [
    "Releative condition number: \n",
    "$$\\kappa = \\frac{\\Vert J(x) \\Vert}{\\Vert f(x)\\Vert / \\Vert x \\Vert} = \\frac{ \\frac{1}{cos^2(x)} }{ \\frac{|tan(x)|}{|x|} } = \\frac{|x|}{|cos(x) * sin(x)|}$$\n"
   ]
  },
  {
   "cell_type": "code",
   "execution_count": 7,
   "id": "6da6ea14",
   "metadata": {},
   "outputs": [
    {
     "name": "stdout",
     "output_type": "stream",
     "text": [
      "Condition number is: 2.84103067375392e+100\n"
     ]
    }
   ],
   "source": [
    "x = mpf(10**100)\n",
    "k = abs(x) / abs(cos(x) * sin(x))\n",
    "print(f'Condition number is: {k}')"
   ]
  },
  {
   "cell_type": "code",
   "execution_count": null,
   "id": "5d6ecadb",
   "metadata": {},
   "outputs": [],
   "source": []
  },
  {
   "cell_type": "markdown",
   "id": "17306268",
   "metadata": {},
   "source": [
    "### 3. "
   ]
  },
  {
   "cell_type": "markdown",
   "id": "f0be66b1",
   "metadata": {},
   "source": [
    "$$\n",
    "x_{1,2} = \\frac{-b \\pm \\sqrt{b^2 - 4ac}}{2a}\n",
    "$$"
   ]
  },
  {
   "cell_type": "code",
   "execution_count": 22,
   "id": "8fb1f23d",
   "metadata": {},
   "outputs": [],
   "source": [
    "import cmath\n",
    "import math\n",
    "\n",
    "def solve_quad(b, c):\n",
    "    d = cmath.sqrt(math.pow(b, 2) - 4*1*c)\n",
    "    r1 = (-b + d) / 2\n",
    "    r2 = (-b - d) / 2\n",
    "    return r1, r2\n",
    "\n",
    "def check_result(b, c, r1, r2):\n",
    "    res1 =  mpmath.power(r1, 2) + mpf(b)* r1 + mpf(c)\n",
    "    res2 =  mpmath.power(r2, 2) + mpf(b)* r2 + mpf(c)\n",
    "    return (res1, res2)"
   ]
  },
  {
   "cell_type": "code",
   "execution_count": 23,
   "id": "bf3dbe9d",
   "metadata": {},
   "outputs": [
    {
     "name": "stdout",
     "output_type": "stream",
     "text": [
      "(1+0j), (1+0j)\n"
     ]
    }
   ],
   "source": [
    "r1, r2 = solve_quad(-2, 1)\n",
    "print(f'{r1}, {r2}')"
   ]
  },
  {
   "cell_type": "code",
   "execution_count": 24,
   "id": "35260775",
   "metadata": {},
   "outputs": [
    {
     "data": {
      "text/plain": [
       "((0.0 + 0.0j), (0.0 + 0.0j))"
      ]
     },
     "execution_count": 24,
     "metadata": {},
     "output_type": "execute_result"
    }
   ],
   "source": [
    "check_result(-2, 1, r1, r2)"
   ]
  },
  {
   "cell_type": "markdown",
   "id": "3209e40a",
   "metadata": {},
   "source": [
    "Run algorithm on given examples:"
   ]
  },
  {
   "cell_type": "code",
   "execution_count": 25,
   "id": "e37c2c57",
   "metadata": {},
   "outputs": [
    {
     "name": "stdout",
     "output_type": "stream",
     "text": [
      "1. root1: (-1+0j), root2: (-3+0j).\tCheck resut is close to zero: (0.0 + 0.0j), (0.0 + 0.0j)\n",
      "\n",
      "2. root1: (-1+0j), root2: (-1+0j).\tCheck resut is close to zero: (0.0 + 0.0j), (0.0 + 0.0j)\n",
      "\n",
      "3. root1: (-0.25+1.984313483298443j), root2: (-0.25-1.984313483298443j).\tCheck resut is close to zero: (-0.00000000000000037405146784588949026219789449128342920177590761633690252807582510286010801792144775390625 + 0.0j), (-0.00000000000000037405146784588949026219789449128342920177590761633690252807582510286010801792144775390625 + 0.0j)\n",
      "\n",
      "4. root1: 0j, root2: (-10000000000+0j).\tCheck resut is close to zero: (3.0 + 0.0j), (3.0 + 0.0j)\n",
      "\n",
      "5. root1: (10000000000+0j), root2: 0j.\tCheck resut is close to zero: (4.0 + 0.0j), (4.0 + 0.0j)\n",
      "\n"
     ]
    }
   ],
   "source": [
    "def run_tests(solver):\n",
    "    i = 1\n",
    "    for b, c in [(4.0, 3.0),\n",
    "                 (2.0, 1.0),\n",
    "                 (0.5, 4.0),\n",
    "                 (1e10, 3.0),\n",
    "                 (-1e10, 4.0)]:\n",
    "        r1, r2 = solver(b, c)\n",
    "        res1, res2 = check_result(b, c, r1, r2)\n",
    "        print(f'{i}. root1: {r1}, root2: {r2}.\\tCheck resut is close to zero: {res1}, {res2}\\n')\n",
    "        i += 1\n",
    "        \n",
    "run_tests(solve_quad)"
   ]
  },
  {
   "cell_type": "markdown",
   "id": "0943eb6d",
   "metadata": {},
   "source": [
    "Lets use *mpmath* to increase precision and see the expected roots. "
   ]
  },
  {
   "cell_type": "code",
   "execution_count": 26,
   "id": "82bfae72",
   "metadata": {},
   "outputs": [],
   "source": [
    "mp.dps = 256\n",
    "mp.pretty = True\n",
    "\n",
    "def solve_quad_mp(b, c):\n",
    "    d = mpmath.sqrt(mpmath.power(mpf(b), 2) - 4*mpf(c) + 0J)\n",
    "    r1 = (-b + d) / 2\n",
    "    r2 = (-b - d) / 2\n",
    "    return r1, r2"
   ]
  },
  {
   "cell_type": "code",
   "execution_count": 27,
   "id": "4b8c4b66",
   "metadata": {},
   "outputs": [
    {
     "name": "stdout",
     "output_type": "stream",
     "text": [
      "1. root1: (-1.0 + 0.0j), root2: (-3.0 + 0.0j).\tCheck resut is close to zero: (0.0 + 0.0j), (0.0 + 0.0j)\n",
      "\n",
      "2. root1: (-1.0 + 0.0j), root2: (-1.0 + 0.0j).\tCheck resut is close to zero: (0.0 + 0.0j), (0.0 + 0.0j)\n",
      "\n",
      "3. root1: (-0.25 + 1.984313483298442942876211815229445319282694387311837635276250844400801617422712720820294664855907707961298433753873097321807647416470411088320542916910080792037863047296242919224767196148815445525733540652792871017786955825256454337001183894197229459305776j), root2: (-0.25 - 1.984313483298442942876211815229445319282694387311837635276250844400801617422712720820294664855907707961298433753873097321807647416470411088320542916910080792037863047296242919224767196148815445525733540652792871017786955825256454337001183894197229459305776j).\tCheck resut is close to zero: (3.32999586548783578180997641566399936849931883440036517005052740274020552003129203637803030434975068150846777032648895698981581837168402022522378970265148407954781944668518391567604978021370587738839843588506754598369350903859678855912894051121739110678184e-257 + 0.0j), (3.32999586548783578180997641566399936849931883440036517005052740274020552003129203637803030434975068150846777032648895698981581837168402022522378970265148407954781944668518391567604978021370587738839843588506754598369350903859678855912894051121739110678184e-257 + 0.0j)\n",
      "\n",
      "4. root1: (-0.0000000003000000000000000000090000000000000000005400000000000000000405000000000000000034020000000000000003061800000000000000288684000000000000028146690000000000002814669000000000000287096238000000000029753610120000000003124129062600000000331638315548368606561030398 + 0.0j), root2: (-9999999999.999999999699999999999999999990999999999999999999459999999999999999959499999999999999996597999999999999999693819999999999999971131599999999999997185330999999999999718533099999999999971290376199999999997024638987999999999687587093739999999966836169 + 0.0j).\tCheck resut is close to zero: (3.276313934745022782085860097124173797899743113484696559632550652385364163315764721390447818277022483239619122310667680530735024200405353838589399357171220871070839962951819480787912928294163559082176489281462639140613827173076240682260662808693292255170179e-238 + 0.0j), (1.228551629943300878186614323304911137619936621559077517670264379488428733114114296029977090783162233849847519336862401327418279118955700411728999059763378405484262378233109674621676023236705608422535667935499524658269505200563825531539859022252185014113059e-237 + 0.0j)\n",
      "\n",
      "5. root1: (9999999999.999999999599999999999999999983999999999999999998719999999999999999871999999999999999985663999999999999998279679999999999999783731199999999999971885055999999999996251340799999999999490182348799999999929552470015999999990137345802239999998604055098 + 0.0j), root2: (0.0000000004000000000000000000160000000000000000012800000000000000001280000000000000000143360000000000000017203200000000000002162688000000000000281149440000000000037486592000000000005098176512000000000704475299840000000098626541977600000013959449018163839707114820694 + 0.0j).\tCheck resut is close to zero: (-1.228551629943300878186614323304911137619936621559077517670264379488428733114114296029977090783162233849847519336862401327418279118955700411728999059763378405484262378233109674621676023236705608422535667935499524658269505200563825531539859022252185014113059e-237 + 0.0j), (2.041602948793863084844194862314290446450211211567335582225454860252071465217728879100103735917851460732819601722557471409239028587030062896760661330495526947383783629082085177218529366600647804686016795384028857018816436201732530142101529687403749805326341e-238 + 0.0j)\n",
      "\n"
     ]
    }
   ],
   "source": [
    "run_tests(solve_quad_mp)"
   ]
  },
  {
   "cell_type": "markdown",
   "id": "5970618a",
   "metadata": {},
   "source": [
    "So, only one root of last two equations is far from correct.\n",
    "Roots $\\pm -10000000000$ are pretty close to correct ones, moreover they can not be represented better in numpy:"
   ]
  },
  {
   "cell_type": "code",
   "execution_count": 28,
   "id": "2751b4fb",
   "metadata": {},
   "outputs": [
    {
     "data": {
      "text/plain": [
       "array(-1.e+10)"
      ]
     },
     "execution_count": 28,
     "metadata": {},
     "output_type": "execute_result"
    }
   ],
   "source": [
    "np.array(solve_quad_mp(1e10, 3.0)[1].real, dtype=np.float64)"
   ]
  },
  {
   "cell_type": "code",
   "execution_count": null,
   "id": "017f8055",
   "metadata": {},
   "outputs": [],
   "source": []
  },
  {
   "cell_type": "markdown",
   "id": "8888b9b2",
   "metadata": {},
   "source": [
    "The problem is that the number of $b^2$ is so big, that *c* is just neglected, and expression $(-b + \\sqrt{b^2 - 4ac})$ or $(-b - \\sqrt{b^2 - 4ac})$ becomes zero for positive or negatie $b$ respectively. \n",
    "\n",
    "Lets get rid of substitution:\n",
    "\n",
    "$$\n",
    "x_{1,2} = \\frac{-b \\pm \\sqrt{b^2 - 4ac}}{2a} = \\frac{(-b \\pm \\sqrt{b^2 - 4ac})*(-b \\mp \\sqrt{b^2 - 4ac})) } {2a(-b \\mp \\sqrt{b^2 - 4ac})} = \\frac{4ac}{2a(-b \\mp \\sqrt{b^2 - 4ac})} = \\frac{2}{-b \\mp \\sqrt{b^2 - 4ac}}\n",
    "$$\n",
    "\n",
    "So,\n",
    "1. if b >= 0, $x_1 = \\frac{-b - \\sqrt{b^2 - 4ac}}{2a}$, $x_2 =  \\frac{2}{- b - \\sqrt{b^2 - 4ac}}$\n",
    "1. if b < 0, $x_1 = \\frac{-b + \\sqrt{b^2 - 4ac}}{2a}$, $x_2 =  \\frac{2}{- b + \\sqrt{b^2 - 4ac}}$"
   ]
  },
  {
   "cell_type": "code",
   "execution_count": null,
   "id": "94044737",
   "metadata": {},
   "outputs": [],
   "source": []
  },
  {
   "cell_type": "code",
   "execution_count": 29,
   "id": "110b9e50",
   "metadata": {},
   "outputs": [],
   "source": [
    "def solve_quad_stable(b, c):\n",
    "    sign_b = 1 if (b < 0) else -1\n",
    "    w = -b + sign_b * cmath.sqrt(math.pow(b, 2) - 4*c)\n",
    "    r1 = w/2\n",
    "    r2 = 2*c/w\n",
    "    return r1, r2        "
   ]
  },
  {
   "cell_type": "code",
   "execution_count": 30,
   "id": "e3a99fc6",
   "metadata": {},
   "outputs": [
    {
     "name": "stdout",
     "output_type": "stream",
     "text": [
      "1. root1: (-3+0j), root2: (-1-0j).\tCheck resut is close to zero: (0.0 + 0.0j), (0.0 + 0.0j)\n",
      "\n",
      "2. root1: (-1+0j), root2: (-1-0j).\tCheck resut is close to zero: (0.0 + 0.0j), (0.0 + 0.0j)\n",
      "\n",
      "3. root1: (-0.25-1.984313483298443j), root2: (-0.24999999999999994+1.9843134832984428j).\tCheck resut is close to zero: (-0.00000000000000037405146784588949026219789449128342920177590761633690252807582510286010801792144775390625 + 0.0j), (0.000000000000000507160739046941453718351789057895326271390324608169010434099988060552277602255344390869140625 + 0.00000000000000022030305172320772289881379905409088808764154847862071218145274542621336877346038818359375j)\n",
      "\n",
      "4. root1: (-10000000000+0j), root2: (-3e-10-0j).\tCheck resut is close to zero: (3.0 + 0.0j), (0.00000000000000002004037876491734945996394421323773607899745735179063756358945089813241869018266924218414001678519815847719955093086952047087834216654300689697265625 + 0.0j)\n",
      "\n",
      "5. root1: (10000000000+0j), root2: (4e-10+0j).\tCheck resut is close to zero: (4.0 + 0.0j), (-0.000000000000000145568789261990966305003885121439280918259828859697547602140983003760890464589016842509021033103172360238523517193820477899635079666040837764739990234375 + 0.0j)\n",
      "\n"
     ]
    }
   ],
   "source": [
    "run_tests(solve_quad_stable)"
   ]
  },
  {
   "cell_type": "markdown",
   "id": "ed1c4a3a",
   "metadata": {},
   "source": [
    "Ok, so *root2* of 4th and 5th examples were calculated correctly."
   ]
  },
  {
   "cell_type": "code",
   "execution_count": null,
   "id": "ceaf78a4",
   "metadata": {},
   "outputs": [],
   "source": []
  },
  {
   "cell_type": "markdown",
   "id": "d269fb61",
   "metadata": {},
   "source": [
    "### 4. "
   ]
  },
  {
   "cell_type": "markdown",
   "id": "9dd3bba9",
   "metadata": {},
   "source": [
    "For simplicity lets integer numbers as roots and calculated corresponding $a_{i}$ for them. "
   ]
  },
  {
   "cell_type": "code",
   "execution_count": 60,
   "id": "c02ab78a",
   "metadata": {},
   "outputs": [
    {
     "name": "stdout",
     "output_type": "stream",
     "text": [
      "[ 2.43290201e+18 -8.75294804e+18  1.38037598e+19 -1.28709312e+19\n",
      "  8.03781182e+18 -3.59997952e+18  1.20664780e+18 -3.11333643e+17\n",
      "  6.30308121e+16 -1.01422999e+16  1.30753501e+15 -1.35585183e+14\n",
      "  1.13102770e+13 -7.56111184e+11  4.01717716e+10 -1.67228082e+09\n",
      "  5.33279460e+07 -1.25685000e+06  2.06150000e+04 -2.10000000e+02\n",
      "  1.00000000e+00]\n"
     ]
    }
   ],
   "source": [
    "import numpy.polynomial.polynomial as poly\n",
    "\n",
    "N = 20\n",
    "start = 1\n",
    "roots = np.array([i for i in range(start, start + N)], dtype=np.float64)\n",
    "a = poly.polyfromroots(roots)\n",
    "print(a)"
   ]
  },
  {
   "cell_type": "code",
   "execution_count": 61,
   "id": "42240dee",
   "metadata": {},
   "outputs": [
    {
     "name": "stdout",
     "output_type": "stream",
     "text": [
      "[ 1.          2.          3.          3.99999997  5.00000075  5.99998904\n",
      "  7.00010178  7.9993535   9.00295906  9.99022524 11.02528535 11.95398557\n",
      " 13.06889885 13.92611834 15.05783223 15.96459171 17.01391126 17.99621355\n",
      " 19.00056856 19.99996523]\n"
     ]
    }
   ],
   "source": [
    "# Lets check roots\n",
    "roots = poly.polyroots(a)\n",
    "print(roots)"
   ]
  },
  {
   "cell_type": "markdown",
   "id": "3a6fcdea",
   "metadata": {},
   "source": [
    "As we see values are already not calculated correctly.\n",
    "\n",
    "Lets perturb coefficents $a_{i}$ and see how much roots change."
   ]
  },
  {
   "cell_type": "code",
   "execution_count": 62,
   "id": "d6ef02dc",
   "metadata": {},
   "outputs": [
    {
     "data": {
      "image/png": "[encoded data removed]",
      "text/plain": [
       "<Figure size 432x288 with 1 Axes>"
      ]
     },
     "metadata": {
      "needs_background": "light"
     },
     "output_type": "display_data"
    }
   ],
   "source": [
    "import matplotlib.pyplot as plt \n",
    "import matplotlib.cm as cm\n",
    "\n",
    "colors = cm.rainbow(np.linspace(0, 1, 100))\n",
    "roots_perturbed = []\n",
    "for i in range(100):\n",
    "    rand_values = np.random.normal(1, 1e-10, N + 1)\n",
    "    a_perturb = a * rand_values\n",
    "    \n",
    "    roots_perturb = poly.polyroots(a_perturb)\n",
    "    \n",
    "    x = [ele.real for ele in roots_perturb] \n",
    "    y = [ele.imag for ele in roots_perturb] \n",
    "    \n",
    "    plt.scatter(x, y, color=colors[i])\n",
    "    roots_perturbed.append(roots_perturb)\n",
    " \n",
    "roots_real = [ele.real for ele in roots] \n",
    "roots_img = [ele.imag for ele in roots] \n",
    "\n",
    "plt.scatter(roots_real, roots_img, color='black') \n",
    "plt.ylabel('Imaginary') \n",
    "plt.xlabel('Real') \n",
    "plt.show()"
   ]
  },
  {
   "cell_type": "markdown",
   "id": "4cc5c707",
   "metadata": {},
   "source": [
    "Real roots are displayed in black, along x-axis.\n",
    "\n",
    "As we see, root's values change significanly, especially near the beginning of last quater."
   ]
  },
  {
   "cell_type": "markdown",
   "id": "b53aa467",
   "metadata": {},
   "source": [
    "Lets find absolute and relative condition number of the problem of finding the roots of w(x) w.r.t polynomial coefficients. \n",
    "\n",
    "Lets define $k_{ij}$ as condition number of $root_{i}$ with respect to perturbations in coefficent $a_{j}$\n",
    "\n",
    "1. Absolute number:\n",
    "$$\n",
    "k_{ij} = \\frac{|\\delta{root_{i}}|}{|\\delta{a_{j}}|}\n",
    "$$\n",
    "\n",
    "2. Relative number:\n",
    "$$\n",
    "k_{ij} = \\frac{ \\frac{|\\delta{root_{i}}|}{root_{i}} }{ \\frac{|\\delta{a_{j}}|}{a_{j}} }\n",
    "$$\n",
    "\n",
    "For that lets take some random experiment."
   ]
  },
  {
   "cell_type": "code",
   "execution_count": 63,
   "id": "e8f7f35a",
   "metadata": {},
   "outputs": [],
   "source": [
    "rand_values = np.random.normal(1, 1e-10, N + 1)\n",
    "a_perturb = a * rand_values\n",
    "roots_perturb = poly.polyroots(a_perturb)\n",
    "    \n",
    "k_values_abs = np.zeros(shape=(N, N+1))\n",
    "k_values_relative = np.zeros(shape=(N, N+1))\n",
    "\n",
    "for i in range(0, N):\n",
    "    for j in range(0, N+1):\n",
    "        delta_root = abs(roots_perturb[i] - roots[i])\n",
    "        delta_a = abs(a[j] - a_perturb[j])\n",
    "        \n",
    "        k_values_abs[i][j] = delta_root / delta_a\n",
    "        k_values_relative[i][j] = (delta_root / roots[i]) / (delta_a / a[j])"
   ]
  },
  {
   "cell_type": "code",
   "execution_count": 64,
   "id": "e552b1d3",
   "metadata": {},
   "outputs": [
    {
     "data": {
      "text/plain": [
       "array([ 1.        +0.j        ,  1.99999669+0.j        ,\n",
       "        3.00005691+0.j        ,  4.0025052 +0.j        ,\n",
       "        4.94568672+0.j        ,  6.30497802-0.54082208j,\n",
       "        6.30497802+0.54082208j,  7.11052739+0.j        ,\n",
       "        8.19493498-2.15681077j,  8.19493498+2.15681077j,\n",
       "       10.52446493-3.49519453j, 10.52446493+3.49519453j,\n",
       "       13.64797241-4.33981825j, 13.64797241+4.33981825j,\n",
       "       14.03350576+0.j        , 17.24112353-4.17841326j,\n",
       "       17.24112353+4.17841326j, 20.2840193 -2.56389564j,\n",
       "       20.2840193 +2.56389564j, 21.51273501+0.j        ])"
      ]
     },
     "execution_count": 64,
     "metadata": {},
     "output_type": "execute_result"
    }
   ],
   "source": [
    "roots_perturb"
   ]
  },
  {
   "cell_type": "code",
   "execution_count": 65,
   "id": "6ee18b8b",
   "metadata": {},
   "outputs": [
    {
     "name": "stdout",
     "output_type": "stream",
     "text": [
      "Max abs condition number is:\t28840827572.066483 for root_13 and a_21\n",
      "Max rel condition number is:\t8992.241635699484 for root_13 and a_17\n"
     ]
    }
   ],
   "source": [
    "# Lets find maximum condition number.\n",
    "\n",
    "ind_rel_i, ind_rel_j = np.unravel_index(np.argmax(k_values_relative, axis=None), k_values_relative.shape)\n",
    "ind_abs_i, ind_abs_j = np.unravel_index(np.argmax(k_values_abs, axis=None), k_values_abs.shape)\n",
    "\n",
    "print(f\"Max abs condition number is:\\t{k_values_abs[ind_abs_i][ind_abs_j]} for root_{ind_abs_i+1} and a_{ind_abs_j+1}\")\n",
    "print(f\"Max rel condition number is:\\t{k_values_abs[ind_rel_i][ind_rel_j]} for root_{ind_rel_i+1} and a_{ind_rel_j+1}\")"
   ]
  },
  {
   "cell_type": "code",
   "execution_count": null,
   "id": "b5cd2109",
   "metadata": {},
   "outputs": [],
   "source": []
  },
  {
   "cell_type": "markdown",
   "id": "de3891ad",
   "metadata": {},
   "source": [
    "Lets calculate single conditional value using 2-norm:\n",
    "\n",
    "1. Absole number:\n",
    "$$\n",
    "k = \\frac{||\\delta{root}||_2}{||\\delta{a}||_2}\n",
    "$$\n",
    "\n",
    "\n",
    "2. Relative number:\n",
    "$$\n",
    "k = \\frac{ \\frac{||\\delta{root}||_2}{||root||_2} }{ \\frac{||\\delta{a}||_2}{||a||_2} }\n",
    "$$\n",
    "\n"
   ]
  },
  {
   "cell_type": "code",
   "execution_count": 66,
   "id": "e205433b",
   "metadata": {},
   "outputs": [
    {
     "name": "stdout",
     "output_type": "stream",
     "text": [
      "Abs condition number: 4.2907632855298715e-09\n",
      "Relative condition number: 1822637192.1760206\n"
     ]
    }
   ],
   "source": [
    "delta_root = roots - roots_perturb\n",
    "delta_a = a - a_perturb\n",
    "\n",
    "k_abs = np.linalg.norm(delta_root) / np.linalg.norm(delta_a)\n",
    "k_rel = (np.linalg.norm(delta_root) / np.linalg.norm(roots)) / (np.linalg.norm(delta_a) / np.linalg.norm(a))\n",
    "print(f\"Abs condition number: {k_abs}\")\n",
    "print(f\"Relative condition number: {k_rel}\")"
   ]
  },
  {
   "cell_type": "code",
   "execution_count": null,
   "id": "a26711e5",
   "metadata": {},
   "outputs": [],
   "source": []
  },
  {
   "cell_type": "markdown",
   "id": "10939288",
   "metadata": {},
   "source": [
    "### 6."
   ]
  },
  {
   "cell_type": "code",
   "execution_count": 69,
   "id": "fbe349f3",
   "metadata": {},
   "outputs": [
    {
     "data": {
      "text/latex": [
       "$\\displaystyle \\epsilon$"
      ],
      "text/plain": [
       "\\epsilon"
      ]
     },
     "execution_count": 69,
     "metadata": {},
     "output_type": "execute_result"
    }
   ],
   "source": [
    "import sympy as sp\n",
    "import numpy as np\n",
    "\n",
    "eps = sp.Symbol('\\\\epsilon')\n",
    "eps"
   ]
  },
  {
   "cell_type": "code",
   "execution_count": 70,
   "id": "1b71bfae",
   "metadata": {},
   "outputs": [
    {
     "data": {
      "text/latex": [
       "$\\displaystyle \\left[\\begin{matrix}1 & 1\\\\1 & \\epsilon + 1\\\\1 & \\epsilon + 1\\end{matrix}\\right]$"
      ],
      "text/plain": [
       "Matrix([\n",
       "[1,            1],\n",
       "[1, \\epsilon + 1],\n",
       "[1, \\epsilon + 1]])"
      ]
     },
     "execution_count": 70,
     "metadata": {},
     "output_type": "execute_result"
    }
   ],
   "source": [
    "A = sp.Matrix([ [ 1, 1 ], [ 1, 1 + eps ], [ 1, 1 + eps ] ])\n",
    "A"
   ]
  },
  {
   "cell_type": "code",
   "execution_count": 71,
   "id": "37e73ec5",
   "metadata": {},
   "outputs": [
    {
     "data": {
      "text/latex": [
       "$\\displaystyle \\left[\\begin{matrix}2\\\\\\epsilon\\\\\\epsilon + 4\\end{matrix}\\right]$"
      ],
      "text/plain": [
       "Matrix([\n",
       "[           2],\n",
       "[    \\epsilon],\n",
       "[\\epsilon + 4]])"
      ]
     },
     "execution_count": 71,
     "metadata": {},
     "output_type": "execute_result"
    }
   ],
   "source": [
    "b = sp.Matrix([ [ 2 ], [ eps ], [ 4 + eps ] ])\n",
    "b"
   ]
  },
  {
   "cell_type": "code",
   "execution_count": 72,
   "id": "d438373a",
   "metadata": {},
   "outputs": [
    {
     "data": {
      "text/latex": [
       "$\\displaystyle \\left[\\begin{matrix}\\epsilon \\left(1 + \\frac{2}{\\epsilon} + \\frac{\\left(- 2 \\epsilon - 3\\right) \\left(\\epsilon + 1\\right)}{2 \\epsilon^{2}} + \\frac{3}{2 \\epsilon^{2}}\\right) + \\left(\\epsilon + 4\\right) \\left(1 + \\frac{2}{\\epsilon} + \\frac{\\left(- 2 \\epsilon - 3\\right) \\left(\\epsilon + 1\\right)}{2 \\epsilon^{2}} + \\frac{3}{2 \\epsilon^{2}}\\right) + 2 + \\frac{4}{\\epsilon} + \\frac{- 2 \\epsilon - 3}{\\epsilon^{2}} + \\frac{3}{\\epsilon^{2}}\\\\\\epsilon \\left(\\frac{- 2 \\epsilon - 3}{2 \\epsilon^{2}} + \\frac{3 \\left(\\epsilon + 1\\right)}{2 \\epsilon^{2}}\\right) + \\left(\\epsilon + 4\\right) \\left(\\frac{- 2 \\epsilon - 3}{2 \\epsilon^{2}} + \\frac{3 \\left(\\epsilon + 1\\right)}{2 \\epsilon^{2}}\\right) + \\frac{- 2 \\epsilon - 3}{\\epsilon^{2}} + \\frac{3}{\\epsilon^{2}}\\end{matrix}\\right]$"
      ],
      "text/plain": [
       "Matrix([\n",
       "[\\epsilon*(1 + 2/\\epsilon + (-2*\\epsilon - 3)*(\\epsilon + 1)/(2*\\epsilon**2) + 3/(2*\\epsilon**2)) + (\\epsilon + 4)*(1 + 2/\\epsilon + (-2*\\epsilon - 3)*(\\epsilon + 1)/(2*\\epsilon**2) + 3/(2*\\epsilon**2)) + 2 + 4/\\epsilon + (-2*\\epsilon - 3)/\\epsilon**2 + 3/\\epsilon**2],\n",
       "[                                                   \\epsilon*((-2*\\epsilon - 3)/(2*\\epsilon**2) + 3*(\\epsilon + 1)/(2*\\epsilon**2)) + (\\epsilon + 4)*((-2*\\epsilon - 3)/(2*\\epsilon**2) + 3*(\\epsilon + 1)/(2*\\epsilon**2)) + (-2*\\epsilon - 3)/\\epsilon**2 + 3/\\epsilon**2]])"
      ]
     },
     "execution_count": 72,
     "metadata": {},
     "output_type": "execute_result"
    }
   ],
   "source": [
    "x = (A.T @ A).inv() @ A.T @ b\n",
    "x"
   ]
  },
  {
   "cell_type": "code",
   "execution_count": 73,
   "id": "3b91e5a5",
   "metadata": {},
   "outputs": [
    {
     "data": {
      "text/latex": [
       "$\\displaystyle \\left[\\begin{matrix}1\\\\1\\end{matrix}\\right]$"
      ],
      "text/plain": [
       "Matrix([\n",
       "[1],\n",
       "[1]])"
      ]
     },
     "execution_count": 73,
     "metadata": {},
     "output_type": "execute_result"
    }
   ],
   "source": [
    "x = sp.simplify(x)\n",
    "x"
   ]
  },
  {
   "cell_type": "markdown",
   "id": "b455b082",
   "metadata": {},
   "source": [
    "Solve in single and double precision."
   ]
  },
  {
   "cell_type": "code",
   "execution_count": 74,
   "id": "644cb797",
   "metadata": {},
   "outputs": [],
   "source": [
    "def solve(dtype):\n",
    "    A = np.array([[1, 1], [1, 1.00001], [1, 1.00001]], dtype=dtype)\n",
    "    b = np.array([[2], [0.00001], [4.00001]], dtype=dtype)\n",
    "    x = np.linalg.inv(A.T @ A) @ A.T @ b\n",
    "    return x"
   ]
  },
  {
   "cell_type": "code",
   "execution_count": 75,
   "id": "f3588222",
   "metadata": {},
   "outputs": [
    {
     "data": {
      "text/plain": [
       "array([[1612.1589],\n",
       "       [1461.854 ]], dtype=float32)"
      ]
     },
     "execution_count": 75,
     "metadata": {},
     "output_type": "execute_result"
    }
   ],
   "source": [
    "solve(np.float32)"
   ]
  },
  {
   "cell_type": "code",
   "execution_count": 76,
   "id": "c82c9416",
   "metadata": {},
   "outputs": [
    {
     "data": {
      "text/plain": [
       "array([[1.000005  ],\n",
       "       [0.99999857]])"
      ]
     },
     "execution_count": 76,
     "metadata": {},
     "output_type": "execute_result"
    }
   ],
   "source": [
    "solve(np.float64)"
   ]
  },
  {
   "cell_type": "markdown",
   "id": "22e5fc62",
   "metadata": {},
   "source": [
    "Result of single precision solution is far from correct, mistake is huge.\n",
    "\n",
    "Result of double precision solution is close to real one."
   ]
  },
  {
   "cell_type": "code",
   "execution_count": null,
   "id": "881059db",
   "metadata": {},
   "outputs": [],
   "source": []
  },
  {
   "cell_type": "markdown",
   "id": "aaaaf749",
   "metadata": {},
   "source": [
    "Lets solve with SVD"
   ]
  },
  {
   "cell_type": "code",
   "execution_count": 77,
   "id": "8617a01e",
   "metadata": {},
   "outputs": [],
   "source": [
    "A = np.array([[1, 1], [1, 1.00001], [1, 1.00001]], dtype=np.float64)\n",
    "b = np.array([[2], [0.00001], [4.00001]], dtype=np.float64)\n",
    "    \n",
    "U, S, VT = np.linalg.svd(A)\n",
    "S_diag_inv = np.diag(1/S)\n",
    "b_bar = U.T @ b\n",
    "\n",
    "x_bar = S_diag_inv @ b_bar[:2]\n",
    "x = VT.T @ x_bar"
   ]
  },
  {
   "cell_type": "code",
   "execution_count": 78,
   "id": "68a62400",
   "metadata": {},
   "outputs": [
    {
     "data": {
      "text/plain": [
       "array([[1.],\n",
       "       [1.]])"
      ]
     },
     "execution_count": 78,
     "metadata": {},
     "output_type": "execute_result"
    }
   ],
   "source": [
    "x"
   ]
  },
  {
   "cell_type": "markdown",
   "id": "dc6e779f",
   "metadata": {},
   "source": [
    "Answer is precise, it's more numerically stable than solution using inverse."
   ]
  },
  {
   "cell_type": "code",
   "execution_count": null,
   "id": "fac48433",
   "metadata": {},
   "outputs": [],
   "source": []
  },
  {
   "cell_type": "code",
   "execution_count": 79,
   "id": "84534d24",
   "metadata": {},
   "outputs": [
    {
     "name": "stderr",
     "output_type": "stream",
     "text": [
      "/var/folders/gl/1wq3nc9n0zz0yllzyg_px9vm0000gn/T/ipykernel_14964/4073112971.py:1: FutureWarning: `rcond` parameter will change to the default of machine precision times ``max(M, N)`` where M and N are the input matrix dimensions.\n",
      "To use the future default and silence this warning we advise to pass `rcond=None`, to keep using the old, explicitly pass `rcond=-1`.\n",
      "  np.linalg.lstsq(A, b)\n"
     ]
    },
    {
     "data": {
      "text/plain": [
       "(array([[1.],\n",
       "        [1.]]),\n",
       " array([8.]),\n",
       " 2,\n",
       " array([2.44949791e+00, 5.77348345e-06]))"
      ]
     },
     "execution_count": 79,
     "metadata": {},
     "output_type": "execute_result"
    }
   ],
   "source": [
    "np.linalg.lstsq(A, b)"
   ]
  },
  {
   "cell_type": "markdown",
   "id": "e780a897",
   "metadata": {},
   "source": [
    "np.linalg.lstsq solution is also correct, since it uses svd."
   ]
  },
  {
   "cell_type": "code",
   "execution_count": null,
   "id": "66e3a3b0",
   "metadata": {},
   "outputs": [],
   "source": []
  },
  {
   "cell_type": "markdown",
   "id": "6583ac75",
   "metadata": {},
   "source": [
    "Lets find 4 conditional numbers.\n",
    "\n",
    "1. Sensitivity of y to perturbations of b\n",
    "\n",
    "$$\n",
    "k_{yb} = \\frac{1}{cos \\theta}\n",
    "$$\n",
    "\n",
    "2. Sensitivity of y to perturbations of A\n",
    "\n",
    "$$\n",
    "k_{yA} = \\frac{k(A)}{cos \\theta}\n",
    "$$\n",
    "\n",
    "3. Sensitivity of x to perturbations of b\n",
    "\n",
    "$$\n",
    "k_{xb} = \\frac{k(A)}{n cos \\theta}\n",
    "$$\n",
    "\n",
    "4. Sensitivity of x to perturbations of A\n",
    "\n",
    "$$\n",
    "k_{xA} = k(A) + \\frac{k(A)^2 tan\\theta}{n}\n",
    "$$\n",
    "\n",
    "Where:\n",
    "\n",
    "$$\n",
    " n = \\frac{\\Vert A \\Vert\\Vert x \\Vert}{\\Vert A x \\Vert}\n",
    "$$\n",
    "\n",
    "$$\n",
    " k(A) = \\frac{\\sigma_{max}}{\\sigma_{min}}\n",
    "$$\n",
    "\n",
    "$$\n",
    " cos\\theta = \\frac{||y||}{||b||}\n",
    "$$\n",
    "\n",
    "$$\n",
    " tan\\theta = \\frac{||b - y||}{||y||}\n",
    "$$"
   ]
  },
  {
   "cell_type": "code",
   "execution_count": 80,
   "id": "869d6d49",
   "metadata": {},
   "outputs": [
    {
     "data": {
      "text/plain": [
       "array([[2.     ],\n",
       "       [2.00001],\n",
       "       [2.00001]])"
      ]
     },
     "execution_count": 80,
     "metadata": {},
     "output_type": "execute_result"
    }
   ],
   "source": [
    "y = A @x\n",
    "y"
   ]
  },
  {
   "cell_type": "code",
   "execution_count": 81,
   "id": "2f4f5a9e",
   "metadata": {},
   "outputs": [
    {
     "data": {
      "text/plain": [
       "array([2.44949791e+00, 5.77348345e-06])"
      ]
     },
     "execution_count": 81,
     "metadata": {},
     "output_type": "execute_result"
    }
   ],
   "source": [
    "_, S, _ = np.linalg.svd(A)\n",
    "S"
   ]
  },
  {
   "cell_type": "code",
   "execution_count": 82,
   "id": "28817676",
   "metadata": {},
   "outputs": [
    {
     "name": "stdout",
     "output_type": "stream",
     "text": [
      "k_a: 424266.8971462293\n",
      "n: 1.0000000000083336\n",
      "cos_theta: 0.7745977020348049\n",
      "tan_theta: 0.6324542671232443\n"
     ]
    }
   ],
   "source": [
    "# Calculate intermidiate values\n",
    "\n",
    "k_a = S[0] / S[1]\n",
    "print(f'k_a: {k_a}')\n",
    "\n",
    "n = np.linalg.norm(A) * np.linalg.norm(x) / np.linalg.norm(A @ x) \n",
    "print(f'n: {n}')\n",
    "\n",
    "cos_theta = np.linalg.norm(y) / np.linalg.norm(b)\n",
    "print(f'cos_theta: {cos_theta}')\n",
    "\n",
    "tan_theta = np.linalg.norm(b - y) / np.linalg.norm(b)\n",
    "print(f'tan_theta: {tan_theta}')"
   ]
  },
  {
   "cell_type": "code",
   "execution_count": 83,
   "id": "115c800b",
   "metadata": {},
   "outputs": [],
   "source": [
    "k_yb = 1 / cos_theta\n",
    "k_yA = k_a / cos_theta\n",
    "k_xb = k_a / (n * cos_theta)\n",
    "k_xA = k_a + (np.power(k_a, 2)*tan_theta) / n"
   ]
  },
  {
   "cell_type": "code",
   "execution_count": 84,
   "id": "12110a37",
   "metadata": {},
   "outputs": [
    {
     "name": "stdout",
     "output_type": "stream",
     "text": [
      "k_yb: 1.290992727415898\n",
      "k_yA: 547725.4786990909\n",
      "k_xb: 547725.4786945264\n",
      "k_xA: 113843710247.28421\n"
     ]
    }
   ],
   "source": [
    "print(f'k_yb: {k_yb}\\nk_yA: {k_yA}\\nk_xb: {k_xb}\\nk_xA: {k_xA}')"
   ]
  },
  {
   "cell_type": "code",
   "execution_count": null,
   "id": "e1008135",
   "metadata": {},
   "outputs": [],
   "source": []
  },
  {
   "cell_type": "code",
   "execution_count": null,
   "id": "8a2ef2f0",
   "metadata": {},
   "outputs": [],
   "source": []
  }
 ],
 "metadata": {
  "kernelspec": {
   "display_name": "Python 3 (ipykernel)",
   "language": "python",
   "name": "python3"
  },
  "language_info": {
   "codemirror_mode": {
    "name": "ipython",
    "version": 3
   },
   "file_extension": ".py",
   "mimetype": "text/x-python",
   "name": "python",
   "nbconvert_exporter": "python",
   "pygments_lexer": "ipython3",
   "version": "3.8.9"
  }
 },
 "nbformat": 4,
 "nbformat_minor": 5
}
