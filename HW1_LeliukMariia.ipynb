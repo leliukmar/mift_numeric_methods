{
 "cells": [
  {
   "cell_type": "markdown",
   "id": "c427bbd0",
   "metadata": {},
   "source": [
    "# 1.\n"
   ]
  },
  {
   "cell_type": "markdown",
   "id": "4c545eff",
   "metadata": {},
   "source": [
    "**Consider the matrix H(v) = ˆ1 − 2vvT, where v is a unit column vector. What is the rank of the matrix H(v)? Prove that it is orthogonal.**"
   ]
  },
  {
   "cell_type": "markdown",
   "id": "11bbbbf5",
   "metadata": {},
   "source": [
    "- Unit vector means: $v^T v = 1$\n",
    "- Prove orthogonality means prove that: $H^T*H = I$"
   ]
  },
  {
   "cell_type": "markdown",
   "id": "8433ec87",
   "metadata": {},
   "source": [
    "$H^T*H = (I - 2vv^T)(I - 2vv^T)^T = (I - 2vv^T)(I - (2vv^T)^T) = (I - 2vv^T)(I - 2(v^T)^Tv^T)= (I - 2vv^T)(I - 2vv^T) = I - 2vv^T - 2vv^T + 4v(v^Tv)v^T = I - 4vv^T + 4vv^T = I$ \n"
   ]
  },
  {
   "cell_type": "markdown",
   "id": "54bf7fe7",
   "metadata": {},
   "source": [
    "# 2."
   ]
  },
  {
   "cell_type": "markdown",
   "id": "a278f04d",
   "metadata": {},
   "source": [
    "**Prove the following inequalities and provide examples of x and A when they turn into equalities:**\n",
    "\n",
    "• $||x||_2 <= \\sqrt{m}||x||_{\\infty}$\n",
    "\n",
    "• $||A||_{\\infty}  <= \\sqrt{n} ||A||_2 $\n",
    "\n",
    "where x is a vector of m components and A is m × n matrix."
   ]
  },
  {
   "cell_type": "markdown",
   "id": "d2e3331e",
   "metadata": {},
   "source": [
    "**1).** $\\Vert x \\Vert_2 = \\sqrt{\\sum_{i=1}^m ||x_i||^2} <= \\sqrt{\\sum_{i=1}^m ||x||_{\\infty}^2} $ (because $||x||_{\\infty} = \\displaystyle{\\max_i} |x_i|$)  $ = \\sqrt{m *  ||x||_{\\infty}^2} = \\sqrt{m}||x||_{\\infty}$"
   ]
  },
  {
   "cell_type": "markdown",
   "id": "728a8c26",
   "metadata": {},
   "source": [
    "Inequality turns into equality when all elements of vector x are equal."
   ]
  },
  {
   "cell_type": "code",
   "execution_count": null,
   "id": "8394f0d8",
   "metadata": {},
   "outputs": [],
   "source": []
  },
  {
   "cell_type": "markdown",
   "id": "2b46fde5",
   "metadata": {},
   "source": [
    "**2).** Inequalities used for proof (vector x is of n elements):\n",
    "- **inequality 1**: $||x||_2 <= \\sqrt{n}||x||_{\\infty}$\n",
    "- **inequality 2**: $||x||_{\\infty} <= ||x||_2 $ (Proof: $\\Vert x \\Vert_2 = \\sqrt{\\sum_{i=1}^m ||x_i||^2} >= \\sqrt{||x||_{\\infty}^2} = ||x||_{\\infty}$ )\n",
    "- **inequality 3**: $||Ax||_{\\infty} <= ||x||_{\\infty} ||A||_{\\infty}$ (Proof: $||Ax||_{\\infty} = \\displaystyle{\\max_i} \\sum_{j=1}^n |a_{ij}|x_j <= \\displaystyle{\\max_i} \\sum_{j=1}^n |a_{ij}|||x||_{\\infty} = ||x||_{\\infty} \\displaystyle{\\max_i} \\sum_{j=1}^n |a_{ij}| = ||x||_{\\infty} ||A||_{\\infty}$)"
   ]
  },
  {
   "cell_type": "code",
   "execution_count": null,
   "id": "41cd81a2",
   "metadata": {},
   "outputs": [],
   "source": []
  },
  {
   "cell_type": "markdown",
   "id": "e5ce9d89",
   "metadata": {},
   "source": [
    "Proof:\n",
    "\n",
    "$ ||A||_2 = \\sup_{x \\ne 0} \\frac{||Ax||_2}{||x||_2} >= \\sup_{x \\ne 0} \\frac{||Ax||_2}{\\sqrt(n)||x||_{\\infty}} $  (from **inequality 1**)\n",
    "\n",
    "$\\sqrt{n}||A||_2 >= \\sup_{x \\ne 0} \\frac{||Ax||_2}{||x||_{\\infty}} >= \\sup_{x \\ne 0} \\frac{||Ax||_{\\infty}}{||x||_{\\infty}} $ (from **inequality 2**) $ = \\frac{||x||_{\\infty} ||A||_{\\infty}}{||x||_{\\infty}} $ (from **inequality 3**, supremum is found when it turns to equality)\n",
    "\n",
    "$\\sqrt{n}||A||_2 >= ||A||_{\\infty} $"
   ]
  },
  {
   "cell_type": "code",
   "execution_count": null,
   "id": "f6e24a2d",
   "metadata": {},
   "outputs": [],
   "source": []
  },
  {
   "cell_type": "markdown",
   "id": "31f5c956",
   "metadata": {},
   "source": [
    "# 3."
   ]
  },
  {
   "cell_type": "markdown",
   "id": "187b5443",
   "metadata": {},
   "source": [
    "**Assuming u and v are m-vectors, consider the matrix A = 1 + uvT which is a rank-one perturbation\n",
    "of identity. Can it be singular? Assuming it is not, compute its inverse. You may look for it in a form of A−1 = 1 + αuvT for some scalar α and evaluate α.**"
   ]
  },
  {
   "cell_type": "markdown",
   "id": "85254cc2",
   "metadata": {},
   "source": [
    "**1).Check for singularity**\n",
    "For A to be singular it must satisfy: $Ax = 0$ for some x.\n",
    "\n",
    "$(I + uv^T)*x = 0$\n",
    "\n",
    "$x + u(v^Tx) = 0$\n",
    "\n",
    "$u(v^Tx) = -x $  \n",
    "\n",
    "Let $b = -(v^Tx) => x = bu$ \n",
    "\n",
    "$u(v^Tbu) = -bu $  \n",
    "\n",
    "$bu(v^Tu) = -bu $  \n",
    "\n",
    "$v^Tu = -1$ \n",
    "\n",
    "So A can be singular if $v^Tu = -1$ "
   ]
  },
  {
   "cell_type": "code",
   "execution_count": null,
   "id": "2fe4aa7c",
   "metadata": {},
   "outputs": [],
   "source": []
  },
  {
   "cell_type": "markdown",
   "id": "55e79ade",
   "metadata": {},
   "source": [
    "**2). Find *a* for non-singular A** \n",
    "\n",
    "$A^{-1} = (I + auv^T)$\n",
    "\n",
    "$AA^{-1} = I$\n",
    "\n",
    "$(I + uv^T)(I + auv^T) = I$\n",
    "\n",
    "$I + uv^T + auv^T + auv^Tuv^T = I$\n",
    "\n",
    "$uv^T + auv^T + au(v^Tu)v^T = 0$\n",
    "\n",
    "$uv^T(1 + a + a(v^Tu)) = 0$\n",
    "\n",
    "$1 + a + a(v^Tu) = 0$\n",
    "\n",
    "$a = -\\frac{1}{1 + v^Tu}$"
   ]
  },
  {
   "cell_type": "code",
   "execution_count": null,
   "id": "d47339be",
   "metadata": {},
   "outputs": [],
   "source": []
  },
  {
   "cell_type": "markdown",
   "id": "e87c9bdc",
   "metadata": {},
   "source": [
    "# 4."
   ]
  },
  {
   "cell_type": "markdown",
   "id": "7e246aa0",
   "metadata": {},
   "source": [
    "**Prove that for any unitary matrix U one has $∥UA∥_F = ∥AU∥_F = ∥A∥_F$**"
   ]
  },
  {
   "cell_type": "markdown",
   "id": "834cf101",
   "metadata": {},
   "source": [
    "Lets assume U and A have m×m size"
   ]
  },
  {
   "cell_type": "markdown",
   "id": "e79e7ee7",
   "metadata": {},
   "source": [
    "Unitary matrix: $U^TU = I$\n",
    "\n",
    "Frobenius norm: $|A|_{\\text{F}}={\\sqrt {\\sum _{i=1}^{m}\\sum _{j=1}^{m}|a_{ij}|^{2}}}$\n"
   ]
  },
  {
   "cell_type": "markdown",
   "id": "e009aec9",
   "metadata": {},
   "source": [
    "**1 ). Proof of** $∥UA∥_F = ∥A∥_F$\n",
    "\n",
    "\n",
    "$Q = UA, q_{ij} =  {\\sum _{k=1}^{m} U_{ik}A_{kj}} $\n",
    "\n",
    "$|UA|_{\\text{F}}={\\sqrt {\\sum _{i=1}^{m}\\sum _{j=1}^{m}(\\sum _{k=1}^{m} U_{ik}A_{kj})^{2}}} = {\\sqrt {\\sum _{i=1}^{m}(\\sum _{j=1}^{m}(\\sum _{k=1}^{m} U_{ik}A_{kj})^{2})}}$\n",
    "\n",
    "Let $A_j$ be j-th column vector of A. Then $UA_j$ is also a vector column with element $p_i = \\sum _{k=1}^{m} U_{ik}A_{kj}$.\n",
    "\n",
    "Then $(UA_j)^TUA_j =  \\sum _{j=1}^{m}(\\sum _{k=1}^{m} U_{ik}A_{kj})^{2}$. \n",
    "\n",
    "=> $|UA|_{\\text{F}} = {\\sqrt {\\sum _{i=1}^{m} (UA_j)^T(UA_j)}} = {\\sqrt {\\sum _{i=1}^{m} A_j^T(U^TU)A_j}} = {\\sqrt {\\sum _{i=1}^{m} A_j^TA_j}} = |A|_{\\text{F}}$"
   ]
  },
  {
   "cell_type": "markdown",
   "id": "3e0b99d4",
   "metadata": {},
   "source": [
    "**2 ). Proof of** $∥AU∥_F = ∥A∥_F$\n",
    "\n",
    "\n",
    "$|AU|_{\\text{F}} = |(U^TA^T)^T|_{\\text{F}} = $ (Frobenius norm doesn't change with transpose) = $ |(U^TA^T)|_{\\text{F}} $\n",
    "\n",
    "$U^T$ is also a unitary matrix and by proven in part 1 => $|U^TA^T|_F = |A^T|_F = |A|_F$"
   ]
  },
  {
   "cell_type": "code",
   "execution_count": null,
   "id": "1fd56326",
   "metadata": {},
   "outputs": [],
   "source": []
  },
  {
   "cell_type": "markdown",
   "id": "1bea916d",
   "metadata": {},
   "source": [
    "# 5.  "
   ]
  },
  {
   "cell_type": "code",
   "execution_count": 1,
   "id": "719c6902",
   "metadata": {},
   "outputs": [],
   "source": [
    "import numpy as np \n",
    "import matplotlib.pyplot as plt "
   ]
  },
  {
   "cell_type": "code",
   "execution_count": 2,
   "id": "0618c132",
   "metadata": {},
   "outputs": [],
   "source": [
    "def scatter_plot(data, col=None):\n",
    "    from mpl_toolkits.mplot3d import Axes3D \n",
    "    %matplotlib inline\n",
    "    fig = plt.figure()\n",
    "    ax = fig.add_subplot(111, projection='3d')\n",
    "    ax.scatter(data[:,0], data[:,1], data[:,2], s = 0.5, color=col)\n",
    "    plt.show()"
   ]
  },
  {
   "cell_type": "code",
   "execution_count": 3,
   "id": "26daecf1",
   "metadata": {},
   "outputs": [],
   "source": [
    "N = 10000\n",
    "K = 3\n",
    "d = 3\n",
    "L = 10"
   ]
  },
  {
   "cell_type": "code",
   "execution_count": 4,
   "id": "9033681d",
   "metadata": {},
   "outputs": [],
   "source": [
    "# Generate some data\n",
    "np.random.seed(42)\n",
    "mu_true = np.random.uniform(-L, L, size = (K, d))\n",
    "data = np.random.normal(mu_true, size = (N, K, d))\n",
    "data = np.vstack(data)\n",
    "np.random.shuffle(data)"
   ]
  },
  {
   "cell_type": "code",
   "execution_count": 5,
   "id": "0153814a",
   "metadata": {},
   "outputs": [],
   "source": [
    "mu_init = data[np.random.choice(range(data.shape[0]), K, replace=False)]"
   ]
  },
  {
   "cell_type": "code",
   "execution_count": 6,
   "id": "3ba5bcc6",
   "metadata": {},
   "outputs": [],
   "source": [
    "def dist_i(x, mu):\n",
    "    # x: N datapoints, mu: N cluster centers\n",
    "    # returns: D_{i}, squared distances from x[i] to mu[i]\n",
    "    dist = np.zeros(x.shape[0])\n",
    "    for i in range(x.shape[0]):\n",
    "        dist[i] = np.sum((x[i] - mu[i])**2)\n",
    "    return dist\n",
    "\n",
    "def dist_ij(x, mu):\n",
    "    # x: N datapoints, mu: K cluster centers\n",
    "    # returns: D_{ij}, squared distances from x[i] to mu[j]\n",
    "    dist = np.zeros((x.shape[0], mu.shape[0]))\n",
    "    for i in range(x.shape[0]):\n",
    "        for j in range(mu.shape[0]):\n",
    "            # mu[j] - cluster number j\n",
    "            dist[i, j] += np.sum((x[i] - mu[j])**2)\n",
    "    return dist"
   ]
  },
  {
   "cell_type": "code",
   "execution_count": 7,
   "id": "72e97cfb",
   "metadata": {},
   "outputs": [],
   "source": [
    "# 1. Improved version - get rid of loops \n",
    "def dist_i_no_loops(x, mu):\n",
    "    # x: N datapoints, mu: N cluster centers\n",
    "    # returns: D_{i}, squared distances from x[i] to mu[i]\n",
    "    return np.sum(np.square(data - mu), axis=1)\n",
    "\n",
    "def dist_ij_no_loops(x, mu):\n",
    "    # x: N datapoints, mu: K cluster centers\n",
    "    # returns: D_{ij}, squared distances from x[i] to mu[j]\n",
    "    cluster_num = mu.shape[0]\n",
    "    # repeat each point's coordinates 3 times to match number of clusters\n",
    "    data_extended = np.tile(data[:], cluster_num).reshape((*data.shape, cluster_num))\n",
    "    return np.sum(np.square(data_extended - mu), axis=2)"
   ]
  },
  {
   "cell_type": "code",
   "execution_count": 8,
   "id": "cc83d48e",
   "metadata": {},
   "outputs": [],
   "source": [
    "def k_means(data, mu_init, version=\"init\"):\n",
    "    mu = mu_init.copy()\n",
    "    ss_list = []\n",
    "    for n in range(10):\n",
    "        if version == \"init\":\n",
    "            c =  np.argmin(dist_ij(data, mu), axis = 1)\n",
    "            ss = np.mean(dist_i(data, mu[c]))\n",
    "        elif version == \"no_loops\":\n",
    "            c =  np.argmin(dist_ij_no_loops(data, mu), axis = 1)\n",
    "            ss = np.mean(dist_i_no_loops(data, mu[c]))\n",
    "        else:\n",
    "            raise f\"Unknow type {version}\"\n",
    "\n",
    "        ss_list.append(ss)    \n",
    "        for i in range(K):\n",
    "            cluster_members = data[c == i]\n",
    "            # mean value across each axis\n",
    "            cluster_members = cluster_members.mean(axis = 0)\n",
    "            mu[i] = cluster_members\n",
    "    return ss_list, c"
   ]
  },
  {
   "cell_type": "code",
   "execution_count": 9,
   "id": "4b66fe8f",
   "metadata": {},
   "outputs": [
    {
     "name": "stdout",
     "output_type": "stream",
     "text": [
      "2.99 s ± 14.5 ms per loop (mean ± std. dev. of 7 runs, 4 loops each)\n",
      "29.2 ms ± 402 µs per loop (mean ± std. dev. of 7 runs, 4 loops each)\n"
     ]
    }
   ],
   "source": [
    "%timeit -n 4 k_means(data, mu_init, \"init\")\n",
    "%timeit -n 4 k_means(data, mu_init, \"no_loops\")"
   ]
  },
  {
   "cell_type": "markdown",
   "id": "dc15ef7b",
   "metadata": {},
   "source": [
    "Algorithm without loops is **100 times faster**"
   ]
  },
  {
   "cell_type": "code",
   "execution_count": null,
   "id": "ad74c50d",
   "metadata": {},
   "outputs": [],
   "source": []
  },
  {
   "cell_type": "markdown",
   "id": "55567e7e",
   "metadata": {},
   "source": [
    "Check functions return the same values"
   ]
  },
  {
   "cell_type": "code",
   "execution_count": 14,
   "id": "f5009ab3",
   "metadata": {},
   "outputs": [
    {
     "data": {
      "text/plain": [
       "True"
      ]
     },
     "execution_count": 14,
     "metadata": {},
     "output_type": "execute_result"
    }
   ],
   "source": [
    "k_means(data, mu_init, \"init\")[0] == k_means(data, mu_init, \"no_loops\")[0]"
   ]
  },
  {
   "cell_type": "code",
   "execution_count": 15,
   "id": "eb41a248",
   "metadata": {},
   "outputs": [],
   "source": [
    "def print_data(means):\n",
    "    ss_list, c = means\n",
    "    plt.plot(ss_list)\n",
    "    colors = np.array([plt.cm.cool(i/(K-1)) for i in range(K)])\n",
    "    if d == 3:\n",
    "        scatter_plot(data, colors[c])"
   ]
  },
  {
   "cell_type": "code",
   "execution_count": 16,
   "id": "2a7e794c",
   "metadata": {},
   "outputs": [
    {
     "data": {
      "image/png": "[encoded data removed]",
      "text/plain": [
       "<Figure size 432x288 with 1 Axes>"
      ]
     },
     "metadata": {
      "needs_background": "light"
     },
     "output_type": "display_data"
    }
   ],
   "source": [
    "print_data(k_means(data, mu_init, \"init\"))"
   ]
  },
  {
   "cell_type": "code",
   "execution_count": 17,
   "id": "6fc999ee",
   "metadata": {},
   "outputs": [
    {
     "data": {
      "image/png": "[encoded data removed]",
      "text/plain": [
       "<Figure size 432x288 with 1 Axes>"
      ]
     },
     "metadata": {
      "needs_background": "light"
     },
     "output_type": "display_data"
    }
   ],
   "source": [
    "print_data(k_means(data, mu_init, \"no_loops\"))"
   ]
  },
  {
   "cell_type": "code",
   "execution_count": null,
   "id": "9de5bbb3",
   "metadata": {},
   "outputs": [],
   "source": []
  },
  {
   "cell_type": "markdown",
   "id": "60058da7",
   "metadata": {},
   "source": [
    "# 6. "
   ]
  },
  {
   "cell_type": "markdown",
   "id": "e99a3d28",
   "metadata": {},
   "source": [
    "Some things just can not be vectorized but still can be sped up compared to naive implementation. For\n",
    "example, consider computation of the Hofstadter-Conway sequence a(n) such that a(1) = 1, a(2) = 1 and\n",
    "a(n) = a(a(n − 1)) + a(n − a(n − 1)), n > 2"
   ]
  },
  {
   "cell_type": "code",
   "execution_count": 25,
   "id": "da9da8d4",
   "metadata": {},
   "outputs": [],
   "source": [
    "import numpy as np\n",
    "from numba import jit\n",
    "\n",
    "# i).\n",
    "def get_sequence_i(n):\n",
    "    assert(n > 0)\n",
    "    seq = np.zeros(n, dtype='int64')\n",
    "    for i in range(n):\n",
    "        if i < 2:\n",
    "            seq[i] = 1\n",
    "            continue\n",
    "        seq[i] = seq[seq[i-1] - 1] + seq[i - seq[i-1]]\n",
    "    return seq\n",
    "\n",
    "# ii)\n",
    "def get_sequence_ii(n):\n",
    "    assert(n > 0)\n",
    "    seq = list()\n",
    "    for i in range(n):\n",
    "        if i < 2:\n",
    "            seq.append(1)\n",
    "            continue\n",
    "        seq.append(seq[seq[i-1] - 1] + seq[i - seq[i-1]])\n",
    "    return np.array(seq)\n",
    "   \n",
    "# iii)\n",
    "@jit(nopython=True)\n",
    "def get_sequence_iii(n):\n",
    "    assert(n > 0)\n",
    "    seq = np.zeros(n, dtype='int64')\n",
    "    for i in range(n):\n",
    "        if i < 2:\n",
    "            seq[i] = 1\n",
    "            continue\n",
    "        seq[i] = seq[seq[i-1] - 1] + seq[i - seq[i-1]]\n",
    "    return seq"
   ]
  },
  {
   "cell_type": "code",
   "execution_count": 26,
   "id": "f1b83977",
   "metadata": {},
   "outputs": [
    {
     "name": "stdout",
     "output_type": "stream",
     "text": [
      "41.5 ms ± 7.29 ms per loop (mean ± std. dev. of 7 runs, 2 loops each)\n",
      "17.5 ms ± 95.6 µs per loop (mean ± std. dev. of 7 runs, 2 loops each)\n",
      "The slowest run took 90.63 times longer than the fastest. This could mean that an intermediate result is being cached.\n",
      "4.82 ms ± 10.9 ms per loop (mean ± std. dev. of 7 runs, 2 loops each)\n"
     ]
    }
   ],
   "source": [
    "N = 100000\n",
    "\n",
    "%timeit -n 2 get_sequence_i(N)\n",
    "%timeit -n 2 get_sequence_ii(N)\n",
    "%timeit -n 2 get_sequence_iii(N)"
   ]
  },
  {
   "cell_type": "markdown",
   "id": "9b506c50",
   "metadata": {},
   "source": [
    "**Answer**: the last function (using numba) is the most efficient."
   ]
  },
  {
   "cell_type": "code",
   "execution_count": null,
   "id": "8820d5da",
   "metadata": {},
   "outputs": [],
   "source": []
  },
  {
   "cell_type": "code",
   "execution_count": 27,
   "id": "b698a044",
   "metadata": {},
   "outputs": [
    {
     "name": "stdout",
     "output_type": "stream",
     "text": [
      "424 ms ± 11.4 ms per loop (mean ± std. dev. of 7 runs, 2 loops each)\n"
     ]
    }
   ],
   "source": [
    "N = 10**8\n",
    "%timeit -n 2 get_sequence_iii(N)"
   ]
  },
  {
   "cell_type": "code",
   "execution_count": null,
   "id": "e0f4ec6d",
   "metadata": {},
   "outputs": [],
   "source": []
  },
  {
   "cell_type": "markdown",
   "id": "6733d01f",
   "metadata": {},
   "source": [
    "# 7."
   ]
  },
  {
   "cell_type": "code",
   "execution_count": 28,
   "id": "dbce24de",
   "metadata": {},
   "outputs": [],
   "source": [
    "import numpy as np\n",
    "import itertools"
   ]
  },
  {
   "cell_type": "code",
   "execution_count": 29,
   "id": "340ae2d7",
   "metadata": {},
   "outputs": [],
   "source": [
    "c = 3\n",
    "\n",
    "# Generate some data\n",
    "np.random.seed(42)\n",
    "lambda1 = np.random.normal(size=(c, c))\n",
    "lambda2 = np.random.normal(size=(c, c))\n",
    "lambda3 = np.random.normal(size=(c, c))\n",
    "G1 = np.random.normal(size=(c, c, c))\n",
    "G2 = np.random.normal(size=(c, c, c))\n",
    "U = np.random.normal(size=(c, c, c, c))"
   ]
  },
  {
   "cell_type": "code",
   "execution_count": 30,
   "id": "b4d36a76",
   "metadata": {},
   "outputs": [],
   "source": [
    "def Z_naive(lambda1, lambda2, lambda3, G1, G2, U):\n",
    "    c = lambda1.shape[0]\n",
    "    Z = np.zeros(shape=(c, c, c, c))\n",
    "    for a, b, c, d, e, f, g, h, i, j in itertools.product(*([range(c)]*10)):\n",
    "        Z[a, h, i, j] += lambda1[a, b]*lambda2[d, e]*lambda3[g, h]*G1[c, b, d]*G2[f, e, g]*U[i, j, c, f]\n",
    "    return Z"
   ]
  },
  {
   "cell_type": "code",
   "execution_count": null,
   "id": "b7535f35",
   "metadata": {},
   "outputs": [],
   "source": []
  },
  {
   "cell_type": "code",
   "execution_count": 31,
   "id": "da9a2e4a",
   "metadata": {},
   "outputs": [
    {
     "name": "stdout",
     "output_type": "stream",
     "text": [
      "['einsum_path', (0, 3), (0, 2), (0, 3), (1, 2), (0, 1)]\n",
      "  Complete contraction:  ab,de,gh,cbd,feg,ijcf->ahij\n",
      "         Naive scaling:  10\n",
      "     Optimized scaling:  6\n",
      "      Naive FLOP count:  3.543e+05\n",
      "  Optimized FLOP count:  2.431e+03\n",
      "   Theoretical speedup:  145.740\n",
      "  Largest intermediate:  8.100e+01 elements\n",
      "--------------------------------------------------------------------------\n",
      "scaling                  current                                remaining\n",
      "--------------------------------------------------------------------------\n",
      "   4                 cbd,ab->acd                 de,gh,feg,ijcf,acd->ahij\n",
      "   4                 feg,de->dfg                    gh,ijcf,acd,dfg->ahij\n",
      "   4                 dfg,gh->dfh                       ijcf,acd,dfh->ahij\n",
      "   5               dfh,acd->acfh                          ijcf,acfh->ahij\n",
      "   6             acfh,ijcf->ahij                               ahij->ahij\n"
     ]
    }
   ],
   "source": [
    "p = np.einsum_path('ab,de,gh,cbd,feg,ijcf->ahij', lambda1, lambda2, lambda3, G1, G2, U, optimize='optimal')\n",
    "print(p[0])\n",
    "print(p[1])"
   ]
  },
  {
   "cell_type": "markdown",
   "id": "cba31fcf",
   "metadata": {},
   "source": [
    "**Minimal number of flops**: 2431\n",
    "\n",
    "Scaling is reduced from c^10 to c^6"
   ]
  },
  {
   "cell_type": "code",
   "execution_count": null,
   "id": "d44e918f",
   "metadata": {},
   "outputs": [],
   "source": []
  },
  {
   "cell_type": "code",
   "execution_count": 32,
   "id": "cb13b580",
   "metadata": {},
   "outputs": [],
   "source": [
    "def Z_optimized(lambda1, lambda2, lambda3, G1, G2, U):\n",
    "    acd = np.tensordot(lambda1, G1, axes=(1, 1))\n",
    "    dfg = np.tensordot(lambda2, G2, axes=(1, 1))\n",
    "    dfh = np.dot(dfg, lambda3) #  sum product over the last axis of `a` and the second-to-last axis of `b`\n",
    "    acfh = np.tensordot(acd, dfh, axes=(2, 0))\n",
    "    ahij = np.tensordot(acfh, U, axes=([1,2],[2,3]))\n",
    "    return ahij"
   ]
  },
  {
   "cell_type": "code",
   "execution_count": 33,
   "id": "bb5cf59f",
   "metadata": {},
   "outputs": [
    {
     "name": "stdout",
     "output_type": "stream",
     "text": [
      "49.3 ms ± 221 µs per loop (mean ± std. dev. of 7 runs, 10 loops each)\n"
     ]
    }
   ],
   "source": [
    "%%timeit\n",
    "Z_naive(lambda1, lambda2, lambda3, G1, G2, U)"
   ]
  },
  {
   "cell_type": "code",
   "execution_count": 34,
   "id": "041ffefe",
   "metadata": {},
   "outputs": [
    {
     "name": "stdout",
     "output_type": "stream",
     "text": [
      "28.2 µs ± 78.9 ns per loop (mean ± std. dev. of 7 runs, 10,000 loops each)\n"
     ]
    }
   ],
   "source": [
    "%%timeit\n",
    "Z_optimized(lambda1, lambda2, lambda3, G1, G2, U)"
   ]
  },
  {
   "cell_type": "code",
   "execution_count": null,
   "id": "5e8b2906",
   "metadata": {},
   "outputs": [],
   "source": []
  },
  {
   "cell_type": "markdown",
   "id": "57d84732",
   "metadata": {},
   "source": [
    "Check functions return the same values"
   ]
  },
  {
   "cell_type": "code",
   "execution_count": 35,
   "id": "0e516c8d",
   "metadata": {},
   "outputs": [
    {
     "data": {
      "text/plain": [
       "True"
      ]
     },
     "execution_count": 35,
     "metadata": {},
     "output_type": "execute_result"
    }
   ],
   "source": [
    "np.allclose(Z_naive(lambda1, lambda2, lambda3, G1, G2, U), Z_optimized(lambda1, lambda2, lambda3, G1, G2, U))"
   ]
  },
  {
   "cell_type": "code",
   "execution_count": null,
   "id": "e2b8b998",
   "metadata": {},
   "outputs": [],
   "source": []
  }
 ],
 "metadata": {
  "kernelspec": {
   "display_name": "Python 3 (ipykernel)",
   "language": "python",
   "name": "python3"
  },
  "language_info": {
   "codemirror_mode": {
    "name": "ipython",
    "version": 3
   },
   "file_extension": ".py",
   "mimetype": "text/x-python",
   "name": "python",
   "nbconvert_exporter": "python",
   "pygments_lexer": "ipython3",
   "version": "3.8.9"
  }
 },
 "nbformat": 4,
 "nbformat_minor": 5
}
